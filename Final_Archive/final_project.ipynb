{
 "cells": [
  {
   "cell_type": "markdown",
   "id": "55e40909",
   "metadata": {},
   "source": [
    "# **Job Placement Predictor**\n",
    "\n",
    "**Submitted by Group 33**  \n",
    "- Ashmit Gupta  \n",
    "- Jolin Lin  \n",
    "- Shikha Rajesh  \n",
    "- Siddhanth Duggal  \n",
    "- Yu Chang 47945050\n",
    "\n",
    "**The University of British Columbia**  \n",
    "**STAT 301**  \n",
    "**Instructor**: Dr. Gabriela Cohen Freue  \n",
    "**Date**: 2025/04/10\n"
   ]
  },
  {
   "cell_type": "markdown",
   "id": "2c1cf8bd",
   "metadata": {},
   "source": [
    "# 1. Introduction"
   ]
  },
  {
   "cell_type": "markdown",
   "id": "91953b59",
   "metadata": {},
   "source": [
    "Start with relevant background information on the topic to prepare those unfamiliar for the rest of your proposal. Motivate the question you are about to add.\n",
    "\n",
    "Formulate one or two questions for investigation indicating if the primary goal is inference or prediction. Make sure that the question(s) can be answer with the data available. For example, you won't be able to quantify the \"effect of X on Y\" or \"the influence of X on Y\" or \"how X affects Y\" using the methods learned in class and observational data.\n",
    "\n",
    "If available, align your question/objectives with the existing literature on the topic. You can add a reference to a scientific publication if available and listed in the References section (not mandatory). "
   ]
  },
  {
   "cell_type": "markdown",
   "id": "6f70ddca",
   "metadata": {},
   "source": [
    "**Question:** How well can we build a model to accurately predict the placement status of a student based on their relavent activities and scores? \n",
    "\n",
    "... smt like this, as we talked with TAs"
   ]
  },
  {
   "cell_type": "markdown",
   "id": "de96ba00",
   "metadata": {},
   "source": [
    "# 2. Methods and Results"
   ]
  },
  {
   "cell_type": "markdown",
   "id": "5ee0e58b",
   "metadata": {},
   "source": [
    "### **a) Data**"
   ]
  },
  {
   "cell_type": "markdown",
   "id": "ce548356",
   "metadata": {},
   "source": [
    "**Data Source:** The dataset has been taken from Kaggle (https://www.kaggle.com/datasets/ruchikakumbhar/placement-prediction-dataset/data) updated 2 months ago by Kaggle username 'ruchikakumbhar'. It is under the 'CC0: Public Domain' License so the Kaggle user does not endorse this dataset. This also means it is freely available for us to use. The data collection method is not provided in the author's profile nor on the Kaggle dataset webpage, so we would assume it's **observational data**."
   ]
  },
  {
   "cell_type": "markdown",
   "id": "629e3944",
   "metadata": {},
   "source": [
    "**Data Description:** The dataset contains various columns about the academic performance and the placement status (secured a job after graduation or not) of students. Notably, it has the following features:\n",
    "- Number of variables: 12\n",
    "- Number of observations: 10,000\n",
    "- Variable Information: Included in the following table"
   ]
  },
  {
   "cell_type": "markdown",
   "id": "6a529e22",
   "metadata": {},
   "source": [
    "| Variable Name               | Data Type   | Description |\n",
    "|-----------------------------|------------|-------------|\n",
    "| `StudentID`                 | Integer(Unique)   | Unique identifier for each student. |\n",
    "| `CGPA`                      | Numeric    | Cumulative Grade Point Average of the student.This is an important variable because generally speaking Higher CGPA generally indicates better academic performance thus easier to be **placed**. |\n",
    "| `Internships`               | Integer   | Number of internships a student has completed, which provides industry exposure. Can be 0,1, or 2 |\n",
    "| `Projects`                  | Integer    | Number of academic or personal projects completed by the student. |\n",
    "| `Workshops/Certifications`  | Integer    | Number of online workshops or certifications undertaken to enhance skills. |\n",
    "| `AptitudeTestScore`         | Integer    | Score obtained in an aptitude test (part of recruitment) that evaluates logical reasoning and quantitative skills. |\n",
    "| `SoftSkillsRating`          | Numeric    | Rating of soft skills (e.g., communication) on a scale. |\n",
    "| `ExtracurricularActivities` | Categorical (Yes/No) | Indicates whether the student has participated in extracurricular activities. This provides insight into an individual's personality and engagement beyond academics. |\n",
    "| `PlacementTraining`         | Categorical (Yes/No) | Specifies if the student has undergone placement training at the institution. |\n",
    "| `SSC_Marks`                 | Numeric    | Marks obtained in Senior Secondary Certificate (10th-grade equivalent). |\n",
    "| `HSC_Marks`                 | Numeric    | Marks obtained in Higher Secondary Certificate (12th-grade equivalent). |\n",
    "| `PlacementStatus`           | Categorical (Placed/Not Placed) | **Target Variable**: Indicates whether the student was placed in a job or not. |"
   ]
  },
  {
   "cell_type": "markdown",
   "id": "f63db535",
   "metadata": {},
   "source": [
    "### **Citation**\n",
    "Kumbhar, R. (n.d.). *Placement Prediction Dataset*. Kaggle. Retrieved from [https://www.kaggle.com/datasets/ruchikakumbhar/placement-prediction-dataset/data](https://www.kaggle.com/datasets/ruchikakumbhar/placement-prediction-dataset/data)"
   ]
  },
  {
   "cell_type": "markdown",
   "id": "834edbb0",
   "metadata": {},
   "source": [
    "### **Data Loading**"
   ]
  },
  {
   "cell_type": "code",
   "execution_count": null,
   "id": "2c9914e5",
   "metadata": {
    "vscode": {
     "languageId": "r"
    }
   },
   "outputs": [],
   "source": [
    "# install.packages(\"readr\")\n",
    "# install.packages(\"knitr\") \n",
    "# install.packages(\"dplyr\")\n",
    "# install.packages(\"broom\")\n",
    "# install.packages(\"corrr\")\n",
    "# install.packages(\"car\")\n",
    "# install.packages(\"tidyverse\")\n",
    "# install.packages(\"readr\")\n",
    "# install.packages(\"gridExtra\")\n",
    "# install.packages(\"leaps\")\n",
    "# install.packages(\"corrplot\")\n",
    "# install.packages(\"caret\")\n",
    "\n",
    "#Loading Libs\n",
    "library(readr)\n",
    "library(knitr)\n",
    "library(dplyr)\n",
    "library(broom)\n",
    "library(corrr)\n",
    "library(car)\n",
    "library(tidyverse)\n",
    "library(ggplot2)\n",
    "library(gridExtra)\n",
    "library(leaps)\n",
    "library(corrplot)\n",
    "library(RColorBrewer)\n",
    "library(dplyr)\n",
    "library(caret)\n",
    "library(tibble)\n",
    "library(forcats)\n",
    "library(pROC)"
   ]
  },
  {
   "cell_type": "code",
   "execution_count": 186,
   "id": "d02f5e2d",
   "metadata": {
    "vscode": {
     "languageId": "r"
    }
   },
   "outputs": [
    {
     "name": "stdout",
     "output_type": "stream",
     "text": [
      "Number of observations: 10000 \n",
      "Number of variables: 12 \n"
     ]
    }
   ],
   "source": [
    "data_file_link <- \"https://raw.githubusercontent.com/rainn72/Placement_predictor/refs/heads/main/data/placementdata.csv\"\n",
    "data <- read_csv(data_file_link, show_col_types = FALSE)\n",
    "\n",
    "original_data <- data\n",
    "num_observations <- nrow(data)\n",
    "num_variables <- ncol(data)\n",
    "cat(\"Number of observations:\", num_observations, \"\\n\")\n",
    "cat(\"Number of variables:\", num_variables, \"\\n\")"
   ]
  },
  {
   "cell_type": "markdown",
   "id": "32517b37",
   "metadata": {},
   "source": [
    "### **Initial Data Preprocessing**\n",
    "\n",
    "1. we checked if there're duplicated values in the dataset and there are no duplicates that we need to remove."
   ]
  },
  {
   "cell_type": "code",
   "execution_count": 187,
   "id": "fe759249",
   "metadata": {
    "vscode": {
     "languageId": "r"
    }
   },
   "outputs": [
    {
     "data": {
      "text/html": [
       "<table class=\"dataframe\">\n",
       "<caption>A tibble: 0 × 2</caption>\n",
       "<thead>\n",
       "\t<tr><th scope=col>StudentID</th><th scope=col>value_count</th></tr>\n",
       "\t<tr><th scope=col>&lt;dbl&gt;</th><th scope=col>&lt;int&gt;</th></tr>\n",
       "</thead>\n",
       "<tbody>\n",
       "</tbody>\n",
       "</table>\n"
      ],
      "text/latex": [
       "A tibble: 0 × 2\n",
       "\\begin{tabular}{ll}\n",
       " StudentID & value\\_count\\\\\n",
       " <dbl> & <int>\\\\\n",
       "\\hline\n",
       "\\end{tabular}\n"
      ],
      "text/markdown": [
       "\n",
       "A tibble: 0 × 2\n",
       "\n",
       "| StudentID &lt;dbl&gt; | value_count &lt;int&gt; |\n",
       "|---|---|\n",
       "\n"
      ],
      "text/plain": [
       "     StudentID value_count"
      ]
     },
     "metadata": {},
     "output_type": "display_data"
    }
   ],
   "source": [
    "duplicate_values <- data %>% \n",
    "                    group_by(StudentID) %>% \n",
    "                    summarise(value_count = n()) %>%\n",
    "                    filter(value_count > 1)\n",
    "                    \n",
    "duplicate_values"
   ]
  },
  {
   "cell_type": "markdown",
   "id": "8bdb6749",
   "metadata": {},
   "source": [
    "2. We dropped the variable `StudentID` from out dataset with the following reasons:\n",
    "\n",
    "* **No Predictive Power:** It is simply a unique identifier assigned to each observation (each student). It's not correlated with the student's academic performance. Therefore, it does not help the model distinguish between students who are placed and those who are not.\n",
    "* **Simplicity and Clarity:** Excluding irrelevant variables like IDs keeps our dataset cleaner and our model more interpretable.\n"
   ]
  },
  {
   "cell_type": "code",
   "execution_count": 188,
   "id": "7f2f8738",
   "metadata": {
    "vscode": {
     "languageId": "r"
    }
   },
   "outputs": [],
   "source": [
    "data <- data %>% select(-StudentID)"
   ]
  },
  {
   "cell_type": "markdown",
   "id": "4b9d42b4",
   "metadata": {},
   "source": [
    "3. We changed the name of a covariate because it(\"/\") may raise errors in some following code"
   ]
  },
  {
   "cell_type": "code",
   "execution_count": 189,
   "id": "656a0090",
   "metadata": {
    "vscode": {
     "languageId": "r"
    }
   },
   "outputs": [
    {
     "data": {
      "text/html": [
       "<table class=\"dataframe\">\n",
       "<caption>A tibble: 3 × 11</caption>\n",
       "<thead>\n",
       "\t<tr><th scope=col>CGPA</th><th scope=col>Internships</th><th scope=col>Projects</th><th scope=col>Workshops_Certifications</th><th scope=col>AptitudeTestScore</th><th scope=col>SoftSkillsRating</th><th scope=col>ExtracurricularActivities</th><th scope=col>PlacementTraining</th><th scope=col>SSC_Marks</th><th scope=col>HSC_Marks</th><th scope=col>PlacementStatus</th></tr>\n",
       "\t<tr><th scope=col>&lt;dbl&gt;</th><th scope=col>&lt;dbl&gt;</th><th scope=col>&lt;dbl&gt;</th><th scope=col>&lt;dbl&gt;</th><th scope=col>&lt;dbl&gt;</th><th scope=col>&lt;dbl&gt;</th><th scope=col>&lt;chr&gt;</th><th scope=col>&lt;chr&gt;</th><th scope=col>&lt;dbl&gt;</th><th scope=col>&lt;dbl&gt;</th><th scope=col>&lt;chr&gt;</th></tr>\n",
       "</thead>\n",
       "<tbody>\n",
       "\t<tr><td>7.5</td><td>1</td><td>1</td><td>1</td><td>65</td><td>4.4</td><td>No </td><td>No </td><td>61</td><td>79</td><td>NotPlaced</td></tr>\n",
       "\t<tr><td>8.9</td><td>0</td><td>3</td><td>2</td><td>90</td><td>4.0</td><td>Yes</td><td>Yes</td><td>78</td><td>82</td><td>Placed   </td></tr>\n",
       "\t<tr><td>7.3</td><td>1</td><td>2</td><td>2</td><td>82</td><td>4.8</td><td>Yes</td><td>No </td><td>79</td><td>80</td><td>NotPlaced</td></tr>\n",
       "</tbody>\n",
       "</table>\n"
      ],
      "text/latex": [
       "A tibble: 3 × 11\n",
       "\\begin{tabular}{lllllllllll}\n",
       " CGPA & Internships & Projects & Workshops\\_Certifications & AptitudeTestScore & SoftSkillsRating & ExtracurricularActivities & PlacementTraining & SSC\\_Marks & HSC\\_Marks & PlacementStatus\\\\\n",
       " <dbl> & <dbl> & <dbl> & <dbl> & <dbl> & <dbl> & <chr> & <chr> & <dbl> & <dbl> & <chr>\\\\\n",
       "\\hline\n",
       "\t 7.5 & 1 & 1 & 1 & 65 & 4.4 & No  & No  & 61 & 79 & NotPlaced\\\\\n",
       "\t 8.9 & 0 & 3 & 2 & 90 & 4.0 & Yes & Yes & 78 & 82 & Placed   \\\\\n",
       "\t 7.3 & 1 & 2 & 2 & 82 & 4.8 & Yes & No  & 79 & 80 & NotPlaced\\\\\n",
       "\\end{tabular}\n"
      ],
      "text/markdown": [
       "\n",
       "A tibble: 3 × 11\n",
       "\n",
       "| CGPA &lt;dbl&gt; | Internships &lt;dbl&gt; | Projects &lt;dbl&gt; | Workshops_Certifications &lt;dbl&gt; | AptitudeTestScore &lt;dbl&gt; | SoftSkillsRating &lt;dbl&gt; | ExtracurricularActivities &lt;chr&gt; | PlacementTraining &lt;chr&gt; | SSC_Marks &lt;dbl&gt; | HSC_Marks &lt;dbl&gt; | PlacementStatus &lt;chr&gt; |\n",
       "|---|---|---|---|---|---|---|---|---|---|---|\n",
       "| 7.5 | 1 | 1 | 1 | 65 | 4.4 | No  | No  | 61 | 79 | NotPlaced |\n",
       "| 8.9 | 0 | 3 | 2 | 90 | 4.0 | Yes | Yes | 78 | 82 | Placed    |\n",
       "| 7.3 | 1 | 2 | 2 | 82 | 4.8 | Yes | No  | 79 | 80 | NotPlaced |\n",
       "\n"
      ],
      "text/plain": [
       "  CGPA Internships Projects Workshops_Certifications AptitudeTestScore\n",
       "1 7.5  1           1        1                        65               \n",
       "2 8.9  0           3        2                        90               \n",
       "3 7.3  1           2        2                        82               \n",
       "  SoftSkillsRating ExtracurricularActivities PlacementTraining SSC_Marks\n",
       "1 4.4              No                        No                61       \n",
       "2 4.0              Yes                       Yes               78       \n",
       "3 4.8              Yes                       No                79       \n",
       "  HSC_Marks PlacementStatus\n",
       "1 79        NotPlaced      \n",
       "2 82        Placed         \n",
       "3 80        NotPlaced      "
      ]
     },
     "metadata": {},
     "output_type": "display_data"
    },
    {
     "data": {
      "text/html": [
       "<style>\n",
       ".list-inline {list-style: none; margin:0; padding: 0}\n",
       ".list-inline>li {display: inline-block}\n",
       ".list-inline>li:not(:last-child)::after {content: \"\\00b7\"; padding: 0 .5ex}\n",
       "</style>\n",
       "<ol class=list-inline><li>1</li><li>2</li><li>0</li><li>3</li></ol>\n"
      ],
      "text/latex": [
       "\\begin{enumerate*}\n",
       "\\item 1\n",
       "\\item 2\n",
       "\\item 0\n",
       "\\item 3\n",
       "\\end{enumerate*}\n"
      ],
      "text/markdown": [
       "1. 1\n",
       "2. 2\n",
       "3. 0\n",
       "4. 3\n",
       "\n",
       "\n"
      ],
      "text/plain": [
       "[1] 1 2 0 3"
      ]
     },
     "metadata": {},
     "output_type": "display_data"
    }
   ],
   "source": [
    "names(data)[names(data) == \"Workshops/Certifications\"] <- \"Workshops_Certifications\" \n",
    "\n",
    "head(data, 3)\n",
    "\n",
    "unique(data$Workshops_Certifications)"
   ]
  },
  {
   "cell_type": "markdown",
   "id": "ec317fd9",
   "metadata": {},
   "source": [
    "4. We replaced the levels `NotPlaced` and `Placed` for `PlacementStatus` in the dataset with the numerical values `1` and `0`"
   ]
  },
  {
   "cell_type": "code",
   "execution_count": 190,
   "id": "46786b39",
   "metadata": {
    "vscode": {
     "languageId": "r"
    }
   },
   "outputs": [],
   "source": [
    "data <- data %>%\n",
    "  mutate(PlacementStatus = if_else(PlacementStatus == \"Placed\", 1, 0))\n",
    "\n",
    "data$PlacementStatus <- factor(data$PlacementStatus,\n",
    "                                 levels = c(\"0\", \"1\"))"
   ]
  },
  {
   "cell_type": "markdown",
   "id": "66b56ef8",
   "metadata": {},
   "source": [
    "5. Convert the Yes/No columns (categorical) to factors and later we will 0-1 encode them for interpretability, and we treat the covariates like `Internships` or `projects` as numeric, which assumes a linear effect between each 'level'."
   ]
  },
  {
   "cell_type": "code",
   "execution_count": 191,
   "id": "ecce421c",
   "metadata": {
    "vscode": {
     "languageId": "r"
    }
   },
   "outputs": [
    {
     "data": {
      "text/html": [
       "<table class=\"dataframe\">\n",
       "<caption>A tibble: 3 × 11</caption>\n",
       "<thead>\n",
       "\t<tr><th scope=col>CGPA</th><th scope=col>Internships</th><th scope=col>Projects</th><th scope=col>Workshops_Certifications</th><th scope=col>AptitudeTestScore</th><th scope=col>SoftSkillsRating</th><th scope=col>ExtracurricularActivities</th><th scope=col>PlacementTraining</th><th scope=col>SSC_Marks</th><th scope=col>HSC_Marks</th><th scope=col>PlacementStatus</th></tr>\n",
       "\t<tr><th scope=col>&lt;dbl&gt;</th><th scope=col>&lt;dbl&gt;</th><th scope=col>&lt;dbl&gt;</th><th scope=col>&lt;dbl&gt;</th><th scope=col>&lt;dbl&gt;</th><th scope=col>&lt;dbl&gt;</th><th scope=col>&lt;fct&gt;</th><th scope=col>&lt;fct&gt;</th><th scope=col>&lt;dbl&gt;</th><th scope=col>&lt;dbl&gt;</th><th scope=col>&lt;fct&gt;</th></tr>\n",
       "</thead>\n",
       "<tbody>\n",
       "\t<tr><td>7.5</td><td>1</td><td>1</td><td>1</td><td>65</td><td>4.4</td><td>No </td><td>No </td><td>61</td><td>79</td><td>0</td></tr>\n",
       "\t<tr><td>8.9</td><td>0</td><td>3</td><td>2</td><td>90</td><td>4.0</td><td>Yes</td><td>Yes</td><td>78</td><td>82</td><td>1</td></tr>\n",
       "\t<tr><td>7.3</td><td>1</td><td>2</td><td>2</td><td>82</td><td>4.8</td><td>Yes</td><td>No </td><td>79</td><td>80</td><td>0</td></tr>\n",
       "</tbody>\n",
       "</table>\n"
      ],
      "text/latex": [
       "A tibble: 3 × 11\n",
       "\\begin{tabular}{lllllllllll}\n",
       " CGPA & Internships & Projects & Workshops\\_Certifications & AptitudeTestScore & SoftSkillsRating & ExtracurricularActivities & PlacementTraining & SSC\\_Marks & HSC\\_Marks & PlacementStatus\\\\\n",
       " <dbl> & <dbl> & <dbl> & <dbl> & <dbl> & <dbl> & <fct> & <fct> & <dbl> & <dbl> & <fct>\\\\\n",
       "\\hline\n",
       "\t 7.5 & 1 & 1 & 1 & 65 & 4.4 & No  & No  & 61 & 79 & 0\\\\\n",
       "\t 8.9 & 0 & 3 & 2 & 90 & 4.0 & Yes & Yes & 78 & 82 & 1\\\\\n",
       "\t 7.3 & 1 & 2 & 2 & 82 & 4.8 & Yes & No  & 79 & 80 & 0\\\\\n",
       "\\end{tabular}\n"
      ],
      "text/markdown": [
       "\n",
       "A tibble: 3 × 11\n",
       "\n",
       "| CGPA &lt;dbl&gt; | Internships &lt;dbl&gt; | Projects &lt;dbl&gt; | Workshops_Certifications &lt;dbl&gt; | AptitudeTestScore &lt;dbl&gt; | SoftSkillsRating &lt;dbl&gt; | ExtracurricularActivities &lt;fct&gt; | PlacementTraining &lt;fct&gt; | SSC_Marks &lt;dbl&gt; | HSC_Marks &lt;dbl&gt; | PlacementStatus &lt;fct&gt; |\n",
       "|---|---|---|---|---|---|---|---|---|---|---|\n",
       "| 7.5 | 1 | 1 | 1 | 65 | 4.4 | No  | No  | 61 | 79 | 0 |\n",
       "| 8.9 | 0 | 3 | 2 | 90 | 4.0 | Yes | Yes | 78 | 82 | 1 |\n",
       "| 7.3 | 1 | 2 | 2 | 82 | 4.8 | Yes | No  | 79 | 80 | 0 |\n",
       "\n"
      ],
      "text/plain": [
       "  CGPA Internships Projects Workshops_Certifications AptitudeTestScore\n",
       "1 7.5  1           1        1                        65               \n",
       "2 8.9  0           3        2                        90               \n",
       "3 7.3  1           2        2                        82               \n",
       "  SoftSkillsRating ExtracurricularActivities PlacementTraining SSC_Marks\n",
       "1 4.4              No                        No                61       \n",
       "2 4.0              Yes                       Yes               78       \n",
       "3 4.8              Yes                       No                79       \n",
       "  HSC_Marks PlacementStatus\n",
       "1 79        0              \n",
       "2 82        1              \n",
       "3 80        0              "
      ]
     },
     "metadata": {},
     "output_type": "display_data"
    }
   ],
   "source": [
    "data$ExtracurricularActivities <- factor(data$ExtracurricularActivities,\n",
    "                                         levels = c(\"No\", \"Yes\"))\n",
    "data$PlacementTraining <- factor(data$PlacementTraining,\n",
    "                                 levels = c(\"No\", \"Yes\"))\n",
    "head(data,3)"
   ]
  },
  {
   "cell_type": "markdown",
   "id": "62f4f00d",
   "metadata": {},
   "source": [
    "### **b) Exploratory Data Analysis (EDA)**"
   ]
  },
  {
   "cell_type": "markdown",
   "id": "d1b07277",
   "metadata": {},
   "source": [
    "#### **Data Preprocessing**\n",
    "\n",
    "\n",
    "##### **Check Missing Values**"
   ]
  },
  {
   "cell_type": "code",
   "execution_count": 192,
   "id": "5c584d88",
   "metadata": {
    "vscode": {
     "languageId": "r"
    }
   },
   "outputs": [
    {
     "data": {
      "text/html": [
       "<style>\n",
       ".dl-inline {width: auto; margin:0; padding: 0}\n",
       ".dl-inline>dt, .dl-inline>dd {float: none; width: auto; display: inline-block}\n",
       ".dl-inline>dt::after {content: \":\\0020\"; padding-right: .5ex}\n",
       ".dl-inline>dt:not(:first-of-type) {padding-left: .5ex}\n",
       "</style><dl class=dl-inline><dt>CGPA</dt><dd>0</dd><dt>Internships</dt><dd>0</dd><dt>Projects</dt><dd>0</dd><dt>Workshops_Certifications</dt><dd>0</dd><dt>AptitudeTestScore</dt><dd>0</dd><dt>SoftSkillsRating</dt><dd>0</dd><dt>ExtracurricularActivities</dt><dd>0</dd><dt>PlacementTraining</dt><dd>0</dd><dt>SSC_Marks</dt><dd>0</dd><dt>HSC_Marks</dt><dd>0</dd><dt>PlacementStatus</dt><dd>0</dd></dl>\n"
      ],
      "text/latex": [
       "\\begin{description*}\n",
       "\\item[CGPA] 0\n",
       "\\item[Internships] 0\n",
       "\\item[Projects] 0\n",
       "\\item[Workshops\\textbackslash{}\\_Certifications] 0\n",
       "\\item[AptitudeTestScore] 0\n",
       "\\item[SoftSkillsRating] 0\n",
       "\\item[ExtracurricularActivities] 0\n",
       "\\item[PlacementTraining] 0\n",
       "\\item[SSC\\textbackslash{}\\_Marks] 0\n",
       "\\item[HSC\\textbackslash{}\\_Marks] 0\n",
       "\\item[PlacementStatus] 0\n",
       "\\end{description*}\n"
      ],
      "text/markdown": [
       "CGPA\n",
       ":   0Internships\n",
       ":   0Projects\n",
       ":   0Workshops_Certifications\n",
       ":   0AptitudeTestScore\n",
       ":   0SoftSkillsRating\n",
       ":   0ExtracurricularActivities\n",
       ":   0PlacementTraining\n",
       ":   0SSC_Marks\n",
       ":   0HSC_Marks\n",
       ":   0PlacementStatus\n",
       ":   0\n",
       "\n"
      ],
      "text/plain": [
       "                     CGPA               Internships                  Projects \n",
       "                        0                         0                         0 \n",
       " Workshops_Certifications         AptitudeTestScore          SoftSkillsRating \n",
       "                        0                         0                         0 \n",
       "ExtracurricularActivities         PlacementTraining                 SSC_Marks \n",
       "                        0                         0                         0 \n",
       "                HSC_Marks           PlacementStatus \n",
       "                        0                         0 "
      ]
     },
     "metadata": {},
     "output_type": "display_data"
    }
   ],
   "source": [
    "colSums(is.na(data))"
   ]
  },
  {
   "cell_type": "markdown",
   "id": "497f6ac0",
   "metadata": {},
   "source": [
    "Good! The dataset contains no missing values."
   ]
  },
  {
   "cell_type": "markdown",
   "id": "5bf58ab0",
   "metadata": {},
   "source": [
    "##### **Check Class Imbalance**"
   ]
  },
  {
   "cell_type": "markdown",
   "id": "e60c5624",
   "metadata": {},
   "source": []
  },
  {
   "cell_type": "code",
   "execution_count": 193,
   "id": "2239fed6",
   "metadata": {
    "vscode": {
     "languageId": "r"
    }
   },
   "outputs": [
    {
     "data": {
      "image/png": "[encoded data removed]",
      "text/plain": [
       "plot without title"
      ]
     },
     "metadata": {
      "image/png": {
       "height": 900,
       "width": 900
      }
     },
     "output_type": "display_data"
    }
   ],
   "source": [
    "categorical_columns <- c(\"ExtracurricularActivities\", \"PlacementTraining\",\"PlacementStatus\")\n",
    "plots <- list()\n",
    "\n",
    "# Loop over each categorical variable to build a bar plot\n",
    "for (cat_col in categorical_columns) {\n",
    "  p <- ggplot(data = data, aes_string(x = cat_col)) +\n",
    "    geom_bar(fill = \"steelblue\", color = \"black\") +\n",
    "    labs(\n",
    "      title = paste( cat_col),\n",
    "      x = cat_col,\n",
    "      y = \"Count\"\n",
    "    ) +\n",
    "    theme_minimal(base_size = 14) +\n",
    "    theme(\n",
    "      plot.title = element_text(size = 16, face = \"bold\"),\n",
    "      axis.title = element_text(size = 14),\n",
    "      axis.text = element_text(size = 12)\n",
    "    )\n",
    "  plots[[cat_col]] <- p\n",
    "}\n",
    "grid.arrange(grobs = plots, ncol = 2)"
   ]
  },
  {
   "cell_type": "markdown",
   "id": "45b6fb0b",
   "metadata": {},
   "source": [
    "- There are enough values in both the categorical predictor variables for each of their categories such that there is no reason to merge or drop come categories.\n",
    "- For the response variable (PlacementStatus), there is no class imbalance, so no further tidying is required in this aspect."
   ]
  },
  {
   "cell_type": "markdown",
   "id": "3b1d3aa7",
   "metadata": {},
   "source": [
    "##### **Check Distributional Skewness**"
   ]
  },
  {
   "cell_type": "code",
   "execution_count": 194,
   "id": "7f03882f",
   "metadata": {
    "vscode": {
     "languageId": "r"
    }
   },
   "outputs": [
    {
     "data": {
      "text/html": [
       "<style>\n",
       ".list-inline {list-style: none; margin:0; padding: 0}\n",
       ".list-inline>li {display: inline-block}\n",
       ".list-inline>li:not(:last-child)::after {content: \"\\00b7\"; padding: 0 .5ex}\n",
       "</style>\n",
       "<ol class=list-inline><li>'CGPA'</li><li>'Internships'</li><li>'Projects'</li><li>'Workshops_Certifications'</li><li>'AptitudeTestScore'</li><li>'SoftSkillsRating'</li><li>'ExtracurricularActivities'</li><li>'PlacementTraining'</li><li>'SSC_Marks'</li><li>'HSC_Marks'</li><li>'PlacementStatus'</li></ol>\n"
      ],
      "text/latex": [
       "\\begin{enumerate*}\n",
       "\\item 'CGPA'\n",
       "\\item 'Internships'\n",
       "\\item 'Projects'\n",
       "\\item 'Workshops\\_Certifications'\n",
       "\\item 'AptitudeTestScore'\n",
       "\\item 'SoftSkillsRating'\n",
       "\\item 'ExtracurricularActivities'\n",
       "\\item 'PlacementTraining'\n",
       "\\item 'SSC\\_Marks'\n",
       "\\item 'HSC\\_Marks'\n",
       "\\item 'PlacementStatus'\n",
       "\\end{enumerate*}\n"
      ],
      "text/markdown": [
       "1. 'CGPA'\n",
       "2. 'Internships'\n",
       "3. 'Projects'\n",
       "4. 'Workshops_Certifications'\n",
       "5. 'AptitudeTestScore'\n",
       "6. 'SoftSkillsRating'\n",
       "7. 'ExtracurricularActivities'\n",
       "8. 'PlacementTraining'\n",
       "9. 'SSC_Marks'\n",
       "10. 'HSC_Marks'\n",
       "11. 'PlacementStatus'\n",
       "\n",
       "\n"
      ],
      "text/plain": [
       " [1] \"CGPA\"                      \"Internships\"              \n",
       " [3] \"Projects\"                  \"Workshops_Certifications\" \n",
       " [5] \"AptitudeTestScore\"         \"SoftSkillsRating\"         \n",
       " [7] \"ExtracurricularActivities\" \"PlacementTraining\"        \n",
       " [9] \"SSC_Marks\"                 \"HSC_Marks\"                \n",
       "[11] \"PlacementStatus\"          "
      ]
     },
     "metadata": {},
     "output_type": "display_data"
    }
   ],
   "source": [
    "names(data)\n"
   ]
  },
  {
   "cell_type": "code",
   "execution_count": 195,
   "id": "525023f3",
   "metadata": {
    "vscode": {
     "languageId": "r"
    }
   },
   "outputs": [
    {
     "data": {
      "image/png": "[encoded data removed]",
      "text/plain": [
       "plot without title"
      ]
     },
     "metadata": {
      "image/png": {
       "height": 900,
       "width": 900
      }
     },
     "output_type": "display_data"
    }
   ],
   "source": [
    "df_num <- c(\n",
    "  \"Internships\", \n",
    "  \"Projects\", \n",
    "  \"Workshops_Certifications\",\n",
    "  \"AptitudeTestScore\", \n",
    "  \"SoftSkillsRating\", \n",
    "  \"SSC_Marks\", \n",
    "  \"HSC_Marks\"\n",
    ")\n",
    "\n",
    "plots <- list()\n",
    "\n",
    "for (colname in df_num) {\n",
    "  p <- ggplot(data, aes_string(x = colname)) +\n",
    "    geom_histogram(fill = \"steelblue\", color = \"black\", bins = 15) +  # No extra parentheses here\n",
    "    labs(\n",
    "      title = paste( colname),\n",
    "      x = colname,\n",
    "      y = \"Count\"\n",
    "    ) +\n",
    "    theme_minimal(base_size = 14)\n",
    "  plots[[colname]] <- p\n",
    "}\n",
    "\n",
    "# Arrange all plots in a grid (2 columns, for example)\n",
    "grid.arrange(grobs = plots, ncol = 2)\n"
   ]
  },
  {
   "cell_type": "code",
   "execution_count": 196,
   "id": "f06490a7",
   "metadata": {
    "vscode": {
     "languageId": "r"
    }
   },
   "outputs": [
    {
     "name": "stdout",
     "output_type": "stream",
     "text": [
      "[1] \"The Number of Students who have Workshop Experience = 3: 284\"\n",
      "[1] \"The Number of Students who have Workshop Experience = 2: 3303\"\n",
      "[1] \"---------------------------------------------------------------\"\n",
      "[1] \"The Number of Students who have Project number = 1: 3547\"\n",
      "[1] \"The Number of Students who have Project number = 0: 30\"\n"
     ]
    }
   ],
   "source": [
    "print(paste(\"The Number of Students who have Workshop Experience = 3:\", \n",
    "            sum(data$Workshops_Certifications == \"3\")))\n",
    "\n",
    "print(paste(\"The Number of Students who have Workshop Experience = 2:\", \n",
    "            sum(data$Workshops_Certifications == \"2\")))\n",
    "\n",
    "print(paste(\"---------------------------------------------------------------\"))\n",
    "\n",
    "print(paste(\"The Number of Students who have Project number = 1:\", \n",
    "            sum(data$Projects == \"1\")))\n",
    "\n",
    "print(paste(\"The Number of Students who have Project number = 0:\", \n",
    "            sum(data$Projects == \"0\")))"
   ]
  },
  {
   "cell_type": "markdown",
   "id": "4896bba1",
   "metadata": {},
   "source": [
    "**Since there're clearly relative less people with workshop experience = 2, so we will first merge them for now**. "
   ]
  },
  {
   "cell_type": "code",
   "execution_count": 197,
   "id": "d29cae1e",
   "metadata": {
    "vscode": {
     "languageId": "r"
    }
   },
   "outputs": [
    {
     "data": {
      "text/html": [
       "<table class=\"dataframe\">\n",
       "<caption>A tibble: 3 × 11</caption>\n",
       "<thead>\n",
       "\t<tr><th scope=col>CGPA</th><th scope=col>Internships</th><th scope=col>Projects</th><th scope=col>Workshops_Certifications</th><th scope=col>AptitudeTestScore</th><th scope=col>SoftSkillsRating</th><th scope=col>ExtracurricularActivities</th><th scope=col>PlacementTraining</th><th scope=col>SSC_Marks</th><th scope=col>HSC_Marks</th><th scope=col>PlacementStatus</th></tr>\n",
       "\t<tr><th scope=col>&lt;dbl&gt;</th><th scope=col>&lt;dbl&gt;</th><th scope=col>&lt;fct&gt;</th><th scope=col>&lt;fct&gt;</th><th scope=col>&lt;dbl&gt;</th><th scope=col>&lt;dbl&gt;</th><th scope=col>&lt;fct&gt;</th><th scope=col>&lt;fct&gt;</th><th scope=col>&lt;dbl&gt;</th><th scope=col>&lt;dbl&gt;</th><th scope=col>&lt;fct&gt;</th></tr>\n",
       "</thead>\n",
       "<tbody>\n",
       "\t<tr><td>7.5</td><td>1</td><td>1-</td><td>1 </td><td>65</td><td>4.4</td><td>No </td><td>No </td><td>61</td><td>79</td><td>0</td></tr>\n",
       "\t<tr><td>8.9</td><td>0</td><td>3 </td><td>2+</td><td>90</td><td>4.0</td><td>Yes</td><td>Yes</td><td>78</td><td>82</td><td>1</td></tr>\n",
       "\t<tr><td>7.3</td><td>1</td><td>2 </td><td>2+</td><td>82</td><td>4.8</td><td>Yes</td><td>No </td><td>79</td><td>80</td><td>0</td></tr>\n",
       "</tbody>\n",
       "</table>\n"
      ],
      "text/latex": [
       "A tibble: 3 × 11\n",
       "\\begin{tabular}{lllllllllll}\n",
       " CGPA & Internships & Projects & Workshops\\_Certifications & AptitudeTestScore & SoftSkillsRating & ExtracurricularActivities & PlacementTraining & SSC\\_Marks & HSC\\_Marks & PlacementStatus\\\\\n",
       " <dbl> & <dbl> & <fct> & <fct> & <dbl> & <dbl> & <fct> & <fct> & <dbl> & <dbl> & <fct>\\\\\n",
       "\\hline\n",
       "\t 7.5 & 1 & 1- & 1  & 65 & 4.4 & No  & No  & 61 & 79 & 0\\\\\n",
       "\t 8.9 & 0 & 3  & 2+ & 90 & 4.0 & Yes & Yes & 78 & 82 & 1\\\\\n",
       "\t 7.3 & 1 & 2  & 2+ & 82 & 4.8 & Yes & No  & 79 & 80 & 0\\\\\n",
       "\\end{tabular}\n"
      ],
      "text/markdown": [
       "\n",
       "A tibble: 3 × 11\n",
       "\n",
       "| CGPA &lt;dbl&gt; | Internships &lt;dbl&gt; | Projects &lt;fct&gt; | Workshops_Certifications &lt;fct&gt; | AptitudeTestScore &lt;dbl&gt; | SoftSkillsRating &lt;dbl&gt; | ExtracurricularActivities &lt;fct&gt; | PlacementTraining &lt;fct&gt; | SSC_Marks &lt;dbl&gt; | HSC_Marks &lt;dbl&gt; | PlacementStatus &lt;fct&gt; |\n",
       "|---|---|---|---|---|---|---|---|---|---|---|\n",
       "| 7.5 | 1 | 1- | 1  | 65 | 4.4 | No  | No  | 61 | 79 | 0 |\n",
       "| 8.9 | 0 | 3  | 2+ | 90 | 4.0 | Yes | Yes | 78 | 82 | 1 |\n",
       "| 7.3 | 1 | 2  | 2+ | 82 | 4.8 | Yes | No  | 79 | 80 | 0 |\n",
       "\n"
      ],
      "text/plain": [
       "  CGPA Internships Projects Workshops_Certifications AptitudeTestScore\n",
       "1 7.5  1           1-       1                        65               \n",
       "2 8.9  0           3        2+                       90               \n",
       "3 7.3  1           2        2+                       82               \n",
       "  SoftSkillsRating ExtracurricularActivities PlacementTraining SSC_Marks\n",
       "1 4.4              No                        No                61       \n",
       "2 4.0              Yes                       Yes               78       \n",
       "3 4.8              Yes                       No                79       \n",
       "  HSC_Marks PlacementStatus\n",
       "1 79        0              \n",
       "2 82        1              \n",
       "3 80        0              "
      ]
     },
     "metadata": {},
     "output_type": "display_data"
    }
   ],
   "source": [
    "#Pre-process Workshops\n",
    "data <- data %>%\n",
    "  mutate(\n",
    "    Workshops_Certifications = as_factor(Workshops_Certifications),\n",
    "    Workshops_Certifications = fct_collapse(\n",
    "      Workshops_Certifications,\n",
    "      \"2+\" = c(\"2\", \"3\")\n",
    "    )\n",
    "  )\n",
    "#Pre-process Projects\n",
    "data <- data %>%\n",
    "  mutate(\n",
    "    Projects = as_factor(Projects),\n",
    "    Projects = fct_collapse(\n",
    "      Projects,\n",
    "      \"1-\" = c(\"0\", \"1\")\n",
    "    )\n",
    "  )\n",
    "\n",
    "head(data, 3)"
   ]
  },
  {
   "cell_type": "code",
   "execution_count": 198,
   "id": "b6cbe993",
   "metadata": {
    "vscode": {
     "languageId": "r"
    }
   },
   "outputs": [
    {
     "data": {
      "text/html": [
       "<style>\n",
       ".list-inline {list-style: none; margin:0; padding: 0}\n",
       ".list-inline>li {display: inline-block}\n",
       ".list-inline>li:not(:last-child)::after {content: \"\\00b7\"; padding: 0 .5ex}\n",
       "</style>\n",
       "<ol class=list-inline><li>1-</li><li>3</li><li>2</li></ol>\n",
       "\n",
       "<details>\n",
       "\t<summary style=display:list-item;cursor:pointer>\n",
       "\t\t<strong>Levels</strong>:\n",
       "\t</summary>\n",
       "\t<style>\n",
       "\t.list-inline {list-style: none; margin:0; padding: 0}\n",
       "\t.list-inline>li {display: inline-block}\n",
       "\t.list-inline>li:not(:last-child)::after {content: \"\\00b7\"; padding: 0 .5ex}\n",
       "\t</style>\n",
       "\t<ol class=list-inline><li>'1-'</li><li>'2'</li><li>'3'</li></ol>\n",
       "</details>"
      ],
      "text/latex": [
       "\\begin{enumerate*}\n",
       "\\item 1-\n",
       "\\item 3\n",
       "\\item 2\n",
       "\\end{enumerate*}\n",
       "\n",
       "\\emph{Levels}: \\begin{enumerate*}\n",
       "\\item '1-'\n",
       "\\item '2'\n",
       "\\item '3'\n",
       "\\end{enumerate*}\n"
      ],
      "text/markdown": [
       "1. 1-\n",
       "2. 3\n",
       "3. 2\n",
       "\n",
       "\n",
       "\n",
       "**Levels**: 1. '1-'\n",
       "2. '2'\n",
       "3. '3'\n",
       "\n",
       "\n"
      ],
      "text/plain": [
       "[1] 1- 3  2 \n",
       "Levels: 1- 2 3"
      ]
     },
     "metadata": {},
     "output_type": "display_data"
    },
    {
     "data": {
      "text/html": [
       "<style>\n",
       ".list-inline {list-style: none; margin:0; padding: 0}\n",
       ".list-inline>li {display: inline-block}\n",
       ".list-inline>li:not(:last-child)::after {content: \"\\00b7\"; padding: 0 .5ex}\n",
       "</style>\n",
       "<ol class=list-inline><li>1</li><li>2+</li><li>0</li></ol>\n",
       "\n",
       "<details>\n",
       "\t<summary style=display:list-item;cursor:pointer>\n",
       "\t\t<strong>Levels</strong>:\n",
       "\t</summary>\n",
       "\t<style>\n",
       "\t.list-inline {list-style: none; margin:0; padding: 0}\n",
       "\t.list-inline>li {display: inline-block}\n",
       "\t.list-inline>li:not(:last-child)::after {content: \"\\00b7\"; padding: 0 .5ex}\n",
       "\t</style>\n",
       "\t<ol class=list-inline><li>'0'</li><li>'1'</li><li>'2+'</li></ol>\n",
       "</details>"
      ],
      "text/latex": [
       "\\begin{enumerate*}\n",
       "\\item 1\n",
       "\\item 2+\n",
       "\\item 0\n",
       "\\end{enumerate*}\n",
       "\n",
       "\\emph{Levels}: \\begin{enumerate*}\n",
       "\\item '0'\n",
       "\\item '1'\n",
       "\\item '2+'\n",
       "\\end{enumerate*}\n"
      ],
      "text/markdown": [
       "1. 1\n",
       "2. 2+\n",
       "3. 0\n",
       "\n",
       "\n",
       "\n",
       "**Levels**: 1. '0'\n",
       "2. '1'\n",
       "3. '2+'\n",
       "\n",
       "\n"
      ],
      "text/plain": [
       "[1] 1  2+ 0 \n",
       "Levels: 0 1 2+"
      ]
     },
     "metadata": {},
     "output_type": "display_data"
    }
   ],
   "source": [
    "unique(data$Projects)\n",
    "unique(data$Workshops_Certifications)"
   ]
  },
  {
   "cell_type": "markdown",
   "id": "41363cdb",
   "metadata": {},
   "source": [
    "By observing the plot above, I would say there is no clearly noticeable heavy skewness for other covariates that may cause problems in the logistic regression model. However, it is evident that, for example, the **AptitudeTestScore** feature has a high frequency of counts at the value of 90.\n"
   ]
  },
  {
   "cell_type": "markdown",
   "id": "822fb1d8",
   "metadata": {},
   "source": [
    "##### **Two Effective Visualizations**\n",
    "\n",
    "##### **1.Comparison of various scores of students by placement status**\n",
    "- We will create a boxplot of the numerical covariates (CGPA, HSC_Marks, SSC_Marks, AptitudeTestScore, SoftSkillsRating)\n",
    "- This, notably, excludes 3 numerical columns: `Internships`, `Project`s and `Workshops/Certifications`. This is because these columns have only descretised values, which are 0, 1, 2 or 3. Hence, their range, standard deviation and mean would differ a lot from the other numerical variables and thus won't look well on a single plot. Maybe in the future, we could even convert these column into 'factor' type (categorical variables) if it leads to better prediction.\n",
    "- For the visualisation now, we will scale CGPA and SoftSkillsRating to be on the same scale\n",
    "  - We will multiply CGPA by 10 to shift its range from 0-10 to 0-100\n",
    "   - We will multiply SoftSkillsRating by 20 to shift its range 0-5 to 0-100 <br> This is done so a good comparison can be made visually by just looking at the plot."
   ]
  },
  {
   "cell_type": "code",
   "execution_count": 199,
   "id": "19f6a5f1",
   "metadata": {
    "vscode": {
     "languageId": "r"
    }
   },
   "outputs": [
    {
     "data": {
      "image/png": "[encoded data removed]",
      "text/plain": [
       "plot without title"
      ]
     },
     "metadata": {
      "image/png": {
       "height": 420,
       "width": 660
      }
     },
     "output_type": "display_data"
    }
   ],
   "source": [
    "# Main developer: Ashmit Gupta\n",
    "\n",
    "options(repr.plot.width = 11, repr.plot.height = 7)\n",
    "marks_data <- data %>%\n",
    "              mutate(CGPA = CGPA * 10, SoftSkillsRating = SoftSkillsRating * 20) %>% # Scaling CGPA and SoftSkillsRating to be from 1 to 100\n",
    "              pivot_longer(cols = c(CGPA, HSC_Marks, SSC_Marks, AptitudeTestScore, SoftSkillsRating), \n",
    "                           names_to = \"Score_Type\", \n",
    "                           values_to = \"Score\")\n",
    "\n",
    "marks_visualisation <- marks_data %>%\n",
    "                       ggplot(aes(x = Score_Type, y = Score, fill = PlacementStatus)) +\n",
    "                       geom_boxplot() +\n",
    "                       ggtitle(\"Comparison of various scores of students by placement status\") +\n",
    "                       labs(x = \"Score Type\", y = \"Score of the student\") +\n",
    "                       theme(text = element_text(size = 17))\n",
    "                       \n",
    "marks_visualisation"
   ]
  },
  {
   "cell_type": "markdown",
   "id": "775c7af2",
   "metadata": {},
   "source": [
    "This graph is relevant to our research question as it shows the distribution of various possible predictors against the response variable (PlacementStatus). It shows that in general, the students who are placed tend to have a higher median score in the respective academic (or soft skill) category compared to the students who did not get placed."
   ]
  },
  {
   "cell_type": "markdown",
   "id": "ac444cf4",
   "metadata": {},
   "source": [
    "\n",
    "##### **2. Check and Visualize Correlation between Features**\n",
    "\n",
    "To detect whether there's a multicollinearlity issue in the independent variables, we examine it by both the correlation matrix and the variance inflation factor (VIF). "
   ]
  },
  {
   "cell_type": "code",
   "execution_count": 200,
   "id": "1be0cb6f",
   "metadata": {
    "vscode": {
     "languageId": "r"
    }
   },
   "outputs": [
    {
     "data": {
      "image/png": "[encoded data removed]",
      "text/plain": [
       "Plot with title \"Correlation Matrix\""
      ]
     },
     "metadata": {
      "image/png": {
       "height": 900,
       "width": 900
      }
     },
     "output_type": "display_data"
    }
   ],
   "source": [
    "\n",
    "options(repr.plot.width = 15, repr.plot.height = 15)\n",
    "\n",
    "numeric_data <- data %>% select_if(is.numeric)\n",
    "cor_matrix <- cor(numeric_data, use = \"complete.obs\")\n",
    "\n",
    "corrplot(cor_matrix,\n",
    "         method = \"color\",\n",
    "         type = \"upper\",\n",
    "         order = \"hclust\",\n",
    "         tl.col = \"black\",\n",
    "         tl.srt = 45,\n",
    "         col = colorRampPalette(c(\"red\", \"white\", \"blue\"))(200),\n",
    "         title = \"Correlation Matrix\",\n",
    "         mar = c(0,0,1,0),\n",
    "         addCoef.col = \"black\",\n",
    "         number.cex = 0.9\n",
    ")\n"
   ]
  },
  {
   "cell_type": "markdown",
   "id": "1f2805c7",
   "metadata": {},
   "source": [
    "The correlation matrix heatmap indicates all pairs in continuous variables have a positive relationship, moreover, the correlation coefficient between any two pairs are lower than 0.6, suggesting no strong correlation. Therefore, multicollinearlity issue is not concerning at this stage.\n",
    "\n",
    "Next, we will use VIF to detect whether multicollinearlity issue exist among both continuous and categorical independent variables. "
   ]
  },
  {
   "cell_type": "code",
   "execution_count": 201,
   "id": "67f66358",
   "metadata": {
    "vscode": {
     "languageId": "r"
    }
   },
   "outputs": [
    {
     "data": {
      "text/html": [
       "<table class=\"dataframe\">\n",
       "<caption>A matrix: 10 × 3 of type dbl</caption>\n",
       "<thead>\n",
       "\t<tr><th></th><th scope=col>GVIF</th><th scope=col>Df</th><th scope=col>GVIF^(1/(2*Df))</th></tr>\n",
       "</thead>\n",
       "<tbody>\n",
       "\t<tr><th scope=row>CGPA</th><td>1.232387</td><td>1</td><td>1.110129</td></tr>\n",
       "\t<tr><th scope=row>Internships</th><td>1.128324</td><td>1</td><td>1.062226</td></tr>\n",
       "\t<tr><th scope=row>Projects</th><td>1.400640</td><td>2</td><td>1.087882</td></tr>\n",
       "\t<tr><th scope=row>Workshops_Certifications</th><td>1.265626</td><td>2</td><td>1.060660</td></tr>\n",
       "\t<tr><th scope=row>AptitudeTestScore</th><td>1.401241</td><td>1</td><td>1.183740</td></tr>\n",
       "\t<tr><th scope=row>SoftSkillsRating</th><td>1.252753</td><td>1</td><td>1.119264</td></tr>\n",
       "\t<tr><th scope=row>ExtracurricularActivities</th><td>1.284762</td><td>1</td><td>1.133473</td></tr>\n",
       "\t<tr><th scope=row>PlacementTraining</th><td>1.031981</td><td>1</td><td>1.015865</td></tr>\n",
       "\t<tr><th scope=row>SSC_Marks</th><td>1.316573</td><td>1</td><td>1.147420</td></tr>\n",
       "\t<tr><th scope=row>HSC_Marks</th><td>1.462161</td><td>1</td><td>1.209198</td></tr>\n",
       "</tbody>\n",
       "</table>\n"
      ],
      "text/latex": [
       "A matrix: 10 × 3 of type dbl\n",
       "\\begin{tabular}{r|lll}\n",
       "  & GVIF & Df & GVIF\\textasciicircum{}(1/(2*Df))\\\\\n",
       "\\hline\n",
       "\tCGPA & 1.232387 & 1 & 1.110129\\\\\n",
       "\tInternships & 1.128324 & 1 & 1.062226\\\\\n",
       "\tProjects & 1.400640 & 2 & 1.087882\\\\\n",
       "\tWorkshops\\_Certifications & 1.265626 & 2 & 1.060660\\\\\n",
       "\tAptitudeTestScore & 1.401241 & 1 & 1.183740\\\\\n",
       "\tSoftSkillsRating & 1.252753 & 1 & 1.119264\\\\\n",
       "\tExtracurricularActivities & 1.284762 & 1 & 1.133473\\\\\n",
       "\tPlacementTraining & 1.031981 & 1 & 1.015865\\\\\n",
       "\tSSC\\_Marks & 1.316573 & 1 & 1.147420\\\\\n",
       "\tHSC\\_Marks & 1.462161 & 1 & 1.209198\\\\\n",
       "\\end{tabular}\n"
      ],
      "text/markdown": [
       "\n",
       "A matrix: 10 × 3 of type dbl\n",
       "\n",
       "| <!--/--> | GVIF | Df | GVIF^(1/(2*Df)) |\n",
       "|---|---|---|---|\n",
       "| CGPA | 1.232387 | 1 | 1.110129 |\n",
       "| Internships | 1.128324 | 1 | 1.062226 |\n",
       "| Projects | 1.400640 | 2 | 1.087882 |\n",
       "| Workshops_Certifications | 1.265626 | 2 | 1.060660 |\n",
       "| AptitudeTestScore | 1.401241 | 1 | 1.183740 |\n",
       "| SoftSkillsRating | 1.252753 | 1 | 1.119264 |\n",
       "| ExtracurricularActivities | 1.284762 | 1 | 1.133473 |\n",
       "| PlacementTraining | 1.031981 | 1 | 1.015865 |\n",
       "| SSC_Marks | 1.316573 | 1 | 1.147420 |\n",
       "| HSC_Marks | 1.462161 | 1 | 1.209198 |\n",
       "\n"
      ],
      "text/plain": [
       "                          GVIF     Df GVIF^(1/(2*Df))\n",
       "CGPA                      1.232387 1  1.110129       \n",
       "Internships               1.128324 1  1.062226       \n",
       "Projects                  1.400640 2  1.087882       \n",
       "Workshops_Certifications  1.265626 2  1.060660       \n",
       "AptitudeTestScore         1.401241 1  1.183740       \n",
       "SoftSkillsRating          1.252753 1  1.119264       \n",
       "ExtracurricularActivities 1.284762 1  1.133473       \n",
       "PlacementTraining         1.031981 1  1.015865       \n",
       "SSC_Marks                 1.316573 1  1.147420       \n",
       "HSC_Marks                 1.462161 1  1.209198       "
      ]
     },
     "metadata": {},
     "output_type": "display_data"
    },
    {
     "data": {
      "image/png": "[encoded data removed]",
      "text/plain": [
       "Plot with title \"VIF (Scaled) for Each Predictor\""
      ]
     },
     "metadata": {
      "image/png": {
       "height": 900,
       "width": 900
      }
     },
     "output_type": "display_data"
    }
   ],
   "source": [
    "\n",
    "# 1) Prepare data for logistic regression\n",
    "\n",
    "vif_data <- data %>%\n",
    "  mutate(ExtracurricularActivities = if_else(ExtracurricularActivities == \"Yes\", 1, 0),\n",
    "         PlacementTraining  = if_else(PlacementTraining  == \"Yes\", 1, 0))\n",
    "\n",
    "# 2) Fit logistic model\n",
    "model_vif <- glm(PlacementStatus ~ ., data = vif_data, family = \"binomial\")\n",
    "\n",
    "# 3) Compute VIF\n",
    "vif_res <- vif(model_vif)\n",
    "\n",
    "vif_res\n",
    "\n",
    "# 4) Extract the scaled GVIF if it's a matrix\n",
    "if (is.matrix(vif_res)) {\n",
    "  scaled_vif <- vif_res[, \"GVIF^(1/(2*Df))\"]\n",
    "  # Preserve the row names as variable names\n",
    "  names(scaled_vif) <- rownames(vif_res)\n",
    "} else {\n",
    "  # If vif_res is already a named vector (no factors), just use it\n",
    "  scaled_vif <- vif_res\n",
    "}\n",
    "\n",
    "# 5) Make a barplot with one bar per predictor\n",
    "barplot(\n",
    "  scaled_vif,\n",
    "  main      = \"VIF (Scaled) for Each Predictor\",\n",
    "  names.arg = names(scaled_vif),\n",
    "  las       = 2,                         \n",
    "  cex.names = 0.8,                      \n",
    "  col       = \"steelblue\",\n",
    "  ylim      = c(0, max(scaled_vif) + 0.5)\n",
    ")\n"
   ]
  },
  {
   "cell_type": "markdown",
   "id": "a2a254e1",
   "metadata": {},
   "source": [
    "The VIF value for each variable are all just slightly higher than 1, suggesting a low correlation between predictor variables based on the rules of thumb of VIF (GVIF ~= 1 indicating little to no multicollinearity). \n",
    "\n",
    "This is a more formal way to check and visualize the result concluded by correlation matrix, Generalized VIF suggests multicollinearlity issue is not concerning at this stage."
   ]
  },
  {
   "cell_type": "markdown",
   "id": "99012f3a",
   "metadata": {},
   "source": [
    "### **c) Methods: Plan**\n",
    "\n",
    "#### **Method Used and Justifications**\n",
    "For this prediction assignment, we propose using **Logistic Regression** to model and analyze the relationship between students' various measurements and their placement status.\n",
    "\n",
    "#### Why is this method appropriate?\n",
    "**Logistic Regression** is well-suited for binary classification problems because it models  the log-odds of the outcome as a linear function of explanatory variables. This allows us to quantify the **strength of association** between each explanatory variables and the likelihood of being placed for a job.\n",
    "\n",
    "Also, it is easy to implement and interpret. The coefficients provide direct insight into how each covariate affects the log-odds of being placed or not, and p-values and confidence intervals (CIs) for the model coefficients are straightforward to generate. This is particularly valuable when I need to explain the model's decisions to non-technical stakeholders.\n",
    "\n",
    "##### Which assumptions are required to apply the method selected?\n",
    "* **Independence of Observations**: Each observation should be independent of the others.\n",
    "* **Binary Response**: The response variable is binary.\n",
    "* **Sample Size**: The sample size is large enough (which is satisfied in our case).\n",
    "* **Linearity**: There should be a linear relationship between the independent variables (explanatory) and the log odds of the dependent variable (response).\n",
    "* **Multicollinearity**: After data cleaning, there should be little or no multicollinearity among the independent variables.\n",
    "\n",
    "##### Potential Limitations or Weaknesses of the Method Selected\n",
    "* **Model Simplicity**: While logistic regression is straightforward, it may not capture complex non-linear relationships or interactions among variables as effectively as more advanced methods. Although it offers great interpretability, it might not provide the highest predictive accuracy compared to more complex models.\n",
    "* **Outliers and Class Imbalance**: Logistic Regression is sensitive to outliers in the covariate space, which can affect the estimated coefficients and potentially skew the model's performance. Additionally, imbalanced classes may affect model performance if not addressed with appropriate techniques.\n"
   ]
  },
  {
   "cell_type": "markdown",
   "id": "491b2611",
   "metadata": {},
   "source": [
    "#### **Feature Selection**"
   ]
  },
  {
   "cell_type": "markdown",
   "id": "0183bc1a",
   "metadata": {},
   "source": [
    "For predictive modeling best practices, we will split the data and do cross-validation to avoid overfitting and to better estimate out-of-sample performance."
   ]
  },
  {
   "cell_type": "code",
   "execution_count": 202,
   "id": "7001bcfa",
   "metadata": {
    "vscode": {
     "languageId": "r"
    }
   },
   "outputs": [
    {
     "data": {
      "text/html": [
       "<table class=\"dataframe\">\n",
       "<caption>A tibble: 6 × 11</caption>\n",
       "<thead>\n",
       "\t<tr><th scope=col>CGPA</th><th scope=col>Internships</th><th scope=col>Projects</th><th scope=col>Workshops_Certifications</th><th scope=col>AptitudeTestScore</th><th scope=col>SoftSkillsRating</th><th scope=col>ExtracurricularActivities</th><th scope=col>PlacementTraining</th><th scope=col>SSC_Marks</th><th scope=col>HSC_Marks</th><th scope=col>PlacementStatus</th></tr>\n",
       "\t<tr><th scope=col>&lt;dbl&gt;</th><th scope=col>&lt;dbl&gt;</th><th scope=col>&lt;fct&gt;</th><th scope=col>&lt;fct&gt;</th><th scope=col>&lt;dbl&gt;</th><th scope=col>&lt;dbl&gt;</th><th scope=col>&lt;fct&gt;</th><th scope=col>&lt;fct&gt;</th><th scope=col>&lt;dbl&gt;</th><th scope=col>&lt;dbl&gt;</th><th scope=col>&lt;fct&gt;</th></tr>\n",
       "</thead>\n",
       "<tbody>\n",
       "\t<tr><td>7.9</td><td>0</td><td>1-</td><td>0 </td><td>64</td><td>4.1</td><td>Yes</td><td>Yes</td><td>63</td><td>67</td><td>0</td></tr>\n",
       "\t<tr><td>8.2</td><td>2</td><td>3 </td><td>2+</td><td>87</td><td>4.8</td><td>Yes</td><td>Yes</td><td>77</td><td>86</td><td>1</td></tr>\n",
       "\t<tr><td>7.3</td><td>0</td><td>1-</td><td>0 </td><td>72</td><td>4.3</td><td>No </td><td>No </td><td>55</td><td>68</td><td>0</td></tr>\n",
       "\t<tr><td>6.8</td><td>1</td><td>1-</td><td>1 </td><td>84</td><td>4.2</td><td>No </td><td>No </td><td>55</td><td>69</td><td>0</td></tr>\n",
       "\t<tr><td>7.3</td><td>0</td><td>1-</td><td>1 </td><td>74</td><td>3.8</td><td>No </td><td>Yes</td><td>60</td><td>65</td><td>0</td></tr>\n",
       "\t<tr><td>7.9</td><td>0</td><td>2 </td><td>0 </td><td>75</td><td>4.3</td><td>No </td><td>No </td><td>79</td><td>63</td><td>0</td></tr>\n",
       "</tbody>\n",
       "</table>\n"
      ],
      "text/latex": [
       "A tibble: 6 × 11\n",
       "\\begin{tabular}{lllllllllll}\n",
       " CGPA & Internships & Projects & Workshops\\_Certifications & AptitudeTestScore & SoftSkillsRating & ExtracurricularActivities & PlacementTraining & SSC\\_Marks & HSC\\_Marks & PlacementStatus\\\\\n",
       " <dbl> & <dbl> & <fct> & <fct> & <dbl> & <dbl> & <fct> & <fct> & <dbl> & <dbl> & <fct>\\\\\n",
       "\\hline\n",
       "\t 7.9 & 0 & 1- & 0  & 64 & 4.1 & Yes & Yes & 63 & 67 & 0\\\\\n",
       "\t 8.2 & 2 & 3  & 2+ & 87 & 4.8 & Yes & Yes & 77 & 86 & 1\\\\\n",
       "\t 7.3 & 0 & 1- & 0  & 72 & 4.3 & No  & No  & 55 & 68 & 0\\\\\n",
       "\t 6.8 & 1 & 1- & 1  & 84 & 4.2 & No  & No  & 55 & 69 & 0\\\\\n",
       "\t 7.3 & 0 & 1- & 1  & 74 & 3.8 & No  & Yes & 60 & 65 & 0\\\\\n",
       "\t 7.9 & 0 & 2  & 0  & 75 & 4.3 & No  & No  & 79 & 63 & 0\\\\\n",
       "\\end{tabular}\n"
      ],
      "text/markdown": [
       "\n",
       "A tibble: 6 × 11\n",
       "\n",
       "| CGPA &lt;dbl&gt; | Internships &lt;dbl&gt; | Projects &lt;fct&gt; | Workshops_Certifications &lt;fct&gt; | AptitudeTestScore &lt;dbl&gt; | SoftSkillsRating &lt;dbl&gt; | ExtracurricularActivities &lt;fct&gt; | PlacementTraining &lt;fct&gt; | SSC_Marks &lt;dbl&gt; | HSC_Marks &lt;dbl&gt; | PlacementStatus &lt;fct&gt; |\n",
       "|---|---|---|---|---|---|---|---|---|---|---|\n",
       "| 7.9 | 0 | 1- | 0  | 64 | 4.1 | Yes | Yes | 63 | 67 | 0 |\n",
       "| 8.2 | 2 | 3  | 2+ | 87 | 4.8 | Yes | Yes | 77 | 86 | 1 |\n",
       "| 7.3 | 0 | 1- | 0  | 72 | 4.3 | No  | No  | 55 | 68 | 0 |\n",
       "| 6.8 | 1 | 1- | 1  | 84 | 4.2 | No  | No  | 55 | 69 | 0 |\n",
       "| 7.3 | 0 | 1- | 1  | 74 | 3.8 | No  | Yes | 60 | 65 | 0 |\n",
       "| 7.9 | 0 | 2  | 0  | 75 | 4.3 | No  | No  | 79 | 63 | 0 |\n",
       "\n"
      ],
      "text/plain": [
       "  CGPA Internships Projects Workshops_Certifications AptitudeTestScore\n",
       "1 7.9  0           1-       0                        64               \n",
       "2 8.2  2           3        2+                       87               \n",
       "3 7.3  0           1-       0                        72               \n",
       "4 6.8  1           1-       1                        84               \n",
       "5 7.3  0           1-       1                        74               \n",
       "6 7.9  0           2        0                        75               \n",
       "  SoftSkillsRating ExtracurricularActivities PlacementTraining SSC_Marks\n",
       "1 4.1              Yes                       Yes               63       \n",
       "2 4.8              Yes                       Yes               77       \n",
       "3 4.3              No                        No                55       \n",
       "4 4.2              No                        No                55       \n",
       "5 3.8              No                        Yes               60       \n",
       "6 4.3              No                        No                79       \n",
       "  HSC_Marks PlacementStatus\n",
       "1 67        0              \n",
       "2 86        1              \n",
       "3 68        0              \n",
       "4 69        0              \n",
       "5 65        0              \n",
       "6 63        0              "
      ]
     },
     "metadata": {},
     "output_type": "display_data"
    }
   ],
   "source": [
    "# 1) Split data into train & test sets\n",
    "set.seed(123)  # for reproducibility\n",
    "train_index <- sample(seq_len(nrow(data)), size = 0.7 * nrow(data))\n",
    "train_data  <- data[train_index, ]\n",
    "test_data   <- data[-train_index, ]\n",
    "\n",
    "head(train_data)"
   ]
  },
  {
   "cell_type": "code",
   "execution_count": 203,
   "id": "dba715af",
   "metadata": {
    "vscode": {
     "languageId": "r"
    }
   },
   "outputs": [],
   "source": [
    "# 2) Define a trainControl() object for k-fold CV\n",
    "train_control <- trainControl(\n",
    "  method = \"cv\",         # k-fold CV\n",
    "  number = 10,           # for 10-fold\n",
    "  savePredictions = TRUE\n",
    ")"
   ]
  },
  {
   "cell_type": "code",
   "execution_count": 204,
   "id": "0a22bbe4",
   "metadata": {
    "vscode": {
     "languageId": "r"
    }
   },
   "outputs": [
    {
     "name": "stdout",
     "output_type": "stream",
     "text": [
      "Start:  AIC=5399.89\n",
      ".outcome ~ CGPA + Internships + Projects2 + Projects3 + Workshops_Certifications1 + \n",
      "    `Workshops_Certifications2+` + AptitudeTestScore + SoftSkillsRating + \n",
      "    ExtracurricularActivitiesYes + PlacementTrainingYes + SSC_Marks + \n",
      "    HSC_Marks\n",
      "\n",
      "                               Df Deviance    AIC\n",
      "- Internships                   1   5374.1 5398.1\n",
      "<none>                              5373.9 5399.9\n",
      "- Projects2                     1   5379.0 5403.0\n",
      "- `Workshops_Certifications2+`  1   5387.5 5411.5\n",
      "- Workshops_Certifications1     1   5389.3 5413.3\n",
      "- HSC_Marks                     1   5402.8 5426.8\n",
      "- Projects3                     1   5405.6 5429.6\n",
      "- SSC_Marks                     1   5406.7 5430.7\n",
      "- CGPA                          1   5408.4 5432.4\n",
      "- SoftSkillsRating              1   5411.1 5435.1\n",
      "- ExtracurricularActivitiesYes  1   5460.8 5484.8\n",
      "- PlacementTrainingYes          1   5482.3 5506.3\n",
      "- AptitudeTestScore             1   5510.1 5534.1\n",
      "\n",
      "Step:  AIC=5398.11\n",
      ".outcome ~ CGPA + Projects2 + Projects3 + Workshops_Certifications1 + \n",
      "    `Workshops_Certifications2+` + AptitudeTestScore + SoftSkillsRating + \n",
      "    ExtracurricularActivitiesYes + PlacementTrainingYes + SSC_Marks + \n",
      "    HSC_Marks\n",
      "\n",
      "                               Df Deviance    AIC\n",
      "<none>                              5374.1 5398.1\n",
      "- Projects2                     1   5379.2 5401.2\n",
      "- `Workshops_Certifications2+`  1   5387.5 5409.5\n",
      "- Workshops_Certifications1     1   5389.6 5411.6\n",
      "- HSC_Marks                     1   5402.8 5424.8\n",
      "- Projects3                     1   5405.7 5427.7\n",
      "- SSC_Marks                     1   5406.8 5428.8\n",
      "- CGPA                          1   5408.4 5430.4\n",
      "- SoftSkillsRating              1   5411.2 5433.2\n",
      "- ExtracurricularActivitiesYes  1   5460.8 5482.8\n",
      "- PlacementTrainingYes          1   5482.5 5504.5\n",
      "- AptitudeTestScore             1   5510.2 5532.2\n",
      "Start:  AIC=5391.41\n",
      ".outcome ~ CGPA + Internships + Projects2 + Projects3 + Workshops_Certifications1 + \n",
      "    `Workshops_Certifications2+` + AptitudeTestScore + SoftSkillsRating + \n",
      "    ExtracurricularActivitiesYes + PlacementTrainingYes + SSC_Marks + \n",
      "    HSC_Marks\n",
      "\n",
      "                               Df Deviance    AIC\n",
      "- Internships                   1   5365.4 5389.4\n",
      "- Projects2                     1   5367.3 5391.3\n",
      "<none>                              5365.4 5391.4\n",
      "- `Workshops_Certifications2+`  1   5383.1 5407.1\n",
      "- Workshops_Certifications1     1   5383.2 5407.2\n",
      "- HSC_Marks                     1   5384.3 5408.3\n",
      "- CGPA                          1   5394.9 5418.9\n",
      "- Projects3                     1   5396.9 5420.9\n",
      "- SoftSkillsRating              1   5399.0 5423.0\n",
      "- SSC_Marks                     1   5407.0 5431.0\n",
      "- ExtracurricularActivitiesYes  1   5450.3 5474.3\n",
      "- AptitudeTestScore             1   5495.1 5519.1\n",
      "- PlacementTrainingYes          1   5496.5 5520.5\n",
      "\n",
      "Step:  AIC=5389.41\n",
      ".outcome ~ CGPA + Projects2 + Projects3 + Workshops_Certifications1 + \n",
      "    `Workshops_Certifications2+` + AptitudeTestScore + SoftSkillsRating + \n",
      "    ExtracurricularActivitiesYes + PlacementTrainingYes + SSC_Marks + \n",
      "    HSC_Marks\n",
      "\n",
      "                               Df Deviance    AIC\n",
      "- Projects2                     1   5367.3 5389.3\n",
      "<none>                              5365.4 5389.4\n",
      "- Workshops_Certifications1     1   5383.2 5405.2\n",
      "- `Workshops_Certifications2+`  1   5383.3 5405.3\n",
      "- HSC_Marks                     1   5384.3 5406.3\n",
      "- CGPA                          1   5395.1 5417.1\n",
      "- Projects3                     1   5397.0 5419.0\n",
      "- SoftSkillsRating              1   5399.0 5421.0\n",
      "- SSC_Marks                     1   5407.0 5429.0\n",
      "- ExtracurricularActivitiesYes  1   5450.3 5472.3\n",
      "- AptitudeTestScore             1   5495.6 5517.6\n",
      "- PlacementTrainingYes          1   5496.5 5518.5\n",
      "\n",
      "Step:  AIC=5389.27\n",
      ".outcome ~ CGPA + Projects3 + Workshops_Certifications1 + `Workshops_Certifications2+` + \n",
      "    AptitudeTestScore + SoftSkillsRating + ExtracurricularActivitiesYes + \n",
      "    PlacementTrainingYes + SSC_Marks + HSC_Marks\n",
      "\n",
      "                               Df Deviance    AIC\n",
      "<none>                              5367.3 5389.3\n",
      "- Workshops_Certifications1     1   5385.0 5405.0\n",
      "- `Workshops_Certifications2+`  1   5385.2 5405.2\n",
      "- HSC_Marks                     1   5386.7 5406.7\n",
      "- CGPA                          1   5397.4 5417.4\n",
      "- Projects3                     1   5401.4 5421.4\n",
      "- SoftSkillsRating              1   5401.8 5421.8\n",
      "- SSC_Marks                     1   5409.7 5429.7\n",
      "- ExtracurricularActivitiesYes  1   5453.4 5473.4\n",
      "- AptitudeTestScore             1   5498.7 5518.7\n",
      "- PlacementTrainingYes          1   5503.3 5523.3\n",
      "Start:  AIC=5398.31\n",
      ".outcome ~ CGPA + Internships + Projects2 + Projects3 + Workshops_Certifications1 + \n",
      "    `Workshops_Certifications2+` + AptitudeTestScore + SoftSkillsRating + \n",
      "    ExtracurricularActivitiesYes + PlacementTrainingYes + SSC_Marks + \n",
      "    HSC_Marks\n",
      "\n",
      "                               Df Deviance    AIC\n",
      "- Internships                   1   5372.3 5396.3\n",
      "- Projects2                     1   5374.1 5398.1\n",
      "<none>                              5372.3 5398.3\n",
      "- `Workshops_Certifications2+`  1   5389.7 5413.7\n",
      "- Workshops_Certifications1     1   5390.5 5414.5\n",
      "- HSC_Marks                     1   5394.6 5418.6\n",
      "- SoftSkillsRating              1   5403.4 5427.4\n",
      "- Projects3                     1   5403.8 5427.8\n",
      "- CGPA                          1   5408.8 5432.8\n",
      "- SSC_Marks                     1   5415.2 5439.2\n",
      "- ExtracurricularActivitiesYes  1   5455.8 5479.8\n",
      "- PlacementTrainingYes          1   5483.4 5507.4\n",
      "- AptitudeTestScore             1   5498.0 5522.0\n",
      "\n",
      "Step:  AIC=5396.31\n",
      ".outcome ~ CGPA + Projects2 + Projects3 + Workshops_Certifications1 + \n",
      "    `Workshops_Certifications2+` + AptitudeTestScore + SoftSkillsRating + \n",
      "    ExtracurricularActivitiesYes + PlacementTrainingYes + SSC_Marks + \n",
      "    HSC_Marks\n",
      "\n",
      "                               Df Deviance    AIC\n",
      "- Projects2                     1   5374.1 5396.1\n",
      "<none>                              5372.3 5396.3\n",
      "- `Workshops_Certifications2+`  1   5389.9 5411.9\n",
      "- Workshops_Certifications1     1   5390.5 5412.5\n",
      "- HSC_Marks                     1   5394.7 5416.7\n",
      "- SoftSkillsRating              1   5403.4 5425.4\n",
      "- Projects3                     1   5404.0 5426.0\n",
      "- CGPA                          1   5409.1 5431.1\n",
      "- SSC_Marks                     1   5415.2 5437.2\n",
      "- ExtracurricularActivitiesYes  1   5455.8 5477.8\n",
      "- PlacementTrainingYes          1   5483.4 5505.4\n",
      "- AptitudeTestScore             1   5498.6 5520.6\n",
      "\n",
      "Step:  AIC=5396.13\n",
      ".outcome ~ CGPA + Projects3 + Workshops_Certifications1 + `Workshops_Certifications2+` + \n",
      "    AptitudeTestScore + SoftSkillsRating + ExtracurricularActivitiesYes + \n",
      "    PlacementTrainingYes + SSC_Marks + HSC_Marks\n",
      "\n",
      "                               Df Deviance    AIC\n",
      "<none>                              5374.1 5396.1\n",
      "- `Workshops_Certifications2+`  1   5391.8 5411.8\n",
      "- Workshops_Certifications1     1   5392.3 5412.3\n",
      "- HSC_Marks                     1   5397.2 5417.2\n",
      "- SoftSkillsRating              1   5406.1 5426.1\n",
      "- Projects3                     1   5408.6 5428.6\n",
      "- CGPA                          1   5411.4 5431.4\n",
      "- SSC_Marks                     1   5417.7 5437.7\n",
      "- ExtracurricularActivitiesYes  1   5459.3 5479.3\n",
      "- PlacementTrainingYes          1   5489.2 5509.2\n",
      "- AptitudeTestScore             1   5501.7 5521.7\n",
      "Start:  AIC=5444.4\n",
      ".outcome ~ CGPA + Internships + Projects2 + Projects3 + Workshops_Certifications1 + \n",
      "    `Workshops_Certifications2+` + AptitudeTestScore + SoftSkillsRating + \n",
      "    ExtracurricularActivitiesYes + PlacementTrainingYes + SSC_Marks + \n",
      "    HSC_Marks\n",
      "\n",
      "                               Df Deviance    AIC\n",
      "- Internships                   1   5418.6 5442.6\n",
      "<none>                              5418.4 5444.4\n",
      "- Projects2                     1   5423.0 5447.0\n",
      "- Workshops_Certifications1     1   5431.7 5455.7\n",
      "- `Workshops_Certifications2+`  1   5434.3 5458.3\n",
      "- HSC_Marks                     1   5439.2 5463.2\n",
      "- CGPA                          1   5451.4 5475.4\n",
      "- Projects3                     1   5451.7 5475.7\n",
      "- SoftSkillsRating              1   5452.0 5476.0\n",
      "- SSC_Marks                     1   5464.9 5488.9\n",
      "- ExtracurricularActivitiesYes  1   5499.5 5523.5\n",
      "- PlacementTrainingYes          1   5509.1 5533.1\n",
      "- AptitudeTestScore             1   5565.4 5589.4\n",
      "\n",
      "Step:  AIC=5442.59\n",
      ".outcome ~ CGPA + Projects2 + Projects3 + Workshops_Certifications1 + \n",
      "    `Workshops_Certifications2+` + AptitudeTestScore + SoftSkillsRating + \n",
      "    ExtracurricularActivitiesYes + PlacementTrainingYes + SSC_Marks + \n",
      "    HSC_Marks\n",
      "\n",
      "                               Df Deviance    AIC\n",
      "<none>                              5418.6 5442.6\n",
      "- Projects2                     1   5423.2 5445.2\n",
      "- Workshops_Certifications1     1   5432.0 5454.0\n",
      "- `Workshops_Certifications2+`  1   5434.3 5456.3\n",
      "- HSC_Marks                     1   5439.2 5461.2\n",
      "- CGPA                          1   5451.4 5473.4\n",
      "- Projects3                     1   5451.7 5473.7\n",
      "- SoftSkillsRating              1   5452.0 5474.0\n",
      "- SSC_Marks                     1   5464.9 5486.9\n",
      "- ExtracurricularActivitiesYes  1   5499.5 5521.5\n",
      "- PlacementTrainingYes          1   5509.3 5531.3\n",
      "- AptitudeTestScore             1   5565.5 5587.5\n",
      "Start:  AIC=5357.68\n",
      ".outcome ~ CGPA + Internships + Projects2 + Projects3 + Workshops_Certifications1 + \n",
      "    `Workshops_Certifications2+` + AptitudeTestScore + SoftSkillsRating + \n",
      "    ExtracurricularActivitiesYes + PlacementTrainingYes + SSC_Marks + \n",
      "    HSC_Marks\n",
      "\n",
      "                               Df Deviance    AIC\n",
      "- Internships                   1   5332.0 5356.0\n",
      "<none>                              5331.7 5357.7\n",
      "- Projects2                     1   5334.7 5358.7\n",
      "- Workshops_Certifications1     1   5347.4 5371.4\n",
      "- `Workshops_Certifications2+`  1   5348.4 5372.4\n",
      "- HSC_Marks                     1   5357.6 5381.6\n",
      "- SoftSkillsRating              1   5361.4 5385.4\n",
      "- CGPA                          1   5366.4 5390.4\n",
      "- Projects3                     1   5367.3 5391.3\n",
      "- SSC_Marks                     1   5368.2 5392.2\n",
      "- ExtracurricularActivitiesYes  1   5431.0 5455.0\n",
      "- PlacementTrainingYes          1   5439.0 5463.0\n",
      "- AptitudeTestScore             1   5464.7 5488.7\n",
      "\n",
      "Step:  AIC=5355.99\n",
      ".outcome ~ CGPA + Projects2 + Projects3 + Workshops_Certifications1 + \n",
      "    `Workshops_Certifications2+` + AptitudeTestScore + SoftSkillsRating + \n",
      "    ExtracurricularActivitiesYes + PlacementTrainingYes + SSC_Marks + \n",
      "    HSC_Marks\n",
      "\n",
      "                               Df Deviance    AIC\n",
      "<none>                              5332.0 5356.0\n",
      "- Projects2                     1   5335.1 5357.1\n",
      "- Workshops_Certifications1     1   5347.9 5369.9\n",
      "- `Workshops_Certifications2+`  1   5348.4 5370.4\n",
      "- HSC_Marks                     1   5357.7 5379.7\n",
      "- SoftSkillsRating              1   5361.5 5383.5\n",
      "- CGPA                          1   5366.4 5388.4\n",
      "- Projects3                     1   5367.3 5389.3\n",
      "- SSC_Marks                     1   5368.4 5390.4\n",
      "- ExtracurricularActivitiesYes  1   5431.1 5453.1\n",
      "- PlacementTrainingYes          1   5439.4 5461.4\n",
      "- AptitudeTestScore             1   5464.7 5486.7\n",
      "Start:  AIC=5348.76\n",
      ".outcome ~ CGPA + Internships + Projects2 + Projects3 + Workshops_Certifications1 + \n",
      "    `Workshops_Certifications2+` + AptitudeTestScore + SoftSkillsRating + \n",
      "    ExtracurricularActivitiesYes + PlacementTrainingYes + SSC_Marks + \n",
      "    HSC_Marks\n",
      "\n",
      "                               Df Deviance    AIC\n",
      "- Internships                   1   5323.1 5347.1\n",
      "<none>                              5322.8 5348.8\n",
      "- Projects2                     1   5325.3 5349.3\n",
      "- `Workshops_Certifications2+`  1   5336.0 5360.0\n",
      "- Workshops_Certifications1     1   5344.7 5368.7\n",
      "- HSC_Marks                     1   5348.5 5372.5\n",
      "- CGPA                          1   5350.9 5374.9\n",
      "- Projects3                     1   5353.1 5377.1\n",
      "- SoftSkillsRating              1   5362.5 5386.5\n",
      "- SSC_Marks                     1   5367.7 5391.7\n",
      "- ExtracurricularActivitiesYes  1   5405.4 5429.4\n",
      "- PlacementTrainingYes          1   5428.2 5452.2\n",
      "- AptitudeTestScore             1   5470.3 5494.3\n",
      "\n",
      "Step:  AIC=5347.11\n",
      ".outcome ~ CGPA + Projects2 + Projects3 + Workshops_Certifications1 + \n",
      "    `Workshops_Certifications2+` + AptitudeTestScore + SoftSkillsRating + \n",
      "    ExtracurricularActivitiesYes + PlacementTrainingYes + SSC_Marks + \n",
      "    HSC_Marks\n",
      "\n",
      "                               Df Deviance    AIC\n",
      "<none>                              5323.1 5347.1\n",
      "- Projects2                     1   5325.7 5347.7\n",
      "- `Workshops_Certifications2+`  1   5336.1 5358.1\n",
      "- Workshops_Certifications1     1   5345.2 5367.2\n",
      "- HSC_Marks                     1   5348.6 5370.6\n",
      "- CGPA                          1   5350.9 5372.9\n",
      "- Projects3                     1   5353.2 5375.2\n",
      "- SoftSkillsRating              1   5362.6 5384.6\n",
      "- SSC_Marks                     1   5367.9 5389.9\n",
      "- ExtracurricularActivitiesYes  1   5405.5 5427.5\n",
      "- PlacementTrainingYes          1   5428.6 5450.6\n",
      "- AptitudeTestScore             1   5470.3 5492.3\n",
      "Start:  AIC=5411.57\n",
      ".outcome ~ CGPA + Internships + Projects2 + Projects3 + Workshops_Certifications1 + \n",
      "    `Workshops_Certifications2+` + AptitudeTestScore + SoftSkillsRating + \n",
      "    ExtracurricularActivitiesYes + PlacementTrainingYes + SSC_Marks + \n",
      "    HSC_Marks\n",
      "\n",
      "                               Df Deviance    AIC\n",
      "- Internships                   1   5386.1 5410.1\n",
      "<none>                              5385.6 5411.6\n",
      "- Projects2                     1   5390.6 5414.6\n",
      "- `Workshops_Certifications2+`  1   5403.5 5427.5\n",
      "- Workshops_Certifications1     1   5405.9 5429.9\n",
      "- HSC_Marks                     1   5410.4 5434.4\n",
      "- CGPA                          1   5417.5 5441.5\n",
      "- Projects3                     1   5418.7 5442.7\n",
      "- SSC_Marks                     1   5420.9 5444.9\n",
      "- SoftSkillsRating              1   5427.8 5451.8\n",
      "- ExtracurricularActivitiesYes  1   5467.0 5491.0\n",
      "- PlacementTrainingYes          1   5501.5 5525.5\n",
      "- AptitudeTestScore             1   5519.9 5543.9\n",
      "\n",
      "Step:  AIC=5410.08\n",
      ".outcome ~ CGPA + Projects2 + Projects3 + Workshops_Certifications1 + \n",
      "    `Workshops_Certifications2+` + AptitudeTestScore + SoftSkillsRating + \n",
      "    ExtracurricularActivitiesYes + PlacementTrainingYes + SSC_Marks + \n",
      "    HSC_Marks\n",
      "\n",
      "                               Df Deviance    AIC\n",
      "<none>                              5386.1 5410.1\n",
      "- Projects2                     1   5391.1 5413.1\n",
      "- `Workshops_Certifications2+`  1   5403.6 5425.6\n",
      "- Workshops_Certifications1     1   5406.7 5428.7\n",
      "- HSC_Marks                     1   5410.6 5432.6\n",
      "- CGPA                          1   5417.5 5439.5\n",
      "- Projects3                     1   5418.9 5440.9\n",
      "- SSC_Marks                     1   5421.1 5443.1\n",
      "- SoftSkillsRating              1   5428.0 5450.0\n",
      "- ExtracurricularActivitiesYes  1   5467.2 5489.2\n",
      "- PlacementTrainingYes          1   5502.0 5524.0\n",
      "- AptitudeTestScore             1   5519.9 5541.9\n",
      "Start:  AIC=5350.8\n",
      ".outcome ~ CGPA + Internships + Projects2 + Projects3 + Workshops_Certifications1 + \n",
      "    `Workshops_Certifications2+` + AptitudeTestScore + SoftSkillsRating + \n",
      "    ExtracurricularActivitiesYes + PlacementTrainingYes + SSC_Marks + \n",
      "    HSC_Marks\n",
      "\n",
      "                               Df Deviance    AIC\n",
      "- Internships                   1   5324.8 5348.8\n",
      "<none>                              5324.8 5350.8\n",
      "- Projects2                     1   5327.7 5351.7\n",
      "- Workshops_Certifications1     1   5340.9 5364.9\n",
      "- `Workshops_Certifications2+`  1   5342.8 5366.8\n",
      "- HSC_Marks                     1   5346.5 5370.5\n",
      "- CGPA                          1   5350.3 5374.3\n",
      "- SoftSkillsRating              1   5353.0 5377.0\n",
      "- Projects3                     1   5361.2 5385.2\n",
      "- SSC_Marks                     1   5364.3 5388.3\n",
      "- ExtracurricularActivitiesYes  1   5408.0 5432.0\n",
      "- PlacementTrainingYes          1   5451.6 5475.6\n",
      "- AptitudeTestScore             1   5471.0 5495.0\n",
      "\n",
      "Step:  AIC=5348.85\n",
      ".outcome ~ CGPA + Projects2 + Projects3 + Workshops_Certifications1 + \n",
      "    `Workshops_Certifications2+` + AptitudeTestScore + SoftSkillsRating + \n",
      "    ExtracurricularActivitiesYes + PlacementTrainingYes + SSC_Marks + \n",
      "    HSC_Marks\n",
      "\n",
      "                               Df Deviance    AIC\n",
      "<none>                              5324.8 5348.8\n",
      "- Projects2                     1   5327.8 5349.8\n",
      "- Workshops_Certifications1     1   5341.1 5363.1\n",
      "- `Workshops_Certifications2+`  1   5342.9 5364.9\n",
      "- HSC_Marks                     1   5346.5 5368.5\n",
      "- CGPA                          1   5350.4 5372.4\n",
      "- SoftSkillsRating              1   5353.0 5375.0\n",
      "- Projects3                     1   5361.3 5383.3\n",
      "- SSC_Marks                     1   5364.3 5386.3\n",
      "- ExtracurricularActivitiesYes  1   5408.0 5430.0\n",
      "- PlacementTrainingYes          1   5451.7 5473.7\n",
      "- AptitudeTestScore             1   5471.3 5493.3\n",
      "Start:  AIC=5423.13\n",
      ".outcome ~ CGPA + Internships + Projects2 + Projects3 + Workshops_Certifications1 + \n",
      "    `Workshops_Certifications2+` + AptitudeTestScore + SoftSkillsRating + \n",
      "    ExtracurricularActivitiesYes + PlacementTrainingYes + SSC_Marks + \n",
      "    HSC_Marks\n",
      "\n",
      "                               Df Deviance    AIC\n",
      "- Internships                   1   5397.2 5421.2\n",
      "<none>                              5397.1 5423.1\n",
      "- Projects2                     1   5400.7 5424.7\n",
      "- `Workshops_Certifications2+`  1   5412.7 5436.7\n",
      "- Workshops_Certifications1     1   5417.1 5441.1\n",
      "- HSC_Marks                     1   5419.8 5443.8\n",
      "- CGPA                          1   5427.1 5451.1\n",
      "- Projects3                     1   5429.2 5453.2\n",
      "- SSC_Marks                     1   5434.7 5458.7\n",
      "- SoftSkillsRating              1   5436.6 5460.6\n",
      "- ExtracurricularActivitiesYes  1   5484.3 5508.3\n",
      "- PlacementTrainingYes          1   5515.4 5539.4\n",
      "- AptitudeTestScore             1   5523.6 5547.6\n",
      "\n",
      "Step:  AIC=5421.15\n",
      ".outcome ~ CGPA + Projects2 + Projects3 + Workshops_Certifications1 + \n",
      "    `Workshops_Certifications2+` + AptitudeTestScore + SoftSkillsRating + \n",
      "    ExtracurricularActivitiesYes + PlacementTrainingYes + SSC_Marks + \n",
      "    HSC_Marks\n",
      "\n",
      "                               Df Deviance    AIC\n",
      "<none>                              5397.2 5421.2\n",
      "- Projects2                     1   5400.7 5422.7\n",
      "- `Workshops_Certifications2+`  1   5413.0 5435.0\n",
      "- Workshops_Certifications1     1   5417.1 5439.1\n",
      "- HSC_Marks                     1   5420.0 5442.0\n",
      "- CGPA                          1   5427.5 5449.5\n",
      "- Projects3                     1   5429.4 5451.4\n",
      "- SSC_Marks                     1   5434.7 5456.7\n",
      "- SoftSkillsRating              1   5436.8 5458.8\n",
      "- ExtracurricularActivitiesYes  1   5484.4 5506.4\n",
      "- PlacementTrainingYes          1   5515.5 5537.5\n",
      "- AptitudeTestScore             1   5524.4 5546.4\n",
      "Start:  AIC=5392.4\n",
      ".outcome ~ CGPA + Internships + Projects2 + Projects3 + Workshops_Certifications1 + \n",
      "    `Workshops_Certifications2+` + AptitudeTestScore + SoftSkillsRating + \n",
      "    ExtracurricularActivitiesYes + PlacementTrainingYes + SSC_Marks + \n",
      "    HSC_Marks\n",
      "\n",
      "                               Df Deviance    AIC\n",
      "- Internships                   1   5366.7 5390.7\n",
      "<none>                              5366.4 5392.4\n",
      "- Projects2                     1   5368.7 5392.7\n",
      "- Workshops_Certifications1     1   5379.7 5403.7\n",
      "- `Workshops_Certifications2+`  1   5386.2 5410.2\n",
      "- HSC_Marks                     1   5388.1 5412.1\n",
      "- Projects3                     1   5397.8 5421.8\n",
      "- CGPA                          1   5399.8 5423.8\n",
      "- SoftSkillsRating              1   5401.6 5425.6\n",
      "- SSC_Marks                     1   5404.0 5428.0\n",
      "- ExtracurricularActivitiesYes  1   5457.4 5481.4\n",
      "- PlacementTrainingYes          1   5488.4 5512.4\n",
      "- AptitudeTestScore             1   5502.2 5526.2\n",
      "\n",
      "Step:  AIC=5390.69\n",
      ".outcome ~ CGPA + Projects2 + Projects3 + Workshops_Certifications1 + \n",
      "    `Workshops_Certifications2+` + AptitudeTestScore + SoftSkillsRating + \n",
      "    ExtracurricularActivitiesYes + PlacementTrainingYes + SSC_Marks + \n",
      "    HSC_Marks\n",
      "\n",
      "                               Df Deviance    AIC\n",
      "<none>                              5366.7 5390.7\n",
      "- Projects2                     1   5369.0 5391.0\n",
      "- Workshops_Certifications1     1   5380.1 5402.1\n",
      "- `Workshops_Certifications2+`  1   5386.2 5408.2\n",
      "- HSC_Marks                     1   5388.2 5410.2\n",
      "- Projects3                     1   5397.8 5419.8\n",
      "- CGPA                          1   5399.8 5421.8\n",
      "- SoftSkillsRating              1   5401.6 5423.6\n",
      "- SSC_Marks                     1   5404.1 5426.1\n",
      "- ExtracurricularActivitiesYes  1   5457.5 5479.5\n",
      "- PlacementTrainingYes          1   5488.7 5510.7\n",
      "- AptitudeTestScore             1   5502.3 5524.3\n",
      "Start:  AIC=5989.51\n",
      ".outcome ~ CGPA + Internships + Projects2 + Projects3 + Workshops_Certifications1 + \n",
      "    `Workshops_Certifications2+` + AptitudeTestScore + SoftSkillsRating + \n",
      "    ExtracurricularActivitiesYes + PlacementTrainingYes + SSC_Marks + \n",
      "    HSC_Marks\n",
      "\n",
      "                               Df Deviance    AIC\n",
      "- Internships                   1   5963.6 5987.6\n",
      "<none>                              5963.5 5989.5\n",
      "- Projects2                     1   5967.0 5991.0\n",
      "- `Workshops_Certifications2+`  1   5981.9 6005.9\n",
      "- Workshops_Certifications1     1   5982.5 6006.5\n",
      "- HSC_Marks                     1   5989.4 6013.4\n",
      "- CGPA                          1   5998.6 6022.6\n",
      "- Projects3                     1   5999.9 6023.9\n",
      "- SoftSkillsRating              1   6002.2 6026.2\n",
      "- SSC_Marks                     1   6007.3 6031.3\n",
      "- ExtracurricularActivitiesYes  1   6059.1 6083.1\n",
      "- PlacementTrainingYes          1   6089.6 6113.6\n",
      "- AptitudeTestScore             1   6114.7 6138.7\n",
      "\n",
      "Step:  AIC=5987.64\n",
      ".outcome ~ CGPA + Projects2 + Projects3 + Workshops_Certifications1 + \n",
      "    `Workshops_Certifications2+` + AptitudeTestScore + SoftSkillsRating + \n",
      "    ExtracurricularActivitiesYes + PlacementTrainingYes + SSC_Marks + \n",
      "    HSC_Marks\n",
      "\n",
      "                               Df Deviance    AIC\n",
      "<none>                              5963.6 5987.6\n",
      "- Projects2                     1   5967.2 5989.2\n",
      "- `Workshops_Certifications2+`  1   5981.9 6003.9\n",
      "- Workshops_Certifications1     1   5982.7 6004.7\n",
      "- HSC_Marks                     1   5989.4 6011.4\n",
      "- CGPA                          1   5998.7 6020.7\n",
      "- Projects3                     1   5999.9 6021.9\n",
      "- SoftSkillsRating              1   6002.2 6024.2\n",
      "- SSC_Marks                     1   6007.3 6029.3\n",
      "- ExtracurricularActivitiesYes  1   6059.1 6081.1\n",
      "- PlacementTrainingYes          1   6089.7 6111.7\n",
      "- AptitudeTestScore             1   6114.9 6136.9\n"
     ]
    },
    {
     "data": {
      "text/plain": [
       "\n",
       "Call:\n",
       "NULL\n",
       "\n",
       "Coefficients:\n",
       "                               Estimate Std. Error z value Pr(>|z|)    \n",
       "(Intercept)                  -16.440476   0.657634 -24.999  < 2e-16 ***\n",
       "CGPA                           0.352759   0.059739   5.905 3.53e-09 ***\n",
       "Projects2                      0.165889   0.088103   1.883   0.0597 .  \n",
       "Projects3                      0.549776   0.090872   6.050 1.45e-09 ***\n",
       "Workshops_Certifications1     -0.375203   0.086352  -4.345 1.39e-05 ***\n",
       "`Workshops_Certifications2+`   0.347914   0.080981   4.296 1.74e-05 ***\n",
       "AptitudeTestScore              0.068917   0.005680  12.133  < 2e-16 ***\n",
       "SoftSkillsRating               0.621913   0.100498   6.188 6.08e-10 ***\n",
       "ExtracurricularActivitiesYes   0.793732   0.081300   9.763  < 2e-16 ***\n",
       "PlacementTrainingYes           0.957316   0.087239  10.973  < 2e-16 ***\n",
       "SSC_Marks                      0.025327   0.003826   6.620 3.58e-11 ***\n",
       "HSC_Marks                      0.023177   0.004557   5.086 3.65e-07 ***\n",
       "---\n",
       "Signif. codes:  0 '***' 0.001 '**' 0.01 '*' 0.05 '.' 0.1 ' ' 1\n",
       "\n",
       "(Dispersion parameter for binomial family taken to be 1)\n",
       "\n",
       "    Null deviance: 9529.2  on 6999  degrees of freedom\n",
       "Residual deviance: 5963.6  on 6988  degrees of freedom\n",
       "AIC: 5987.6\n",
       "\n",
       "Number of Fisher Scoring iterations: 5\n"
      ]
     },
     "metadata": {},
     "output_type": "display_data"
    }
   ],
   "source": [
    "#3) Fit a model and do feature selection \n",
    "model_cv <- train(\n",
    "  PlacementStatus ~ .,  \n",
    "  data       = train_data,\n",
    "  method     = \"glmStepAIC\",  # stepwise logistic\n",
    "  family     = binomial,\n",
    "  trControl  = train_control\n",
    ")\n",
    "#model_cv\n",
    "summary(model_cv$finalModel)\n",
    "\n",
    "finalmodel1 <- model_cv$finalModel\n"
   ]
  },
  {
   "cell_type": "markdown",
   "id": "05babcfc",
   "metadata": {},
   "source": [
    "**How the test data created and used :**\n",
    "\n",
    "* We manually split the train and test data. Then we performed a 10-fold-cros-validation on the training data only, within each fold, we run a stepwise logistic regression to choose covariates (based on AIC). After that, aggregating performance across the 10 folds to decide the best final overall model.\n",
    "* Note that we kept the test data locked and it wasn't used in fitting or selecting the model, only for final evaluation."
   ]
  },
  {
   "cell_type": "markdown",
   "id": "ca1470cd",
   "metadata": {},
   "source": [
    "**A brief Interpretation of the results:**\n",
    "\n",
    "Note that in the summary output of the logistic regression model, the covariate **Internships** was not selected (dropped) by StepAIC, indicating that it may have little predictive effect on the response variable.\n",
    "\n",
    "\n",
    "maybe adding things here"
   ]
  },
  {
   "cell_type": "markdown",
   "id": "9d611995",
   "metadata": {},
   "source": [
    "**Performing a careful model assessment and showing visualizations**"
   ]
  },
  {
   "cell_type": "markdown",
   "id": "c6d77464",
   "metadata": {},
   "source": [
    "1. "
   ]
  },
  {
   "cell_type": "code",
   "execution_count": 206,
   "id": "2d770b0d",
   "metadata": {
    "vscode": {
     "languageId": "r"
    }
   },
   "outputs": [
    {
     "data": {
      "text/plain": [
       "Confusion Matrix and Statistics\n",
       "\n",
       "          Reference\n",
       "Prediction    0    1\n",
       "         0 1460  314\n",
       "         1  291  935\n",
       "                                          \n",
       "               Accuracy : 0.7983          \n",
       "                 95% CI : (0.7835, 0.8126)\n",
       "    No Information Rate : 0.5837          \n",
       "    P-Value [Acc > NIR] : <2e-16          \n",
       "                                          \n",
       "                  Kappa : 0.5839          \n",
       "                                          \n",
       " Mcnemar's Test P-Value : 0.3711          \n",
       "                                          \n",
       "            Sensitivity : 0.8338          \n",
       "            Specificity : 0.7486          \n",
       "         Pos Pred Value : 0.8230          \n",
       "         Neg Pred Value : 0.7626          \n",
       "             Prevalence : 0.5837          \n",
       "         Detection Rate : 0.4867          \n",
       "   Detection Prevalence : 0.5913          \n",
       "      Balanced Accuracy : 0.7912          \n",
       "                                          \n",
       "       'Positive' Class : 0               \n",
       "                                          "
      ]
     },
     "metadata": {},
     "output_type": "display_data"
    }
   ],
   "source": [
    "# Prediction and Reporting \n",
    "\n",
    "test_probs  <- predict(model_cv, newdata = test_data, type = \"prob\")[, \"1\"]\n",
    "test_class   <- ifelse(test_probs > 0.5, \"Placed\", \"NotPlaced\")\n",
    "\n",
    "# Convert predictions and test outcomes to factors (0/1) for confusionMatrix\n",
    "test_pred_factor <- factor(test_pred, levels = c(0,1))\n",
    "test_out_factor  <- factor(test_data$PlacementStatus, levels = c(0,1))\n",
    "\n",
    "# -----------------------------------------------------\n",
    "# Evaluate performance\n",
    "# -----------------------------------------------------\n",
    "conf_mat <- confusionMatrix(test_pred_factor, test_out_factor)\n",
    "conf_mat\n"
   ]
  },
  {
   "cell_type": "markdown",
   "id": "c8f876fe",
   "metadata": {},
   "source": [
    "Our logistic regression model achieves about 79.83% accuracy, indicating that it generally distinguishes “Placed” vs. “Not Placed” students well. A Sensitivity of around 83% and a Specificity of about 0.783 all suggest a balanced performance between identifying truly placed students and minimizing false alarms. \n"
   ]
  },
  {
   "cell_type": "markdown",
   "id": "328a98a4",
   "metadata": {},
   "source": [
    "2. Check ROC"
   ]
  },
  {
   "cell_type": "code",
   "execution_count": null,
   "id": "34eacb2f",
   "metadata": {
    "vscode": {
     "languageId": "r"
    }
   },
   "outputs": [
    {
     "name": "stderr",
     "output_type": "stream",
     "text": [
      "Setting direction: controls < cases\n",
      "\n"
     ]
    },
    {
     "data": {
      "text/html": [
       "0.876879001773663"
      ],
      "text/latex": [
       "0.876879001773663"
      ],
      "text/markdown": [
       "0.876879001773663"
      ],
      "text/plain": [
       "Area under the curve: 0.8769"
      ]
     },
     "metadata": {},
     "output_type": "display_data"
    },
    {
     "data": {
      "image/png": "[encoded data removed]",
      "text/plain": [
       "plot without title"
      ]
     },
     "metadata": {
      "image/png": {
       "height": 900,
       "width": 900
      }
     },
     "output_type": "display_data"
    }
   ],
   "source": [
    "roc_obj <- roc(response = test_data$PlacementStatus,\n",
    "               predictor = test_probs,\n",
    "               levels = c(\"0\",\"1\"))\n",
    "auc_val <- auc(roc_obj)\n",
    "plot(roc_obj)\n",
    "\n",
    "\n",
    "auc_val #area under the ROC Curve\n"
   ]
  },
  {
   "cell_type": "markdown",
   "id": "d50a60d2",
   "metadata": {},
   "source": [
    "3. Maybe check overfitting or underfitting by comparing the performance of our model o ntest set and train set (CV)"
   ]
  },
  {
   "cell_type": "markdown",
   "id": "b7b6ae01",
   "metadata": {},
   "source": [
    "# 3. Discussion\n"
   ]
  },
  {
   "cell_type": "markdown",
   "id": "52a30911",
   "metadata": {},
   "source": [
    "# 4. References\n",
    "- Dataset has downloaded from Kaggle (https://www.kaggle.com/datasets/ruchikakumbhar/placement-prediction-dataset/data)\n",
    "- All the information (like data description, number of variables, number of observations, variable name, variable type and variable description) in the main 'Data Description' section has been adapted from https://www.kaggle.com/datasets/ruchikakumbhar/placement-prediction-dataset/data"
   ]
  },
  {
   "cell_type": "markdown",
   "id": "4092fed0",
   "metadata": {},
   "source": []
  }
 ],
 "metadata": {
  "kernelspec": {
   "display_name": "R",
   "language": "R",
   "name": "ir"
  },
  "language_info": {
   "codemirror_mode": "r",
   "file_extension": ".r",
   "mimetype": "text/x-r-source",
   "name": "R",
   "pygments_lexer": "r",
   "version": "4.4.2"
  }
 },
 "nbformat": 4,
 "nbformat_minor": 5
}
