{
 "cells": [
  {
   "cell_type": "markdown",
   "id": "55e40909",
   "metadata": {},
   "source": [
    "# **Job Placement Predictor**\n",
    "\n",
    "**Submitted by Group 33**  \n",
    "- Ashmit Gupta  \n",
    "- Jolin Lin  \n",
    "- Shikha Rajesh\n",
    "- Siddhanth Duggal  \n",
    "- Yu Chang\n",
    "\n",
    "**The University of British Columbia**  \n",
    "**STAT 301**  \n",
    "**Instructor**: Dr. Gabriela Cohen Freue  \n",
    "**Date**: 2025/04/16\n"
   ]
  },
  {
   "cell_type": "markdown",
   "id": "2c1cf8bd",
   "metadata": {},
   "source": [
    "# 1. Introduction"
   ]
  },
  {
   "cell_type": "markdown",
   "id": "91953b59",
   "metadata": {},
   "source": [
    "Getting a job right after college is tough; even top students can struggle. One extra internship or club can make all the difference. We're exploring how academic records, internships, and extracurriculars can help predict job placement, building on findings by Kim et al. (2022) about factors linked to success.\n",
    "\n",
    "Our primary goal and expectation is to answer the question: **How effectively can we develop a predictive model to classify a student’s placement status based on their relevant academic activities, performance metrics, and other associated scores?**\n",
    "\n",
    "We're using prediction to find patterns in student data that could help guide job searches, using the tools and methods we've learned in STAT 301."
   ]
  },
  {
   "cell_type": "markdown",
   "id": "de96ba00",
   "metadata": {},
   "source": [
    "# 2. Methods and Results"
   ]
  },
  {
   "cell_type": "markdown",
   "id": "5ee0e58b",
   "metadata": {},
   "source": [
    "### a) Data"
   ]
  },
  {
   "cell_type": "markdown",
   "id": "629e3944",
   "metadata": {},
   "source": [
    "#### Data Description "
   ]
  },
  {
   "cell_type": "markdown",
   "id": "ea5995b7",
   "metadata": {},
   "source": [
    "*Entire text in this cell has been taken from Ashmit Gupta's Assignment 1 and 2*\n",
    "\n",
    "The dataset contains various columns about the academic performance and the placement status (secured a job after graduation or not) of students. Notably, it has the following features:\n",
    "\n",
    "- Number of variables: 12\n",
    "- Number of observations: 10,000\n",
    "- Variable Information: Included in the following table"
   ]
  },
  {
   "cell_type": "markdown",
   "id": "6a529e22",
   "metadata": {},
   "source": [
    "| Column Name                  | Description                                                                                                                   | Data Type | Variable Type   |\n",
    "|-----------------------------|-------------------------------------------------------------------------------------------------------------------------------|-----------|-----------------|\n",
    "| `StudentID`                 | A unique identifier for each student (1 - 10000).                                                                             | double    | Categorical*    |\n",
    "| `CGPA`                      | Overall cumulative grades achieved by a student (0 - 10 scale).                                                               | double    | Quantitative    |\n",
    "| `Internships`               | Number of internships a student has completed.                                                                                | double    | Quantitative    |\n",
    "| `Projects`                  | Number of projects a student has completed.                                                                                   | double    | Quantitative    |\n",
    "| `Workshops/Certifications` | Number of online workshops/certifications a student has completed to upskill.                                                 | double    | Quantitative    |\n",
    "| `AptitudeTestScore`         | A student's aptitude test score to gauge quantitative and logical thinking (0 - 100).                                         | double    | Quantitative    |\n",
    "| `SoftSkillsRating`          | A student's communication/soft skill rating (1 - 5 scale).                                                                    | double    | Quantitative    |\n",
    "| `ExtracurricularActivities` | Whether a student participates in extracurricular activities (Yes/No).                                                        | character | Categorical     |\n",
    "| `PlacementTraining`         | Whether a student has undergone placement training to ace the placement process (Yes/No).                                     | character | Categorical     |\n",
    "| `SSC_Marks`                 | A student's Senior Secondary Certificate marks (0 - 100).                                                                     | double    | Quantitative    |\n",
    "| `HSC_Marks`                 | A student's Higher Secondary Certificate marks (0 - 100).                                                                     | double    | Quantitative    |\n",
    "| `PlacementStatus`           | Placement outcome (target column with two classes: Placed/Not placed).                                                        | character | Categorical     |\n"
   ]
  },
  {
   "cell_type": "markdown",
   "id": "730ef5dc-9827-4cd5-8dfd-d21ef729cbf5",
   "metadata": {},
   "source": [
    " * Although StudentID is numeric in nature, it is categorical in this context.\n",
    " * *Entire table and above text statement has been taken from Siddhanth Duggal's Assignment 1/2*\n"
   ]
  },
  {
   "cell_type": "markdown",
   "id": "f63db535",
   "metadata": {},
   "source": [
    "#### Data Source and Citation"
   ]
  },
  {
   "cell_type": "markdown",
   "id": "fa477990",
   "metadata": {},
   "source": [
    "*Entire text in this cell has been taken from Ashmit Gupta's Assignment 1 and 2*\n",
    "\n",
    "The dataset has been taken from Kaggle (https://www.kaggle.com/datasets/ruchikakumbhar/placement-prediction-dataset/data) updated 2 months ago by Kaggle username 'ruchikakumbhar'. It is under the 'CC0: Public Domain' License so the Kaggle user does not endorse this dataset. This also means it is freely available for us to use. "
   ]
  },
  {
   "cell_type": "markdown",
   "id": "e93f5dac",
   "metadata": {},
   "source": [
    "The data collection method is not provided in the author's profile nor on the Kaggle dataset webpage, so we would assume it's **observational data**. The citation is as follows:\n",
    "\n",
    "Kumbhar, R. (n.d.). *Placement Prediction Dataset*. Kaggle. Retrieved from [https://www.kaggle.com/datasets/ruchikakumbhar/placement-prediction-dataset/data](https://www.kaggle.com/datasets/ruchikakumbhar/placement-prediction-dataset/data)"
   ]
  },
  {
   "cell_type": "markdown",
   "id": "834edbb0",
   "metadata": {},
   "source": [
    "#### Data Loading"
   ]
  },
  {
   "cell_type": "code",
   "execution_count": 1,
   "id": "2c9914e5",
   "metadata": {
    "vscode": {
     "languageId": "r"
    }
   },
   "outputs": [
    {
     "name": "stderr",
     "output_type": "stream",
     "text": [
      "Warning message:\n",
      "\"package 'dplyr' was built under R version 4.4.3\"\n",
      "\n",
      "Attaching package: 'dplyr'\n",
      "\n",
      "\n",
      "The following objects are masked from 'package:stats':\n",
      "\n",
      "    filter, lag\n",
      "\n",
      "\n",
      "The following objects are masked from 'package:base':\n",
      "\n",
      "    intersect, setdiff, setequal, union\n",
      "\n",
      "\n",
      "Warning message:\n",
      "\"package 'car' was built under R version 4.4.3\"\n",
      "Loading required package: carData\n",
      "\n",
      "Warning message:\n",
      "\"package 'carData' was built under R version 4.4.3\"\n",
      "\n",
      "Attaching package: 'car'\n",
      "\n",
      "\n",
      "The following object is masked from 'package:dplyr':\n",
      "\n",
      "    recode\n",
      "\n",
      "\n",
      "Warning message:\n",
      "\"package 'tidyverse' was built under R version 4.4.3\"\n",
      "Warning message:\n",
      "\"package 'ggplot2' was built under R version 4.4.3\"\n",
      "Warning message:\n",
      "\"package 'tibble' was built under R version 4.4.3\"\n",
      "Warning message:\n",
      "\"package 'tidyr' was built under R version 4.4.3\"\n",
      "Warning message:\n",
      "\"package 'readr' was built under R version 4.4.3\"\n",
      "Warning message:\n",
      "\"package 'purrr' was built under R version 4.4.3\"\n",
      "Warning message:\n",
      "\"package 'stringr' was built under R version 4.4.3\"\n",
      "Warning message:\n",
      "\"package 'forcats' was built under R version 4.4.3\"\n",
      "Warning message:\n",
      "\"package 'lubridate' was built under R version 4.4.3\"\n",
      "── \u001b[1mAttaching core tidyverse packages\u001b[22m ──────────────────────── tidyverse 2.0.0 ──\n",
      "\u001b[32m✔\u001b[39m \u001b[34mforcats  \u001b[39m 1.0.0     \u001b[32m✔\u001b[39m \u001b[34mreadr    \u001b[39m 2.1.5\n",
      "\u001b[32m✔\u001b[39m \u001b[34mggplot2  \u001b[39m 3.5.1     \u001b[32m✔\u001b[39m \u001b[34mstringr  \u001b[39m 1.5.1\n",
      "\u001b[32m✔\u001b[39m \u001b[34mlubridate\u001b[39m 1.9.4     \u001b[32m✔\u001b[39m \u001b[34mtibble   \u001b[39m 3.2.1\n",
      "\u001b[32m✔\u001b[39m \u001b[34mpurrr    \u001b[39m 1.0.4     \u001b[32m✔\u001b[39m \u001b[34mtidyr    \u001b[39m 1.3.1\n",
      "── \u001b[1mConflicts\u001b[22m ────────────────────────────────────────── tidyverse_conflicts() ──\n",
      "\u001b[31m✖\u001b[39m \u001b[34mdplyr\u001b[39m::\u001b[32mfilter()\u001b[39m masks \u001b[34mstats\u001b[39m::filter()\n",
      "\u001b[31m✖\u001b[39m \u001b[34mdplyr\u001b[39m::\u001b[32mlag()\u001b[39m    masks \u001b[34mstats\u001b[39m::lag()\n",
      "\u001b[31m✖\u001b[39m \u001b[34mcar\u001b[39m::\u001b[32mrecode()\u001b[39m   masks \u001b[34mdplyr\u001b[39m::recode()\n",
      "\u001b[31m✖\u001b[39m \u001b[34mpurrr\u001b[39m::\u001b[32msome()\u001b[39m   masks \u001b[34mcar\u001b[39m::some()\n",
      "\u001b[36mℹ\u001b[39m Use the conflicted package (\u001b[3m\u001b[34m<http://conflicted.r-lib.org/>\u001b[39m\u001b[23m) to force all conflicts to become errors\n",
      "Warning message:\n",
      "\"package 'gridExtra' was built under R version 4.4.3\"\n",
      "\n",
      "Attaching package: 'gridExtra'\n",
      "\n",
      "\n",
      "The following object is masked from 'package:dplyr':\n",
      "\n",
      "    combine\n",
      "\n",
      "\n",
      "Warning message:\n",
      "\"package 'corrplot' was built under R version 4.4.3\"\n",
      "corrplot 0.95 loaded\n",
      "\n",
      "Warning message:\n",
      "\"package 'caret' was built under R version 4.4.3\"\n",
      "Loading required package: lattice\n",
      "\n",
      "\n",
      "Attaching package: 'caret'\n",
      "\n",
      "\n",
      "The following object is masked from 'package:purrr':\n",
      "\n",
      "    lift\n",
      "\n",
      "\n",
      "Warning message:\n",
      "\"package 'pROC' was built under R version 4.4.3\"\n",
      "Type 'citation(\"pROC\")' for a citation.\n",
      "\n",
      "\n",
      "Attaching package: 'pROC'\n",
      "\n",
      "\n",
      "The following objects are masked from 'package:stats':\n",
      "\n",
      "    cov, smooth, var\n",
      "\n",
      "\n"
     ]
    }
   ],
   "source": [
    "#Loading Libs\n",
    "library(dplyr)\n",
    "library(car)\n",
    "library(tidyverse)\n",
    "library(gridExtra)\n",
    "library(corrplot)\n",
    "library(caret)\n",
    "library(pROC)"
   ]
  },
  {
   "cell_type": "code",
   "execution_count": 2,
   "id": "d02f5e2d",
   "metadata": {
    "vscode": {
     "languageId": "r"
    }
   },
   "outputs": [
    {
     "name": "stdout",
     "output_type": "stream",
     "text": [
      "Number of observations: 10000 \n",
      "Number of variables: 12 \n"
     ]
    }
   ],
   "source": [
    "# Main Developer: Yu Chang\n",
    "# Entire code in this cell has been taken from Yu's Assignment 1\n",
    "data_file_link <- \"https://raw.githubusercontent.com/rainn72/Placement_predictor/refs/heads/main/data/placementdata.csv\"\n",
    "data <- read_csv(data_file_link, show_col_types = FALSE)\n",
    "\n",
    "original_data <- data\n",
    "num_observations <- nrow(data)\n",
    "num_variables <- ncol(data)\n",
    "cat(\"Number of observations:\", num_observations, \"\\n\")\n",
    "cat(\"Number of variables:\", num_variables, \"\\n\")"
   ]
  },
  {
   "cell_type": "markdown",
   "id": "32517b37",
   "metadata": {},
   "source": [
    "#### Initial Data Preprocessing\n",
    "\n",
    "1. we checked if there're duplicated values in the dataset and there are no duplicates that we need to remove."
   ]
  },
  {
   "cell_type": "code",
   "execution_count": null,
   "id": "fe759249",
   "metadata": {
    "vscode": {
     "languageId": "r"
    }
   },
   "outputs": [
    {
     "data": {
      "text/html": [
       "<table class=\"dataframe\">\n",
       "<caption>A tibble: 0 × 2</caption>\n",
       "<thead>\n",
       "\t<tr><th scope=col>StudentID</th><th scope=col>value_count</th></tr>\n",
       "\t<tr><th scope=col>&lt;dbl&gt;</th><th scope=col>&lt;int&gt;</th></tr>\n",
       "</thead>\n",
       "<tbody>\n",
       "</tbody>\n",
       "</table>\n"
      ],
      "text/latex": [
       "A tibble: 0 × 2\n",
       "\\begin{tabular}{ll}\n",
       " StudentID & value\\_count\\\\\n",
       " <dbl> & <int>\\\\\n",
       "\\hline\n",
       "\\end{tabular}\n"
      ],
      "text/markdown": [
       "\n",
       "A tibble: 0 × 2\n",
       "\n",
       "| StudentID &lt;dbl&gt; | value_count &lt;int&gt; |\n",
       "|---|---|\n",
       "\n"
      ],
      "text/plain": [
       "     StudentID value_count"
      ]
     },
     "metadata": {},
     "output_type": "display_data"
    }
   ],
   "source": [
    "# Main Developer: Ashmit Gupta\n",
    "# Entire code in this cell has been taken from Ashmit Gupta's Assignment 1 and 2\n",
    "\n",
    "duplicate_values <- data %>% \n",
    "                    group_by(StudentID) %>% \n",
    "                    summarise(value_count = n()) %>%\n",
    "                    filter(value_count > 1)\n",
    "                    \n",
    "duplicate_values"
   ]
  },
  {
   "cell_type": "markdown",
   "id": "8bdb6749",
   "metadata": {},
   "source": [
    "*Entire text in this cell has been taken from Ashmit Gupta's Assignment 1 and 2*\n",
    "\n",
    "2. We will drop the StudentID column since this variable definitely won't be useful in our prediction.\n"
   ]
  },
  {
   "cell_type": "code",
   "execution_count": 4,
   "id": "7f2f8738",
   "metadata": {
    "vscode": {
     "languageId": "r"
    }
   },
   "outputs": [],
   "source": [
    "# Main Developer: Yu Chang\n",
    "data <- data %>% select(-StudentID)"
   ]
  },
  {
   "cell_type": "markdown",
   "id": "4b9d42b4",
   "metadata": {},
   "source": [
    "3. We changed the name of a covariate because it(\"/\") may raise errors in some following code"
   ]
  },
  {
   "cell_type": "code",
   "execution_count": 5,
   "id": "656a0090",
   "metadata": {
    "vscode": {
     "languageId": "r"
    }
   },
   "outputs": [
    {
     "data": {
      "text/html": [
       "<table class=\"dataframe\">\n",
       "<caption>A tibble: 3 × 11</caption>\n",
       "<thead>\n",
       "\t<tr><th scope=col>CGPA</th><th scope=col>Internships</th><th scope=col>Projects</th><th scope=col>Workshops_Certifications</th><th scope=col>AptitudeTestScore</th><th scope=col>SoftSkillsRating</th><th scope=col>ExtracurricularActivities</th><th scope=col>PlacementTraining</th><th scope=col>SSC_Marks</th><th scope=col>HSC_Marks</th><th scope=col>PlacementStatus</th></tr>\n",
       "\t<tr><th scope=col>&lt;dbl&gt;</th><th scope=col>&lt;dbl&gt;</th><th scope=col>&lt;dbl&gt;</th><th scope=col>&lt;dbl&gt;</th><th scope=col>&lt;dbl&gt;</th><th scope=col>&lt;dbl&gt;</th><th scope=col>&lt;chr&gt;</th><th scope=col>&lt;chr&gt;</th><th scope=col>&lt;dbl&gt;</th><th scope=col>&lt;dbl&gt;</th><th scope=col>&lt;chr&gt;</th></tr>\n",
       "</thead>\n",
       "<tbody>\n",
       "\t<tr><td>7.5</td><td>1</td><td>1</td><td>1</td><td>65</td><td>4.4</td><td>No </td><td>No </td><td>61</td><td>79</td><td>NotPlaced</td></tr>\n",
       "\t<tr><td>8.9</td><td>0</td><td>3</td><td>2</td><td>90</td><td>4.0</td><td>Yes</td><td>Yes</td><td>78</td><td>82</td><td>Placed   </td></tr>\n",
       "\t<tr><td>7.3</td><td>1</td><td>2</td><td>2</td><td>82</td><td>4.8</td><td>Yes</td><td>No </td><td>79</td><td>80</td><td>NotPlaced</td></tr>\n",
       "</tbody>\n",
       "</table>\n"
      ],
      "text/latex": [
       "A tibble: 3 × 11\n",
       "\\begin{tabular}{lllllllllll}\n",
       " CGPA & Internships & Projects & Workshops\\_Certifications & AptitudeTestScore & SoftSkillsRating & ExtracurricularActivities & PlacementTraining & SSC\\_Marks & HSC\\_Marks & PlacementStatus\\\\\n",
       " <dbl> & <dbl> & <dbl> & <dbl> & <dbl> & <dbl> & <chr> & <chr> & <dbl> & <dbl> & <chr>\\\\\n",
       "\\hline\n",
       "\t 7.5 & 1 & 1 & 1 & 65 & 4.4 & No  & No  & 61 & 79 & NotPlaced\\\\\n",
       "\t 8.9 & 0 & 3 & 2 & 90 & 4.0 & Yes & Yes & 78 & 82 & Placed   \\\\\n",
       "\t 7.3 & 1 & 2 & 2 & 82 & 4.8 & Yes & No  & 79 & 80 & NotPlaced\\\\\n",
       "\\end{tabular}\n"
      ],
      "text/markdown": [
       "\n",
       "A tibble: 3 × 11\n",
       "\n",
       "| CGPA &lt;dbl&gt; | Internships &lt;dbl&gt; | Projects &lt;dbl&gt; | Workshops_Certifications &lt;dbl&gt; | AptitudeTestScore &lt;dbl&gt; | SoftSkillsRating &lt;dbl&gt; | ExtracurricularActivities &lt;chr&gt; | PlacementTraining &lt;chr&gt; | SSC_Marks &lt;dbl&gt; | HSC_Marks &lt;dbl&gt; | PlacementStatus &lt;chr&gt; |\n",
       "|---|---|---|---|---|---|---|---|---|---|---|\n",
       "| 7.5 | 1 | 1 | 1 | 65 | 4.4 | No  | No  | 61 | 79 | NotPlaced |\n",
       "| 8.9 | 0 | 3 | 2 | 90 | 4.0 | Yes | Yes | 78 | 82 | Placed    |\n",
       "| 7.3 | 1 | 2 | 2 | 82 | 4.8 | Yes | No  | 79 | 80 | NotPlaced |\n",
       "\n"
      ],
      "text/plain": [
       "  CGPA Internships Projects Workshops_Certifications AptitudeTestScore\n",
       "1 7.5  1           1        1                        65               \n",
       "2 8.9  0           3        2                        90               \n",
       "3 7.3  1           2        2                        82               \n",
       "  SoftSkillsRating ExtracurricularActivities PlacementTraining SSC_Marks\n",
       "1 4.4              No                        No                61       \n",
       "2 4.0              Yes                       Yes               78       \n",
       "3 4.8              Yes                       No                79       \n",
       "  HSC_Marks PlacementStatus\n",
       "1 79        NotPlaced      \n",
       "2 82        Placed         \n",
       "3 80        NotPlaced      "
      ]
     },
     "metadata": {},
     "output_type": "display_data"
    }
   ],
   "source": [
    "# Main Developer: Yu Chang\n",
    "data <- data %>%\n",
    "  rename(Workshops_Certifications = `Workshops/Certifications`)\n",
    "\n",
    "head(data, 3)\n"
   ]
  },
  {
   "cell_type": "markdown",
   "id": "ec317fd9",
   "metadata": {},
   "source": [
    "4. We replaced the levels `NotPlaced` and `Placed` for `PlacementStatus` in the dataset with the numerical values `1` and `0`"
   ]
  },
  {
   "cell_type": "code",
   "execution_count": 6,
   "id": "46786b39",
   "metadata": {
    "vscode": {
     "languageId": "r"
    }
   },
   "outputs": [],
   "source": [
    "# Main Developer: Yu Chang\n",
    "data <- data %>%\n",
    "  mutate(PlacementStatus = if_else(PlacementStatus == \"Placed\", 1, 0))\n",
    "\n",
    "data$PlacementStatus <- factor(data$PlacementStatus,\n",
    "                                 levels = c(\"0\", \"1\"))"
   ]
  },
  {
   "cell_type": "markdown",
   "id": "66b56ef8",
   "metadata": {},
   "source": [
    "5. Convert the Yes/No columns (categorical) to factors and later we will 0-1 encode them for interpretability, and we treat the covariates like `Internships` or `projects` as numeric, which assumes a linear effect between each 'level'."
   ]
  },
  {
   "cell_type": "code",
   "execution_count": 7,
   "id": "ecce421c",
   "metadata": {
    "vscode": {
     "languageId": "r"
    }
   },
   "outputs": [
    {
     "data": {
      "text/html": [
       "<table class=\"dataframe\">\n",
       "<caption>A tibble: 3 × 11</caption>\n",
       "<thead>\n",
       "\t<tr><th scope=col>CGPA</th><th scope=col>Internships</th><th scope=col>Projects</th><th scope=col>Workshops_Certifications</th><th scope=col>AptitudeTestScore</th><th scope=col>SoftSkillsRating</th><th scope=col>ExtracurricularActivities</th><th scope=col>PlacementTraining</th><th scope=col>SSC_Marks</th><th scope=col>HSC_Marks</th><th scope=col>PlacementStatus</th></tr>\n",
       "\t<tr><th scope=col>&lt;dbl&gt;</th><th scope=col>&lt;dbl&gt;</th><th scope=col>&lt;dbl&gt;</th><th scope=col>&lt;dbl&gt;</th><th scope=col>&lt;dbl&gt;</th><th scope=col>&lt;dbl&gt;</th><th scope=col>&lt;fct&gt;</th><th scope=col>&lt;fct&gt;</th><th scope=col>&lt;dbl&gt;</th><th scope=col>&lt;dbl&gt;</th><th scope=col>&lt;fct&gt;</th></tr>\n",
       "</thead>\n",
       "<tbody>\n",
       "\t<tr><td>7.5</td><td>1</td><td>1</td><td>1</td><td>65</td><td>4.4</td><td>No </td><td>No </td><td>61</td><td>79</td><td>0</td></tr>\n",
       "\t<tr><td>8.9</td><td>0</td><td>3</td><td>2</td><td>90</td><td>4.0</td><td>Yes</td><td>Yes</td><td>78</td><td>82</td><td>1</td></tr>\n",
       "\t<tr><td>7.3</td><td>1</td><td>2</td><td>2</td><td>82</td><td>4.8</td><td>Yes</td><td>No </td><td>79</td><td>80</td><td>0</td></tr>\n",
       "</tbody>\n",
       "</table>\n"
      ],
      "text/latex": [
       "A tibble: 3 × 11\n",
       "\\begin{tabular}{lllllllllll}\n",
       " CGPA & Internships & Projects & Workshops\\_Certifications & AptitudeTestScore & SoftSkillsRating & ExtracurricularActivities & PlacementTraining & SSC\\_Marks & HSC\\_Marks & PlacementStatus\\\\\n",
       " <dbl> & <dbl> & <dbl> & <dbl> & <dbl> & <dbl> & <fct> & <fct> & <dbl> & <dbl> & <fct>\\\\\n",
       "\\hline\n",
       "\t 7.5 & 1 & 1 & 1 & 65 & 4.4 & No  & No  & 61 & 79 & 0\\\\\n",
       "\t 8.9 & 0 & 3 & 2 & 90 & 4.0 & Yes & Yes & 78 & 82 & 1\\\\\n",
       "\t 7.3 & 1 & 2 & 2 & 82 & 4.8 & Yes & No  & 79 & 80 & 0\\\\\n",
       "\\end{tabular}\n"
      ],
      "text/markdown": [
       "\n",
       "A tibble: 3 × 11\n",
       "\n",
       "| CGPA &lt;dbl&gt; | Internships &lt;dbl&gt; | Projects &lt;dbl&gt; | Workshops_Certifications &lt;dbl&gt; | AptitudeTestScore &lt;dbl&gt; | SoftSkillsRating &lt;dbl&gt; | ExtracurricularActivities &lt;fct&gt; | PlacementTraining &lt;fct&gt; | SSC_Marks &lt;dbl&gt; | HSC_Marks &lt;dbl&gt; | PlacementStatus &lt;fct&gt; |\n",
       "|---|---|---|---|---|---|---|---|---|---|---|\n",
       "| 7.5 | 1 | 1 | 1 | 65 | 4.4 | No  | No  | 61 | 79 | 0 |\n",
       "| 8.9 | 0 | 3 | 2 | 90 | 4.0 | Yes | Yes | 78 | 82 | 1 |\n",
       "| 7.3 | 1 | 2 | 2 | 82 | 4.8 | Yes | No  | 79 | 80 | 0 |\n",
       "\n"
      ],
      "text/plain": [
       "  CGPA Internships Projects Workshops_Certifications AptitudeTestScore\n",
       "1 7.5  1           1        1                        65               \n",
       "2 8.9  0           3        2                        90               \n",
       "3 7.3  1           2        2                        82               \n",
       "  SoftSkillsRating ExtracurricularActivities PlacementTraining SSC_Marks\n",
       "1 4.4              No                        No                61       \n",
       "2 4.0              Yes                       Yes               78       \n",
       "3 4.8              Yes                       No                79       \n",
       "  HSC_Marks PlacementStatus\n",
       "1 79        0              \n",
       "2 82        1              \n",
       "3 80        0              "
      ]
     },
     "metadata": {},
     "output_type": "display_data"
    }
   ],
   "source": [
    "# Main Developer: Yu Chang\n",
    "\n",
    "data$ExtracurricularActivities <- factor(data$ExtracurricularActivities,\n",
    "                                         levels = c(\"No\", \"Yes\"))\n",
    "data$PlacementTraining <- factor(data$PlacementTraining,\n",
    "                                 levels = c(\"No\", \"Yes\"))\n",
    "head(data,3)"
   ]
  },
  {
   "cell_type": "markdown",
   "id": "62f4f00d",
   "metadata": {},
   "source": [
    "### b) Exploratory Data Analysis (EDA)"
   ]
  },
  {
   "cell_type": "markdown",
   "id": "d1b07277",
   "metadata": {},
   "source": [
    "#### **Data Preprocessing**\n",
    "\n",
    "\n",
    "##### **Check Missing Values**"
   ]
  },
  {
   "cell_type": "code",
   "execution_count": 8,
   "id": "5c584d88",
   "metadata": {
    "vscode": {
     "languageId": "r"
    }
   },
   "outputs": [
    {
     "data": {
      "text/html": [
       "<style>\n",
       ".dl-inline {width: auto; margin:0; padding: 0}\n",
       ".dl-inline>dt, .dl-inline>dd {float: none; width: auto; display: inline-block}\n",
       ".dl-inline>dt::after {content: \":\\0020\"; padding-right: .5ex}\n",
       ".dl-inline>dt:not(:first-of-type) {padding-left: .5ex}\n",
       "</style><dl class=dl-inline><dt>CGPA</dt><dd>0</dd><dt>Internships</dt><dd>0</dd><dt>Projects</dt><dd>0</dd><dt>Workshops_Certifications</dt><dd>0</dd><dt>AptitudeTestScore</dt><dd>0</dd><dt>SoftSkillsRating</dt><dd>0</dd><dt>ExtracurricularActivities</dt><dd>0</dd><dt>PlacementTraining</dt><dd>0</dd><dt>SSC_Marks</dt><dd>0</dd><dt>HSC_Marks</dt><dd>0</dd><dt>PlacementStatus</dt><dd>0</dd></dl>\n"
      ],
      "text/latex": [
       "\\begin{description*}\n",
       "\\item[CGPA] 0\n",
       "\\item[Internships] 0\n",
       "\\item[Projects] 0\n",
       "\\item[Workshops\\textbackslash{}\\_Certifications] 0\n",
       "\\item[AptitudeTestScore] 0\n",
       "\\item[SoftSkillsRating] 0\n",
       "\\item[ExtracurricularActivities] 0\n",
       "\\item[PlacementTraining] 0\n",
       "\\item[SSC\\textbackslash{}\\_Marks] 0\n",
       "\\item[HSC\\textbackslash{}\\_Marks] 0\n",
       "\\item[PlacementStatus] 0\n",
       "\\end{description*}\n"
      ],
      "text/markdown": [
       "CGPA\n",
       ":   0Internships\n",
       ":   0Projects\n",
       ":   0Workshops_Certifications\n",
       ":   0AptitudeTestScore\n",
       ":   0SoftSkillsRating\n",
       ":   0ExtracurricularActivities\n",
       ":   0PlacementTraining\n",
       ":   0SSC_Marks\n",
       ":   0HSC_Marks\n",
       ":   0PlacementStatus\n",
       ":   0\n",
       "\n"
      ],
      "text/plain": [
       "                     CGPA               Internships                  Projects \n",
       "                        0                         0                         0 \n",
       " Workshops_Certifications         AptitudeTestScore          SoftSkillsRating \n",
       "                        0                         0                         0 \n",
       "ExtracurricularActivities         PlacementTraining                 SSC_Marks \n",
       "                        0                         0                         0 \n",
       "                HSC_Marks           PlacementStatus \n",
       "                        0                         0 "
      ]
     },
     "metadata": {},
     "output_type": "display_data"
    }
   ],
   "source": [
    "# Main Developer: Yu Chang\n",
    "colSums(is.na(data))"
   ]
  },
  {
   "cell_type": "markdown",
   "id": "497f6ac0",
   "metadata": {},
   "source": [
    "Good! The dataset contains no missing values."
   ]
  },
  {
   "cell_type": "markdown",
   "id": "5bf58ab0",
   "metadata": {},
   "source": [
    "##### **Check Class Imbalance**"
   ]
  },
  {
   "cell_type": "code",
   "execution_count": 9,
   "id": "d7b85c66",
   "metadata": {
    "vscode": {
     "languageId": "r"
    }
   },
   "outputs": [
    {
     "data": {
      "image/png": "[encoded data removed]",
      "text/plain": [
       "plot without title"
      ]
     },
     "metadata": {
      "image/png": {
       "height": 420,
       "width": 420
      }
     },
     "output_type": "display_data"
    }
   ],
   "source": [
    "# Main Developer: Yu Chang\n",
    "\n",
    "p1 <- ggplot(data, aes(x = ExtracurricularActivities)) +\n",
    "  geom_bar(fill = \"blue\", color = \"black\") +\n",
    "  labs(title = \"ExtracurricularActivities\", x = \"Categories\", y = \"Count\") +\n",
    "  theme_minimal(base_size = 14) +\n",
    "  theme(\n",
    "    plot.title = element_text(size = 16, face = \"bold\"),\n",
    "    axis.title = element_text(size = 14),\n",
    "    axis.text = element_text(size = 12)\n",
    "  )\n",
    "\n",
    "p2 <- ggplot(data, aes(x = PlacementTraining)) +\n",
    "  geom_bar(fill = \"blue\", color = \"black\") +\n",
    "  labs(title = \"PlacementTraining\", x = \"categories\", y = \"Count\") +\n",
    "  theme_minimal(base_size = 14) +\n",
    "  theme(\n",
    "    plot.title = element_text(size = 16, face = \"bold\"),\n",
    "    axis.title = element_text(size = 14),\n",
    "    axis.text = element_text(size = 12)\n",
    "  )\n",
    "\n",
    "p3 <- ggplot(data, aes(x = PlacementStatus)) +\n",
    "  geom_bar(fill = \"blue\", color = \"black\") +\n",
    "  labs(title = \"PlacementStatus\", x = \"Categories\", y = \"Count\") +\n",
    "  theme_minimal(base_size = 14) +\n",
    "  theme(\n",
    "    plot.title = element_text(size = 16, face = \"bold\"),\n",
    "    axis.title = element_text(size = 14),\n",
    "    axis.text = element_text(size = 12)\n",
    "  )\n",
    "\n",
    "grid.arrange(p1, p2, p3, ncol = 2)\n",
    "\n",
    "#Citation:   Auguie B (2017). _gridExtra: Miscellaneous Functions for \"Grid\"\n",
    "  #Graphics_. R package version 2.3,\n",
    "  #<https://CRAN.R-project.org/package=gridExtra>.\n",
    "\n",
    "#Reason of using:  We found that simply call each plot object would make them displaying vertically,\n",
    "# which isn't suitable for quick scaning, so we utilized the library gridExtra and the function grid.arrange()"
   ]
  },
  {
   "cell_type": "markdown",
   "id": "a9edd966",
   "metadata": {},
   "source": [
    "*Entire text in this cell has been taken from Ashmit Gupta's Assignment 1 and 2*\n",
    "- For the response variable (PlacementStatus), there is no class imbalance, so no further tidying is required in this aspect.\n",
    "- There are enough values in both the categorical predictor variables for each of their categories such that there is no reason to merge or drop come categories."
   ]
  },
  {
   "cell_type": "markdown",
   "id": "3b1d3aa7",
   "metadata": {},
   "source": [
    "##### **Check Distributional Skewness**"
   ]
  },
  {
   "cell_type": "code",
   "execution_count": 10,
   "id": "7f03882f",
   "metadata": {
    "vscode": {
     "languageId": "r"
    }
   },
   "outputs": [
    {
     "data": {
      "text/html": [
       "<style>\n",
       ".list-inline {list-style: none; margin:0; padding: 0}\n",
       ".list-inline>li {display: inline-block}\n",
       ".list-inline>li:not(:last-child)::after {content: \"\\00b7\"; padding: 0 .5ex}\n",
       "</style>\n",
       "<ol class=list-inline><li>'CGPA'</li><li>'Internships'</li><li>'Projects'</li><li>'Workshops_Certifications'</li><li>'AptitudeTestScore'</li><li>'SoftSkillsRating'</li><li>'ExtracurricularActivities'</li><li>'PlacementTraining'</li><li>'SSC_Marks'</li><li>'HSC_Marks'</li><li>'PlacementStatus'</li></ol>\n"
      ],
      "text/latex": [
       "\\begin{enumerate*}\n",
       "\\item 'CGPA'\n",
       "\\item 'Internships'\n",
       "\\item 'Projects'\n",
       "\\item 'Workshops\\_Certifications'\n",
       "\\item 'AptitudeTestScore'\n",
       "\\item 'SoftSkillsRating'\n",
       "\\item 'ExtracurricularActivities'\n",
       "\\item 'PlacementTraining'\n",
       "\\item 'SSC\\_Marks'\n",
       "\\item 'HSC\\_Marks'\n",
       "\\item 'PlacementStatus'\n",
       "\\end{enumerate*}\n"
      ],
      "text/markdown": [
       "1. 'CGPA'\n",
       "2. 'Internships'\n",
       "3. 'Projects'\n",
       "4. 'Workshops_Certifications'\n",
       "5. 'AptitudeTestScore'\n",
       "6. 'SoftSkillsRating'\n",
       "7. 'ExtracurricularActivities'\n",
       "8. 'PlacementTraining'\n",
       "9. 'SSC_Marks'\n",
       "10. 'HSC_Marks'\n",
       "11. 'PlacementStatus'\n",
       "\n",
       "\n"
      ],
      "text/plain": [
       " [1] \"CGPA\"                      \"Internships\"              \n",
       " [3] \"Projects\"                  \"Workshops_Certifications\" \n",
       " [5] \"AptitudeTestScore\"         \"SoftSkillsRating\"         \n",
       " [7] \"ExtracurricularActivities\" \"PlacementTraining\"        \n",
       " [9] \"SSC_Marks\"                 \"HSC_Marks\"                \n",
       "[11] \"PlacementStatus\"          "
      ]
     },
     "metadata": {},
     "output_type": "display_data"
    }
   ],
   "source": [
    "# Main Developer: Yu Chang\n",
    "names(data)"
   ]
  },
  {
   "cell_type": "code",
   "execution_count": 11,
   "id": "525023f3",
   "metadata": {
    "vscode": {
     "languageId": "r"
    }
   },
   "outputs": [
    {
     "data": {
      "image/png": "[encoded data removed]",
      "text/plain": [
       "plot without title"
      ]
     },
     "metadata": {
      "image/png": {
       "height": 420,
       "width": 420
      }
     },
     "output_type": "display_data"
    }
   ],
   "source": [
    "# Main Developer: Yu Chang\n",
    "# p1: Internships\n",
    "p1 <- ggplot(data, aes(x = Internships)) +\n",
    "  geom_histogram(fill = \"blue\", color = \"black\", bins = 15) +\n",
    "  labs(\n",
    "    title = \"Internships\",\n",
    "    x = \"Internships\",\n",
    "    y = \"Count\"\n",
    "  ) +\n",
    "  theme_minimal(base_size = 14)\n",
    "\n",
    "# p2: Projects\n",
    "p2 <- ggplot(data, aes(x = Projects)) +\n",
    "  geom_histogram(fill = \"blue\", color = \"black\", bins = 15) +\n",
    "  labs(\n",
    "    title = \"Projects\",\n",
    "    x = \"Projects\",\n",
    "    y = \"Count\"\n",
    "  ) +\n",
    "  theme_minimal(base_size = 14)\n",
    "\n",
    "# p3: Workshops_Certifications\n",
    "p3 <- ggplot(data, aes(x = Workshops_Certifications)) +\n",
    "  geom_histogram(fill = \"blue\", color = \"black\", bins = 15) +\n",
    "  labs(\n",
    "    title = \"Workshops_Certifications\",\n",
    "    x = \"Workshops_Certifications\",\n",
    "    y = \"Count\"\n",
    "  ) +\n",
    "  theme_minimal(base_size = 14)\n",
    "\n",
    "# p4: AptitudeTestScore\n",
    "p4 <- ggplot(data, aes(x = AptitudeTestScore)) +\n",
    "  geom_histogram(fill = \"blue\", color = \"black\", bins = 15) +\n",
    "  labs(\n",
    "    title = \"AptitudeTestScore\",\n",
    "    x = \"AptitudeTestScore\",\n",
    "    y = \"Count\"\n",
    "  ) +\n",
    "  theme_minimal(base_size = 14)\n",
    "\n",
    "# p5: SoftSkillsRating\n",
    "p5 <- ggplot(data, aes(x = SoftSkillsRating)) +\n",
    "  geom_histogram(fill = \"blue\", color = \"black\", bins = 15) +\n",
    "  labs(\n",
    "    title = \"SoftSkillsRating\",\n",
    "    x = \"SoftSkillsRating\",\n",
    "    y = \"Count\"\n",
    "  ) +\n",
    "  theme_minimal(base_size = 14)\n",
    "\n",
    "# p6: SSC_Marks\n",
    "p6 <- ggplot(data, aes(x = SSC_Marks)) +\n",
    "  geom_histogram(fill = \"blue\", color = \"black\", bins = 15) +\n",
    "  labs(\n",
    "    title = \"SSC_Marks\",\n",
    "    x = \"SSC_Marks\",\n",
    "    y = \"Count\"\n",
    "  ) +\n",
    "  theme_minimal(base_size = 14)\n",
    "\n",
    "# p7: HSC_Marks\n",
    "p7 <- ggplot(data, aes(x = HSC_Marks)) +\n",
    "  geom_histogram(fill = \"blue\", color = \"black\", bins = 15) +\n",
    "  labs(\n",
    "    title = \"HSC_Marks\",\n",
    "    x = \"HSC_Marks\",\n",
    "    y = \"Count\"\n",
    "  ) +\n",
    "  theme_minimal(base_size = 14)\n",
    "\n",
    "grid.arrange(p1, p2, p3, p4, p5, p6, p7, ncol = 3)\n"
   ]
  },
  {
   "cell_type": "markdown",
   "id": "1b36885a",
   "metadata": {},
   "source": [
    "**Note: the number of students with Wrokshaops_Certifications experience = 3 and Project experience = 0 are clearly relatively low compared to other categories. So we check it here. The rest of the plots are looking fine right now.**"
   ]
  },
  {
   "cell_type": "code",
   "execution_count": 12,
   "id": "f06490a7",
   "metadata": {
    "vscode": {
     "languageId": "r"
    }
   },
   "outputs": [
    {
     "name": "stdout",
     "output_type": "stream",
     "text": [
      "The Number of Students who have Workshop Experience = 3: 284 \n"
     ]
    },
    {
     "name": "stdout",
     "output_type": "stream",
     "text": [
      "The Number of Students who have Workshop Experience = 2: 3303 \n",
      "--------------------------------------------------------------- \n",
      "The Number of Students who have Project number = 1: 3547 \n",
      "The Number of Students who have Project number = 0: 30 \n"
     ]
    }
   ],
   "source": [
    "# Main Developer: Yu Chang\n",
    "# First occurrence of the cat function that is also used later\n",
    "# cat(): Package - base (no library needed; built-in with R)\n",
    "cat(\"The Number of Students who have Workshop Experience = 3:\", \n",
    "            sum(data$Workshops_Certifications == \"3\"),\"\\n\")\n",
    "\n",
    "cat(\"The Number of Students who have Workshop Experience = 2:\", \n",
    "            sum(data$Workshops_Certifications == \"2\"),\"\\n\")\n",
    "\n",
    "cat(\"---------------------------------------------------------------\",\"\\n\")\n",
    "\n",
    "cat(\"The Number of Students who have Project number = 1:\", \n",
    "            sum(data$Projects == \"1\"),\"\\n\")\n",
    "\n",
    "cat(\"The Number of Students who have Project number = 0:\", \n",
    "            sum(data$Projects == \"0\"),\"\\n\")"
   ]
  },
  {
   "cell_type": "markdown",
   "id": "4896bba1",
   "metadata": {},
   "source": [
    "**Since there're clearly relative less people with workshop experience = 3 and Project experience = 0, so we will first merge them with the clostest category for now**. "
   ]
  },
  {
   "cell_type": "code",
   "execution_count": 13,
   "id": "d29cae1e",
   "metadata": {
    "vscode": {
     "languageId": "r"
    }
   },
   "outputs": [
    {
     "data": {
      "text/html": [
       "<table class=\"dataframe\">\n",
       "<caption>A tibble: 3 × 11</caption>\n",
       "<thead>\n",
       "\t<tr><th scope=col>CGPA</th><th scope=col>Internships</th><th scope=col>Projects</th><th scope=col>Workshops_Certifications</th><th scope=col>AptitudeTestScore</th><th scope=col>SoftSkillsRating</th><th scope=col>ExtracurricularActivities</th><th scope=col>PlacementTraining</th><th scope=col>SSC_Marks</th><th scope=col>HSC_Marks</th><th scope=col>PlacementStatus</th></tr>\n",
       "\t<tr><th scope=col>&lt;dbl&gt;</th><th scope=col>&lt;dbl&gt;</th><th scope=col>&lt;fct&gt;</th><th scope=col>&lt;fct&gt;</th><th scope=col>&lt;dbl&gt;</th><th scope=col>&lt;dbl&gt;</th><th scope=col>&lt;fct&gt;</th><th scope=col>&lt;fct&gt;</th><th scope=col>&lt;dbl&gt;</th><th scope=col>&lt;dbl&gt;</th><th scope=col>&lt;fct&gt;</th></tr>\n",
       "</thead>\n",
       "<tbody>\n",
       "\t<tr><td>7.5</td><td>1</td><td>1-</td><td>1 </td><td>65</td><td>4.4</td><td>No </td><td>No </td><td>61</td><td>79</td><td>0</td></tr>\n",
       "\t<tr><td>8.9</td><td>0</td><td>3 </td><td>2+</td><td>90</td><td>4.0</td><td>Yes</td><td>Yes</td><td>78</td><td>82</td><td>1</td></tr>\n",
       "\t<tr><td>7.3</td><td>1</td><td>2 </td><td>2+</td><td>82</td><td>4.8</td><td>Yes</td><td>No </td><td>79</td><td>80</td><td>0</td></tr>\n",
       "</tbody>\n",
       "</table>\n"
      ],
      "text/latex": [
       "A tibble: 3 × 11\n",
       "\\begin{tabular}{lllllllllll}\n",
       " CGPA & Internships & Projects & Workshops\\_Certifications & AptitudeTestScore & SoftSkillsRating & ExtracurricularActivities & PlacementTraining & SSC\\_Marks & HSC\\_Marks & PlacementStatus\\\\\n",
       " <dbl> & <dbl> & <fct> & <fct> & <dbl> & <dbl> & <fct> & <fct> & <dbl> & <dbl> & <fct>\\\\\n",
       "\\hline\n",
       "\t 7.5 & 1 & 1- & 1  & 65 & 4.4 & No  & No  & 61 & 79 & 0\\\\\n",
       "\t 8.9 & 0 & 3  & 2+ & 90 & 4.0 & Yes & Yes & 78 & 82 & 1\\\\\n",
       "\t 7.3 & 1 & 2  & 2+ & 82 & 4.8 & Yes & No  & 79 & 80 & 0\\\\\n",
       "\\end{tabular}\n"
      ],
      "text/markdown": [
       "\n",
       "A tibble: 3 × 11\n",
       "\n",
       "| CGPA &lt;dbl&gt; | Internships &lt;dbl&gt; | Projects &lt;fct&gt; | Workshops_Certifications &lt;fct&gt; | AptitudeTestScore &lt;dbl&gt; | SoftSkillsRating &lt;dbl&gt; | ExtracurricularActivities &lt;fct&gt; | PlacementTraining &lt;fct&gt; | SSC_Marks &lt;dbl&gt; | HSC_Marks &lt;dbl&gt; | PlacementStatus &lt;fct&gt; |\n",
       "|---|---|---|---|---|---|---|---|---|---|---|\n",
       "| 7.5 | 1 | 1- | 1  | 65 | 4.4 | No  | No  | 61 | 79 | 0 |\n",
       "| 8.9 | 0 | 3  | 2+ | 90 | 4.0 | Yes | Yes | 78 | 82 | 1 |\n",
       "| 7.3 | 1 | 2  | 2+ | 82 | 4.8 | Yes | No  | 79 | 80 | 0 |\n",
       "\n"
      ],
      "text/plain": [
       "  CGPA Internships Projects Workshops_Certifications AptitudeTestScore\n",
       "1 7.5  1           1-       1                        65               \n",
       "2 8.9  0           3        2+                       90               \n",
       "3 7.3  1           2        2+                       82               \n",
       "  SoftSkillsRating ExtracurricularActivities PlacementTraining SSC_Marks\n",
       "1 4.4              No                        No                61       \n",
       "2 4.0              Yes                       Yes               78       \n",
       "3 4.8              Yes                       No                79       \n",
       "  HSC_Marks PlacementStatus\n",
       "1 79        0              \n",
       "2 82        1              \n",
       "3 80        0              "
      ]
     },
     "metadata": {},
     "output_type": "display_data"
    }
   ],
   "source": [
    "# Main Developer: Yu Chang\n",
    "\n",
    "#Pre-process \"Workshops\"\n",
    "data <- data %>%\n",
    "  mutate(\n",
    "    Workshops_Certifications = as_factor(Workshops_Certifications),\n",
    "    Workshops_Certifications = fct_collapse(\n",
    "      Workshops_Certifications,\n",
    "      \"2+\" = c(\"2\", \"3\")\n",
    "    )\n",
    "  )\n",
    "#Pre-process \"Projects\"\n",
    "data <- data %>%\n",
    "  mutate(\n",
    "    Projects = as_factor(Projects),\n",
    "    Projects = fct_collapse(\n",
    "      Projects,\n",
    "      \"1-\" = c(\"0\", \"1\")\n",
    "    )\n",
    "  )\n",
    "\n",
    "head(data, 3)"
   ]
  },
  {
   "cell_type": "code",
   "execution_count": 14,
   "id": "bda0efa2",
   "metadata": {
    "vscode": {
     "languageId": "r"
    }
   },
   "outputs": [
    {
     "name": "stderr",
     "output_type": "stream",
     "text": [
      "Warning message:\n",
      "\"\u001b[1m\u001b[22m`aes_string()` was deprecated in ggplot2 3.0.0.\n",
      "\u001b[36mℹ\u001b[39m Please use tidy evaluation idioms with `aes()`.\n",
      "\u001b[36mℹ\u001b[39m See also `vignette(\"ggplot2-in-packages\")` for more information.\"\n"
     ]
    },
    {
     "data": {
      "image/png": "[encoded data removed]",
      "text/plain": [
       "plot without title"
      ]
     },
     "metadata": {
      "image/png": {
       "height": 420,
       "width": 420
      }
     },
     "output_type": "display_data"
    }
   ],
   "source": [
    "# credit goes to Yu Chang\n",
    "plots <- list()\n",
    "\n",
    "p <- ggplot(data, aes_string(x = \"Projects\")) +\n",
    "    geom_bar(fill = \"blue\", color = \"black\") + \n",
    "    labs(\n",
    "      title = paste(\"Distribution of Projects\"),\n",
    "      x = \"Projects\",\n",
    "      y = \"Count\"\n",
    "    ) +\n",
    "    theme_minimal(base_size = 14)\n",
    "  plots[[\"Projects\"]] <- p\n",
    "\n",
    "  p <- ggplot(data, aes_string(x = \"Workshops_Certifications\")) +\n",
    "    geom_bar(fill = \"blue\", color = \"black\") + \n",
    "    labs(\n",
    "      title = paste(\"Distribution of Workshops_Certifications\"),\n",
    "      x = \"Workshops_Certifications\",\n",
    "      y = \"Count\"\n",
    "    ) +\n",
    "    theme_minimal(base_size = 14)\n",
    "  plots[[\"Workshops_Certifications\"]] <- p\n",
    "\n",
    "  \n",
    "grid.arrange(grobs = plots, ncol = 2)\n"
   ]
  },
  {
   "cell_type": "markdown",
   "id": "822fb1d8",
   "metadata": {},
   "source": [
    "##### **Two Effective Visualizations**\n",
    "##### **1.Comparison of various scores of students by placement status**"
   ]
  },
  {
   "cell_type": "markdown",
   "id": "b58b77ae",
   "metadata": {},
   "source": [
    "*Entire text in this cell has been taken from Ashmit Gupta's Assignment 1 and 2*\n",
    "- We will create a boxplot of the numerical covariates (CGPA, HSC_Marks, SSC_Marks, AptitudeTestScore, SoftSkillsRating)\n",
    "- For the visualisation now, we will scale CGPA and SoftSkillsRating to be on the same scale\n",
    "  - We will multiply CGPA by 10 to shift its range from 0-10 to 0-100\n",
    "   - We will multiply SoftSkillsRating by 20 to shift its range 0-5 to 0-100 <br> This is done so a good comparison can be made visually by just looking at the plot."
   ]
  },
  {
   "cell_type": "code",
   "execution_count": null,
   "id": "19f6a5f1",
   "metadata": {
    "vscode": {
     "languageId": "r"
    }
   },
   "outputs": [
    {
     "data": {
      "image/png": "[encoded data removed]",
      "text/plain": [
       "plot without title"
      ]
     },
     "metadata": {
      "image/png": {
       "height": 420,
       "width": 660
      }
     },
     "output_type": "display_data"
    }
   ],
   "source": [
    "# Main developer: Ashmit Gupta\n",
    "# Entire code and comments in this cell taken from Ashmit Gupta's Assignment 1 and 2\n",
    "\n",
    "options(repr.plot.width = 11, repr.plot.height = 7)\n",
    "marks_data <- data %>%\n",
    "              mutate(CGPA = CGPA * 10, SoftSkillsRating = SoftSkillsRating * 20) %>% # Scaling CGPA and SoftSkillsRating to be from 1 to 100\n",
    "              pivot_longer(cols = c(CGPA, HSC_Marks, SSC_Marks, AptitudeTestScore, SoftSkillsRating), \n",
    "                           names_to = \"Score_Type\", \n",
    "                           values_to = \"Score\")\n",
    "\n",
    "marks_visualisation <- marks_data %>%\n",
    "                       ggplot(aes(x = Score_Type, y = Score, fill = PlacementStatus)) +\n",
    "                       geom_boxplot() +\n",
    "                       ggtitle(\"Comparison of various scores of students by placement status\") +\n",
    "                       labs(x = \"Score Type\", y = \"Score of the student\") +\n",
    "                       theme(text = element_text(size = 17))\n",
    "                       \n",
    "marks_visualisation"
   ]
  },
  {
   "cell_type": "markdown",
   "id": "775c7af2",
   "metadata": {},
   "source": [
    "*Entire text in this cell has been taken from Ashmit Gupta's Assignment 1 and 2*\n",
    "\n",
    "This graph is relevant to our research question as it shows the distribution of various possible predictors against the response variable (PlacementStatus). It shows that in general, the students who are placed tend to have a higher median score in the respective academic (or soft skill) category compared to the students who did not get placed."
   ]
  },
  {
   "cell_type": "markdown",
   "id": "ac444cf4",
   "metadata": {},
   "source": [
    "\n",
    "##### **2. Check and Visualize Correlation between Features**\n",
    "\n",
    "To detect whether there's a multicollinearlity issue in the independent variables, we examine it by both the correlation matrix and the variance inflation factor (VIF). "
   ]
  },
  {
   "cell_type": "code",
   "execution_count": 16,
   "id": "1be0cb6f",
   "metadata": {
    "vscode": {
     "languageId": "r"
    }
   },
   "outputs": [
    {
     "data": {
      "image/png": "[encoded data removed]",
      "text/plain": [
       "Plot with title \"\""
      ]
     },
     "metadata": {
      "image/png": {
       "height": 900,
       "width": 900
      }
     },
     "output_type": "display_data"
    }
   ],
   "source": [
    "# Main Developer: Yu Chang\n",
    "options(repr.plot.width = 15, repr.plot.height = 15)\n",
    "\n",
    "numeric_data <- data %>% select_if(is.numeric)\n",
    "cor_matrix <- cor(numeric_data)\n",
    "\n",
    "corrplot(cor_matrix,\n",
    "         method = \"color\",\n",
    "         type = \"upper\",\n",
    "         addCoef.col = \"black\",\n",
    "         number.cex = 1.5\n",
    ")\n",
    "# Package: corrplot, Library: corrplot\n",
    "# To visualize the correlation matrix between numeric features with color-coded strength of associations."
   ]
  },
  {
   "cell_type": "markdown",
   "id": "1f2805c7",
   "metadata": {},
   "source": [
    "The correlation matrix heatmap indicates all pairs in continuous variables have a positive relationship, moreover, the correlation coefficient between any two pairs are lower than 0.6, suggesting no strong correlation. Therefore, multicollinearlity issue is not concerning at this stage.\n",
    "\n",
    "Next, we will use VIF to detect whether multicollinearlity issue exist among both continuous and categorical independent variables. "
   ]
  },
  {
   "cell_type": "code",
   "execution_count": 17,
   "id": "67f66358",
   "metadata": {
    "vscode": {
     "languageId": "r"
    }
   },
   "outputs": [
    {
     "data": {
      "text/html": [
       "<table class=\"dataframe\">\n",
       "<caption>A matrix: 10 × 3 of type dbl</caption>\n",
       "<thead>\n",
       "\t<tr><th></th><th scope=col>GVIF</th><th scope=col>Df</th><th scope=col>GVIF^(1/(2*Df))</th></tr>\n",
       "</thead>\n",
       "<tbody>\n",
       "\t<tr><th scope=row>CGPA</th><td>1.232387</td><td>1</td><td>1.110129</td></tr>\n",
       "\t<tr><th scope=row>Internships</th><td>1.128324</td><td>1</td><td>1.062226</td></tr>\n",
       "\t<tr><th scope=row>Projects</th><td>1.400640</td><td>2</td><td>1.087882</td></tr>\n",
       "\t<tr><th scope=row>Workshops_Certifications</th><td>1.265626</td><td>2</td><td>1.060660</td></tr>\n",
       "\t<tr><th scope=row>AptitudeTestScore</th><td>1.401241</td><td>1</td><td>1.183740</td></tr>\n",
       "\t<tr><th scope=row>SoftSkillsRating</th><td>1.252753</td><td>1</td><td>1.119264</td></tr>\n",
       "\t<tr><th scope=row>ExtracurricularActivities</th><td>1.284762</td><td>1</td><td>1.133473</td></tr>\n",
       "\t<tr><th scope=row>PlacementTraining</th><td>1.031981</td><td>1</td><td>1.015865</td></tr>\n",
       "\t<tr><th scope=row>SSC_Marks</th><td>1.316573</td><td>1</td><td>1.147420</td></tr>\n",
       "\t<tr><th scope=row>HSC_Marks</th><td>1.462161</td><td>1</td><td>1.209198</td></tr>\n",
       "</tbody>\n",
       "</table>\n"
      ],
      "text/latex": [
       "A matrix: 10 × 3 of type dbl\n",
       "\\begin{tabular}{r|lll}\n",
       "  & GVIF & Df & GVIF\\textasciicircum{}(1/(2*Df))\\\\\n",
       "\\hline\n",
       "\tCGPA & 1.232387 & 1 & 1.110129\\\\\n",
       "\tInternships & 1.128324 & 1 & 1.062226\\\\\n",
       "\tProjects & 1.400640 & 2 & 1.087882\\\\\n",
       "\tWorkshops\\_Certifications & 1.265626 & 2 & 1.060660\\\\\n",
       "\tAptitudeTestScore & 1.401241 & 1 & 1.183740\\\\\n",
       "\tSoftSkillsRating & 1.252753 & 1 & 1.119264\\\\\n",
       "\tExtracurricularActivities & 1.284762 & 1 & 1.133473\\\\\n",
       "\tPlacementTraining & 1.031981 & 1 & 1.015865\\\\\n",
       "\tSSC\\_Marks & 1.316573 & 1 & 1.147420\\\\\n",
       "\tHSC\\_Marks & 1.462161 & 1 & 1.209198\\\\\n",
       "\\end{tabular}\n"
      ],
      "text/markdown": [
       "\n",
       "A matrix: 10 × 3 of type dbl\n",
       "\n",
       "| <!--/--> | GVIF | Df | GVIF^(1/(2*Df)) |\n",
       "|---|---|---|---|\n",
       "| CGPA | 1.232387 | 1 | 1.110129 |\n",
       "| Internships | 1.128324 | 1 | 1.062226 |\n",
       "| Projects | 1.400640 | 2 | 1.087882 |\n",
       "| Workshops_Certifications | 1.265626 | 2 | 1.060660 |\n",
       "| AptitudeTestScore | 1.401241 | 1 | 1.183740 |\n",
       "| SoftSkillsRating | 1.252753 | 1 | 1.119264 |\n",
       "| ExtracurricularActivities | 1.284762 | 1 | 1.133473 |\n",
       "| PlacementTraining | 1.031981 | 1 | 1.015865 |\n",
       "| SSC_Marks | 1.316573 | 1 | 1.147420 |\n",
       "| HSC_Marks | 1.462161 | 1 | 1.209198 |\n",
       "\n"
      ],
      "text/plain": [
       "                          GVIF     Df GVIF^(1/(2*Df))\n",
       "CGPA                      1.232387 1  1.110129       \n",
       "Internships               1.128324 1  1.062226       \n",
       "Projects                  1.400640 2  1.087882       \n",
       "Workshops_Certifications  1.265626 2  1.060660       \n",
       "AptitudeTestScore         1.401241 1  1.183740       \n",
       "SoftSkillsRating          1.252753 1  1.119264       \n",
       "ExtracurricularActivities 1.284762 1  1.133473       \n",
       "PlacementTraining         1.031981 1  1.015865       \n",
       "SSC_Marks                 1.316573 1  1.147420       \n",
       "HSC_Marks                 1.462161 1  1.209198       "
      ]
     },
     "metadata": {},
     "output_type": "display_data"
    },
    {
     "data": {
      "image/png": "[encoded data removed]",
      "text/plain": [
       "plot without title"
      ]
     },
     "metadata": {
      "image/png": {
       "height": 900,
       "width": 900
      }
     },
     "output_type": "display_data"
    }
   ],
   "source": [
    "# Main developer: Jolin Lin\n",
    "# Contributor: Shikha (Plotting the bar plot - Steps 5 & 6)\n",
    "\n",
    "vif_data <- data %>%\n",
    "  mutate(ExtracurricularActivities = if_else(ExtracurricularActivities == \"Yes\", 1, 0),\n",
    "         PlacementTraining  = if_else(PlacementTraining  == \"Yes\", 1, 0))\n",
    "\n",
    "# 2) Fit logistic model\n",
    "model_vif <- glm(PlacementStatus ~ ., data = vif_data, family = \"binomial\")\n",
    "\n",
    "# 3) Compute VIF\n",
    "vif_res <- vif(model_vif)\n",
    "\n",
    "vif_res\n",
    "\n",
    "# 4) Extract the scaled GVIF from output\n",
    "scaled_vif <- vif_res[, \"GVIF^(1/(2*Df))\"]\n",
    "\n",
    "# 5) Create dataframe for plotting\n",
    "vif_df <- data.frame(\n",
    "  Predictor = names(scaled_vif),\n",
    "  VIF_Scaled = as.numeric(scaled_vif)\n",
    ")\n",
    "\n",
    "# 6) Create VIF barplot\n",
    "ggplot(vif_df, aes(x = reorder(Predictor, VIF_Scaled), y = VIF_Scaled)) +\n",
    "  geom_col(fill = \"blue\", width = 0.7) +\n",
    "  labs(\n",
    "    title = \"VIF (Scaled) for Each Predictor\",\n",
    "    x = \"Predictor\",\n",
    "    y = \"Scaled VIF\"\n",
    "  ) +\n",
    "  ylim(0, max(vif_df$VIF_Scaled) + 0.5) +\n",
    "  theme_minimal(base_size = 14) +\n",
    "  theme(\n",
    "    axis.text.x = element_text(angle = 45, hjust = 1)\n",
    "  )\n"
   ]
  },
  {
   "cell_type": "markdown",
   "id": "a2a254e1",
   "metadata": {},
   "source": [
    "The VIF value for each variable are all just slightly higher than 1, suggesting a low correlation between predictor variables based on the rules of thumb of VIF (GVIF ~= 1 indicating little to no multicollinearity). \n",
    "\n",
    "This is a more formal way to check and visualize the result concluded by correlation matrix, Generalized VIF suggests multicollinearlity issue is not concerning at this stage."
   ]
  },
  {
   "cell_type": "markdown",
   "id": "99012f3a",
   "metadata": {},
   "source": [
    "*Entire text in this cell has been taken from Ashmit Gupta's Assignment 2*\n",
    "## Methods and Plan\n",
    "- **Method:** Logistic Regression (Additive model)\n",
    "- **Reason:** \n",
    "    - Logistic regression model is used when the response variable is binary and binomial. In our case, the response variable is also binary and binomial since it has only 2 possible values 'placed' or 'not placed'.\n",
    "    - It can also be used as a classifier to predict the probability of the response variable leading to very interpretable and quantifiable results. Since our research question is based on 'prediction', this would be really helpful.\n",
    "    - We chose an additive model, and not a model with interaction terms, because an additive model looks at how each variable is related to the response individually, while keeping all other variables constant. This will help our goal of finding good predictors and will greatly improve interpretability. \n",
    "- **Assumptions:**\n",
    "    - Since we will be using an additive model, we are assuming that each variable has an individual association with the response variable and is not affected by the value of other variables.\n",
    "- **Limitations:**\n",
    "    - If the relation between response variable and log-odds of covariates is non-linear, the model results won't be good.\n",
    "    - An additive model does not include any interaction terms so if there is some interaction between covariates, this would completely ignore it and thus might lead to an oversimplified model. "
   ]
  },
  {
   "cell_type": "markdown",
   "id": "491b2611",
   "metadata": {},
   "source": [
    "#### **Feature Selection**"
   ]
  },
  {
   "cell_type": "code",
   "execution_count": 18,
   "id": "7001bcfa",
   "metadata": {
    "vscode": {
     "languageId": "r"
    }
   },
   "outputs": [
    {
     "data": {
      "text/html": [
       "<table class=\"dataframe\">\n",
       "<caption>A tibble: 6 × 11</caption>\n",
       "<thead>\n",
       "\t<tr><th scope=col>CGPA</th><th scope=col>Internships</th><th scope=col>Projects</th><th scope=col>Workshops_Certifications</th><th scope=col>AptitudeTestScore</th><th scope=col>SoftSkillsRating</th><th scope=col>ExtracurricularActivities</th><th scope=col>PlacementTraining</th><th scope=col>SSC_Marks</th><th scope=col>HSC_Marks</th><th scope=col>PlacementStatus</th></tr>\n",
       "\t<tr><th scope=col>&lt;dbl&gt;</th><th scope=col>&lt;dbl&gt;</th><th scope=col>&lt;fct&gt;</th><th scope=col>&lt;fct&gt;</th><th scope=col>&lt;dbl&gt;</th><th scope=col>&lt;dbl&gt;</th><th scope=col>&lt;fct&gt;</th><th scope=col>&lt;fct&gt;</th><th scope=col>&lt;dbl&gt;</th><th scope=col>&lt;dbl&gt;</th><th scope=col>&lt;fct&gt;</th></tr>\n",
       "</thead>\n",
       "<tbody>\n",
       "\t<tr><td>7.9</td><td>0</td><td>1-</td><td>0 </td><td>64</td><td>4.1</td><td>Yes</td><td>Yes</td><td>63</td><td>67</td><td>0</td></tr>\n",
       "\t<tr><td>8.2</td><td>2</td><td>3 </td><td>2+</td><td>87</td><td>4.8</td><td>Yes</td><td>Yes</td><td>77</td><td>86</td><td>1</td></tr>\n",
       "\t<tr><td>7.3</td><td>0</td><td>1-</td><td>0 </td><td>72</td><td>4.3</td><td>No </td><td>No </td><td>55</td><td>68</td><td>0</td></tr>\n",
       "\t<tr><td>6.8</td><td>1</td><td>1-</td><td>1 </td><td>84</td><td>4.2</td><td>No </td><td>No </td><td>55</td><td>69</td><td>0</td></tr>\n",
       "\t<tr><td>7.3</td><td>0</td><td>1-</td><td>1 </td><td>74</td><td>3.8</td><td>No </td><td>Yes</td><td>60</td><td>65</td><td>0</td></tr>\n",
       "\t<tr><td>7.9</td><td>0</td><td>2 </td><td>0 </td><td>75</td><td>4.3</td><td>No </td><td>No </td><td>79</td><td>63</td><td>0</td></tr>\n",
       "</tbody>\n",
       "</table>\n"
      ],
      "text/latex": [
       "A tibble: 6 × 11\n",
       "\\begin{tabular}{lllllllllll}\n",
       " CGPA & Internships & Projects & Workshops\\_Certifications & AptitudeTestScore & SoftSkillsRating & ExtracurricularActivities & PlacementTraining & SSC\\_Marks & HSC\\_Marks & PlacementStatus\\\\\n",
       " <dbl> & <dbl> & <fct> & <fct> & <dbl> & <dbl> & <fct> & <fct> & <dbl> & <dbl> & <fct>\\\\\n",
       "\\hline\n",
       "\t 7.9 & 0 & 1- & 0  & 64 & 4.1 & Yes & Yes & 63 & 67 & 0\\\\\n",
       "\t 8.2 & 2 & 3  & 2+ & 87 & 4.8 & Yes & Yes & 77 & 86 & 1\\\\\n",
       "\t 7.3 & 0 & 1- & 0  & 72 & 4.3 & No  & No  & 55 & 68 & 0\\\\\n",
       "\t 6.8 & 1 & 1- & 1  & 84 & 4.2 & No  & No  & 55 & 69 & 0\\\\\n",
       "\t 7.3 & 0 & 1- & 1  & 74 & 3.8 & No  & Yes & 60 & 65 & 0\\\\\n",
       "\t 7.9 & 0 & 2  & 0  & 75 & 4.3 & No  & No  & 79 & 63 & 0\\\\\n",
       "\\end{tabular}\n"
      ],
      "text/markdown": [
       "\n",
       "A tibble: 6 × 11\n",
       "\n",
       "| CGPA &lt;dbl&gt; | Internships &lt;dbl&gt; | Projects &lt;fct&gt; | Workshops_Certifications &lt;fct&gt; | AptitudeTestScore &lt;dbl&gt; | SoftSkillsRating &lt;dbl&gt; | ExtracurricularActivities &lt;fct&gt; | PlacementTraining &lt;fct&gt; | SSC_Marks &lt;dbl&gt; | HSC_Marks &lt;dbl&gt; | PlacementStatus &lt;fct&gt; |\n",
       "|---|---|---|---|---|---|---|---|---|---|---|\n",
       "| 7.9 | 0 | 1- | 0  | 64 | 4.1 | Yes | Yes | 63 | 67 | 0 |\n",
       "| 8.2 | 2 | 3  | 2+ | 87 | 4.8 | Yes | Yes | 77 | 86 | 1 |\n",
       "| 7.3 | 0 | 1- | 0  | 72 | 4.3 | No  | No  | 55 | 68 | 0 |\n",
       "| 6.8 | 1 | 1- | 1  | 84 | 4.2 | No  | No  | 55 | 69 | 0 |\n",
       "| 7.3 | 0 | 1- | 1  | 74 | 3.8 | No  | Yes | 60 | 65 | 0 |\n",
       "| 7.9 | 0 | 2  | 0  | 75 | 4.3 | No  | No  | 79 | 63 | 0 |\n",
       "\n"
      ],
      "text/plain": [
       "  CGPA Internships Projects Workshops_Certifications AptitudeTestScore\n",
       "1 7.9  0           1-       0                        64               \n",
       "2 8.2  2           3        2+                       87               \n",
       "3 7.3  0           1-       0                        72               \n",
       "4 6.8  1           1-       1                        84               \n",
       "5 7.3  0           1-       1                        74               \n",
       "6 7.9  0           2        0                        75               \n",
       "  SoftSkillsRating ExtracurricularActivities PlacementTraining SSC_Marks\n",
       "1 4.1              Yes                       Yes               63       \n",
       "2 4.8              Yes                       Yes               77       \n",
       "3 4.3              No                        No                55       \n",
       "4 4.2              No                        No                55       \n",
       "5 3.8              No                        Yes               60       \n",
       "6 4.3              No                        No                79       \n",
       "  HSC_Marks PlacementStatus\n",
       "1 67        0              \n",
       "2 86        1              \n",
       "3 68        0              \n",
       "4 69        0              \n",
       "5 65        0              \n",
       "6 63        0              "
      ]
     },
     "metadata": {},
     "output_type": "display_data"
    }
   ],
   "source": [
    "# 1) Split data into train & test sets\n",
    "# credit goes to Yu Chang\n",
    "# *Entire code in this cell has been taken from Yu Chang's Assignment 2*\n",
    "set.seed(123)\n",
    "train_index <- sample(seq_len(nrow(data)), size = 0.7 * nrow(data))\n",
    "train_data  <- data[train_index, ]\n",
    "test_data   <- data[-train_index, ]\n",
    "\n",
    "head(train_data)"
   ]
  },
  {
   "cell_type": "code",
   "execution_count": 19,
   "id": "0a22bbe4",
   "metadata": {
    "vscode": {
     "languageId": "r"
    }
   },
   "outputs": [
    {
     "name": "stderr",
     "output_type": "stream",
     "text": [
      "\n",
      "Attaching package: 'MASS'\n",
      "\n",
      "\n",
      "The following object is masked from 'package:dplyr':\n",
      "\n",
      "    select\n",
      "\n",
      "\n"
     ]
    },
    {
     "data": {
      "text/plain": [
       "\n",
       "Call:\n",
       "glm(formula = PlacementStatus ~ CGPA + Projects + Workshops_Certifications + \n",
       "    AptitudeTestScore + SoftSkillsRating + ExtracurricularActivities + \n",
       "    PlacementTraining + SSC_Marks + HSC_Marks, family = \"binomial\", \n",
       "    data = train_data)\n",
       "\n",
       "Coefficients:\n",
       "                               Estimate Std. Error z value Pr(>|z|)    \n",
       "(Intercept)                  -16.440476   0.657634 -24.999  < 2e-16 ***\n",
       "CGPA                           0.352759   0.059739   5.905 3.53e-09 ***\n",
       "Projects2                      0.165889   0.088103   1.883   0.0597 .  \n",
       "Projects3                      0.549776   0.090872   6.050 1.45e-09 ***\n",
       "Workshops_Certifications1     -0.375203   0.086352  -4.345 1.39e-05 ***\n",
       "Workshops_Certifications2+     0.347914   0.080981   4.296 1.74e-05 ***\n",
       "AptitudeTestScore              0.068917   0.005680  12.133  < 2e-16 ***\n",
       "SoftSkillsRating               0.621913   0.100498   6.188 6.08e-10 ***\n",
       "ExtracurricularActivitiesYes   0.793732   0.081300   9.763  < 2e-16 ***\n",
       "PlacementTrainingYes           0.957316   0.087239  10.973  < 2e-16 ***\n",
       "SSC_Marks                      0.025327   0.003826   6.620 3.58e-11 ***\n",
       "HSC_Marks                      0.023177   0.004557   5.086 3.65e-07 ***\n",
       "---\n",
       "Signif. codes:  0 '***' 0.001 '**' 0.01 '*' 0.05 '.' 0.1 ' ' 1\n",
       "\n",
       "(Dispersion parameter for binomial family taken to be 1)\n",
       "\n",
       "    Null deviance: 9529.2  on 6999  degrees of freedom\n",
       "Residual deviance: 5963.6  on 6988  degrees of freedom\n",
       "AIC: 5987.6\n",
       "\n",
       "Number of Fisher Scoring iterations: 5\n"
      ]
     },
     "metadata": {},
     "output_type": "display_data"
    }
   ],
   "source": [
    "# Main Developer: Shikha\n",
    "library(MASS)\n",
    "\n",
    "# 1) Fit the full logistic model (using training data)\n",
    "full_model <- glm(PlacementStatus ~ ., data = train_data, family = \"binomial\")\n",
    "\n",
    "# 2) Apply stepwise selection using AIC (backward by default)\n",
    "model_stepAIC <- stepAIC(full_model, direction = \"both\", trace = FALSE)\n",
    "\n",
    "# 3) View the summary of the final model\n",
    "summary(model_stepAIC)"
   ]
  },
  {
   "cell_type": "markdown",
   "id": "05babcfc",
   "metadata": {},
   "source": [
    "**How the test data created and used :**\n",
    "\n",
    "* We manually split the train and test data. We run a stepwise logistic regression to choose covariates (based on AIC).\n",
    "* Note that we kept the test data locked and it wasn't used in fitting or selecting the model, only for final evaluation."
   ]
  },
  {
   "cell_type": "markdown",
   "id": "ca1470cd",
   "metadata": {},
   "source": [
    "**A brief Interpretation of the results:**\n",
    "\n",
    "Note that in the summary output of the logistic regression model, the covariate **Internships** was not selected (dropped) by StepAIC, indicating that it may have little predictive effect on the response variable. Also for the covariates Projects2, its p value was a little bit above the traditional significance level 0.05, but we think its predicting power remains effective."
   ]
  },
  {
   "cell_type": "markdown",
   "id": "9d611995",
   "metadata": {},
   "source": [
    "**Performing a careful model assessment and showing visualizations**"
   ]
  },
  {
   "cell_type": "markdown",
   "id": "c6d77464",
   "metadata": {},
   "source": [
    "1. Model Performance Table"
   ]
  },
  {
   "cell_type": "code",
   "execution_count": 20,
   "id": "2d770b0d",
   "metadata": {
    "vscode": {
     "languageId": "r"
    }
   },
   "outputs": [
    {
     "data": {
      "text/plain": [
       "Confusion Matrix and Statistics\n",
       "\n",
       "          Reference\n",
       "Prediction    0    1\n",
       "         0 1460  314\n",
       "         1  291  935\n",
       "                                          \n",
       "               Accuracy : 0.7983          \n",
       "                 95% CI : (0.7835, 0.8126)\n",
       "    No Information Rate : 0.5837          \n",
       "    P-Value [Acc > NIR] : <2e-16          \n",
       "                                          \n",
       "                  Kappa : 0.5839          \n",
       "                                          \n",
       " Mcnemar's Test P-Value : 0.3711          \n",
       "                                          \n",
       "            Sensitivity : 0.8338          \n",
       "            Specificity : 0.7486          \n",
       "         Pos Pred Value : 0.8230          \n",
       "         Neg Pred Value : 0.7626          \n",
       "             Prevalence : 0.5837          \n",
       "         Detection Rate : 0.4867          \n",
       "   Detection Prevalence : 0.5913          \n",
       "      Balanced Accuracy : 0.7912          \n",
       "                                          \n",
       "       'Positive' Class : 0               \n",
       "                                          "
      ]
     },
     "metadata": {},
     "output_type": "display_data"
    }
   ],
   "source": [
    "# Main Developer: Yu Chang\n",
    "# Prediction and Reporting \n",
    "# Entire code and comments in this cell taken from Yu Chang's Assignment 2\n",
    "test_probs  <- predict(model_stepAIC, newdata = test_data, type = \"response\")\n",
    "test_class   <- ifelse(test_probs > 0.5, \"1\", \"0\")\n",
    "\n",
    "# Convert and ensure both predicted and actual are factors with matching levels 0,1\n",
    "test_pred_factor <- factor(test_class, levels = c(0,1))\n",
    "test_out_factor  <- factor(test_data$PlacementStatus, levels = c(0,1))\n",
    "\n",
    "#Confusion Matrix\n",
    "conf_mat <- confusionMatrix(test_pred_factor, test_out_factor)\n",
    "conf_mat\n"
   ]
  },
  {
   "cell_type": "markdown",
   "id": "d3aa64cd",
   "metadata": {},
   "source": [
    "Based on the confusion matrix and accompanying statistics, the logistic regression model achieves approximately **79.83%** accuracy, meaning it correctly distinguishes “Placed” versus “Not Placed” students most of the time!\n",
    "\n",
    "Its Sensitivity (about **83%**) implies that the model accurately identifies a high proportion of students who are truly placed, and a Specificity near **75%** indicates that our model does a fair job of minimizing false positives. Overall, these metrics suggest a reasonably balanced performance in predicting placement outcomes, though there may still be room for fine‐tuning or additional feature engineering to further improve results."
   ]
  },
  {
   "cell_type": "markdown",
   "id": "328a98a4",
   "metadata": {},
   "source": [
    "2. Check ROC"
   ]
  },
  {
   "cell_type": "code",
   "execution_count": 21,
   "id": "34eacb2f",
   "metadata": {
    "vscode": {
     "languageId": "r"
    }
   },
   "outputs": [
    {
     "name": "stderr",
     "output_type": "stream",
     "text": [
      "Setting direction: controls < cases\n",
      "\n"
     ]
    },
    {
     "data": {
      "text/html": [
       "0.876879001773663"
      ],
      "text/latex": [
       "0.876879001773663"
      ],
      "text/markdown": [
       "0.876879001773663"
      ],
      "text/plain": [
       "Area under the curve: 0.8769"
      ]
     },
     "metadata": {},
     "output_type": "display_data"
    },
    {
     "data": {
      "image/png": "[encoded data removed]",
      "text/plain": [
       "plot without title"
      ]
     },
     "metadata": {
      "image/png": {
       "height": 900,
       "width": 900
      }
     },
     "output_type": "display_data"
    }
   ],
   "source": [
    "# Main Developer: Yu Chang\n",
    "roc_obj <- roc(response = test_data$PlacementStatus,\n",
    "               predictor = test_probs,\n",
    "               levels = c(\"0\",\"1\"))\n",
    "auc_val <- auc(roc_obj)\n",
    "plot(roc_obj)\n",
    "\n",
    "\n",
    "auc_val\n"
   ]
  },
  {
   "cell_type": "markdown",
   "id": "95f703f7-d4b7-49e8-b99e-42af39558520",
   "metadata": {},
   "source": [
    "This ROC curve shows how well our model can tell the difference between placed and not placed students. With an AUC (Area Under the Curve) of 0.88, the curve hugs the top-left corner, meaning the model performs very well across different threshold values. In simple terms, it’s good at ranking students by their likelihood of getting placed—even beyond just a 0.5 cut-off."
   ]
  },
  {
   "cell_type": "markdown",
   "id": "d50a60d2",
   "metadata": {},
   "source": [
    "3. Test Set Accuracy"
   ]
  },
  {
   "cell_type": "code",
   "execution_count": 24,
   "id": "22590dcd-c292-44ee-8bac-b6f839f76c00",
   "metadata": {
    "vscode": {
     "languageId": "r"
    }
   },
   "outputs": [
    {
     "name": "stdout",
     "output_type": "stream",
     "text": [
      "Test Set Accuracy: 0.7983 \n"
     ]
    }
   ],
   "source": [
    "#Main Developer: Shikha\n",
    "test_probs <- predict(model_stepAIC, newdata = test_data, type = \"response\")\n",
    "test_pred <- ifelse(test_probs > 0.5, 1, 0)\n",
    "test_pred_factor <- factor(test_pred, levels = c(0, 1))\n",
    "test_out_factor  <- factor(test_data$PlacementStatus, levels = c(0, 1))\n",
    "\n",
    "conf_mat <- confusionMatrix(test_pred_factor, test_out_factor)\n",
    "test_accuracy <- conf_mat$overall[\"Accuracy\"]\n",
    "\n",
    "cat(\"Test Set Accuracy:\", round(test_accuracy, 4), \"\\n\")"
   ]
  },
  {
   "cell_type": "markdown",
   "id": "10acc56c-20a7-470d-9b49-003437154d8e",
   "metadata": {},
   "source": [
    "We used AIC-based stepwise logistic regression to fit the model and evaluated its predictive performance using the test set. The model has a test accuracy of 79.83%, indicating strong generalization on unseen data."
   ]
  },
  {
   "cell_type": "markdown",
   "id": "b7b6ae01",
   "metadata": {},
   "source": [
    "# 3. Discussion\n"
   ]
  },
  {
   "cell_type": "markdown",
   "id": "316d8d90-687b-489e-92be-e511979b31e5",
   "metadata": {},
   "source": [
    "Our primary goal was to evaluate how well a logistic regression model can predict student placement status using academic scores, co-curricular activities, and training indicators. The final model achieved a test set accuracy of 79.83%, indicating strong generalization performance and reliable predictive power on unseen data. This is further supported by the ROC AUC of 0.877, indicating strong discriminative power.\n",
    "\n",
    "**Key Findings & Implications**\n",
    "The most impactful predictors based on our Logistics Regression model's coefficients include: (The following coefficients were obtained from the final logistic regression model output using summary(model_stepAIC) in above code cells.)\n",
    "\n",
    "- PlacementTrainingYes (Log-odds coefficient = 0.96) and ExtracurricularActivitiesYes (Log-odds coefficient = 0.79), highlighting the real-world value of training and non-academic development.\n",
    "\n",
    "- AptitudeTestScore (Log-odds coefficient = 0.07), SoftSkillsRating (Log-odds coefficient = 0.62), and CGPA (Log-odds coefficient = 0.35) are all statistically significant (p < 0.001), aligning with expectations that stronger academic and aptitude performance increases placement likelihood.\n",
    "\n",
    "- Participation in Projects (especially Projects3, Log-odds coefficient = 0.55) and Workshops_Certifications also show meaningful positive associations.\n",
    "\n",
    "These findings imply that holistic student development, not just academic achievement, plays a major role in employability. Institutions may leverage this insight to encourage project-based learning and soft skill training.\n",
    "However, while the model predicts well, it is essential to recognize that these relationships are associational, not causal. For instance, students who undergo placement training may already be more motivated or better prepared. Thus, we cannot conclude that training *causes* placement success.\n",
    "\n",
    "**Expectations vs. Results**\n",
    "The results closely align with expectations: academic performance (CGPA), aptitude (AptitudeTestScore), and interpersonal ability (SoftSkillsRating) were anticipated to be strong predictors. Notably, PlacementTraining emerged as the most influential categorical variable, reinforcing the importance of structured preparation programs.\n",
    "\n",
    "Interestingly, Internships was dropped during stepwise feature selection, indicating a lack of significant contribution to the model’s predictive performance. . This may reflect low variability or limited effect in this dataset.\n",
    "\n",
    "**Model Improvement Opportunities**\n",
    "While performance metrics are strong, the model could be refined in the following ways:\n",
    "\n",
    "- The right-skewed AptitudeTestScore, especially a peak at 90, suggests potential bias. Binning or transforming this variable may improve fit and meet linearity assumptions.\n",
    "\n",
    "- Testing non-linear models could help capture interactions and non-additive effects that logistic regression may miss.\n",
    "\n",
    "- The current probability threshold (0.5) could be adjusted to better balance sensitivity (83%) and specificity (75%), depending on whether minimizing false positives or false negatives is more important to the people interested.\n",
    "\n",
    "**Future Research Directions**\n",
    "- Use causal inference techniques to better understand the true effect of factors like PlacementTraining.\n",
    "\n",
    "- Include institution-level data (e.g., college rank, company connections) to expand the model’s generalizability.\n",
    "\n",
    "- Investigate interaction effects, such as whether the benefit of soft skills or certifications is amplified when paired with training."
   ]
  },
  {
   "cell_type": "markdown",
   "id": "52a30911",
   "metadata": {},
   "source": [
    "# 4. References"
   ]
  },
  {
   "cell_type": "markdown",
   "id": "eed4c77b",
   "metadata": {},
   "source": [
    "*Entire text in this cell taken from Ashmit Gupta's Assignment 1 and 2*\n",
    "- Dataset has downloaded from Kaggle (https://www.kaggle.com/datasets/ruchikakumbhar/placement-prediction-dataset/data)\n",
    "- All the information (like data description, number of variables, number of observations, variable name, variable type and variable description) in the main 'Data Description' section has been adapted from https://www.kaggle.com/datasets/ruchikakumbhar/placement-prediction-dataset/data"
   ]
  },
  {
   "cell_type": "markdown",
   "id": "900258de",
   "metadata": {},
   "source": [
    "- Kim, J., Oh, J., & Rajaguru, Y. (2022). Job-seeking anxiety and job preparation behavior of undergraduate students. Healthcare, 10(2), 288. https://doi.org/10.3390/healthcare10020288\n",
    "\n",
    "For Functions:\n",
    "- R Core Team. (2024). *R: A language and environment for statistical computing (Version 4.3.3)*. R Foundation for Statistical Computing. [Computer software]. https://www.r-project.org/"
   ]
  }
 ],
 "metadata": {
  "kernelspec": {
   "display_name": "R",
   "language": "R",
   "name": "ir"
  },
  "language_info": {
   "codemirror_mode": "r",
   "file_extension": ".r",
   "mimetype": "text/x-r-source",
   "name": "R",
   "pygments_lexer": "r",
   "version": "4.3.3"
  }
 },
 "nbformat": 4,
 "nbformat_minor": 5
}
