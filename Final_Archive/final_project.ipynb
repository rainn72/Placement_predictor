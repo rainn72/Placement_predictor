{
 "cells": [
  {
   "cell_type": "markdown",
   "id": "55e40909",
   "metadata": {},
   "source": [
    "# **Job Placement Predictor**\n",
    "\n",
    "**Submitted by Group 33**  \n",
    "- Ashmit Gupta  \n",
    "- Jolin Lin  \n",
    "- Shikha Rajesh  \n",
    "- Siddhanth Duggal  \n",
    "- Yu Chang 47945050\n",
    "\n",
    "**The University of British Columbia**  \n",
    "**STAT 301**  \n",
    "**Instructor**: Dr. Gabriela Cohen Freue  \n",
    "**Date**: 2025/04/10\n"
   ]
  },
  {
   "cell_type": "markdown",
   "id": "2c1cf8bd",
   "metadata": {},
   "source": [
    "# 1. Introduction"
   ]
  },
  {
   "cell_type": "markdown",
   "id": "91953b59",
   "metadata": {},
   "source": [
    "Start with relevant background information on the topic to prepare those unfamiliar for the rest of your proposal. Motivate the question you are about to add.\n",
    "\n",
    "Formulate one or two questions for investigation indicating if the primary goal is inference or prediction. Make sure that the question(s) can be answer with the data available. For example, you won't be able to quantify the \"effect of X on Y\" or \"the influence of X on Y\" or \"how X affects Y\" using the methods learned in class and observational data.\n",
    "\n",
    "If available, align your question/objectives with the existing literature on the topic. You can add a reference to a scientific publication if available and listed in the References section (not mandatory). "
   ]
  },
  {
   "cell_type": "markdown",
   "id": "6f70ddca",
   "metadata": {},
   "source": [
    "**Question:** How well can we build a model to accurately predict the placement status of a student based on their relavent activities and scores? \n",
    "\n",
    "... smt like this, as we talked with TAs"
   ]
  },
  {
   "cell_type": "markdown",
   "id": "de96ba00",
   "metadata": {},
   "source": [
    "# 2. Methods and Results"
   ]
  },
  {
   "cell_type": "markdown",
   "id": "5ee0e58b",
   "metadata": {},
   "source": [
    "### **2.1) Data**"
   ]
  },
  {
   "cell_type": "markdown",
   "id": "ce548356",
   "metadata": {},
   "source": [
    "**Data Source:** The dataset has been taken from Kaggle (https://www.kaggle.com/datasets/ruchikakumbhar/placement-prediction-dataset/data) updated 2 months ago by Kaggle username 'ruchikakumbhar'. It is under the 'CC0: Public Domain' License so the Kaggle user does not endorse this dataset. This also means it is freely available for us to use. The data collection method is not provided in the author's profile nor on the Kaggle dataset webpage, so we would assume it's **observational data**."
   ]
  },
  {
   "cell_type": "markdown",
   "id": "629e3944",
   "metadata": {},
   "source": [
    "**Data Description:** The dataset contains various columns about the academic performance and the placement status (secured a job after graduation or not) of students. Notably, it has the following features:\n",
    "- Number of variables: 12\n",
    "- Number of observations: 10,000\n",
    "- Variable Information: Included in the following table"
   ]
  },
  {
   "cell_type": "markdown",
   "id": "6a529e22",
   "metadata": {},
   "source": [
    "| Variable Name               | Data Type   | Description |\n",
    "|-----------------------------|------------|-------------|\n",
    "| `StudentID`                 | Integer(Unique)   | Unique identifier for each student. |\n",
    "| `CGPA`                      | Numeric    | Cumulative Grade Point Average of the student.This is an important variable because generally speaking Higher CGPA generally indicates better academic performance thus easier to be **placed**. |\n",
    "| `Internships`               | Integer   | Number of internships a student has completed, which provides industry exposure. Can be 0,1, or 2 |\n",
    "| `Projects`                  | Integer    | Number of academic or personal projects completed by the student. |\n",
    "| `Workshops/Certifications`  | Integer    | Number of online workshops or certifications undertaken to enhance skills. |\n",
    "| `AptitudeTestScore`         | Integer    | Score obtained in an aptitude test (part of recruitment) that evaluates logical reasoning and quantitative skills. |\n",
    "| `SoftSkillsRating`          | Numeric    | Rating of soft skills (e.g., communication) on a scale. |\n",
    "| `ExtracurricularActivities` | Categorical (Yes/No) | Indicates whether the student has participated in extracurricular activities. This provides insight into an individual's personality and engagement beyond academics. |\n",
    "| `PlacementTraining`         | Categorical (Yes/No) | Specifies if the student has undergone placement training at the institution. |\n",
    "| `SSC_Marks`                 | Numeric    | Marks obtained in Senior Secondary Certificate (10th-grade equivalent). |\n",
    "| `HSC_Marks`                 | Numeric    | Marks obtained in Higher Secondary Certificate (12th-grade equivalent). |\n",
    "| `PlacementStatus`           | Categorical (Placed/Not Placed) | **Target Variable**: Indicates whether the student was placed in a job or not. |"
   ]
  },
  {
   "cell_type": "markdown",
   "id": "f63db535",
   "metadata": {},
   "source": [
    "### **Citation**\n",
    "Kumbhar, R. (n.d.). *Placement Prediction Dataset*. Kaggle. Retrieved from [https://www.kaggle.com/datasets/ruchikakumbhar/placement-prediction-dataset/data](https://www.kaggle.com/datasets/ruchikakumbhar/placement-prediction-dataset/data)"
   ]
  },
  {
   "cell_type": "markdown",
   "id": "834edbb0",
   "metadata": {},
   "source": [
    "### **Data Loading**"
   ]
  },
  {
   "cell_type": "code",
   "execution_count": 84,
   "id": "2c9914e5",
   "metadata": {
    "vscode": {
     "languageId": "r"
    }
   },
   "outputs": [],
   "source": [
    "# install.packages(\"readr\")\n",
    "# install.packages(\"knitr\") \n",
    "# install.packages(\"dplyr\")\n",
    "# install.packages(\"broom\")\n",
    "# install.packages(\"corrr\")\n",
    "# install.packages(\"car\")\n",
    "# install.packages(\"tidyverse\")\n",
    "# install.packages(\"readr\")\n",
    "# install.packages(\"gridExtra\")\n",
    "# install.packages(\"leaps\")\n",
    "# install.packages(\"corrplot\")\n",
    "# install.packages(\"caret\")\n",
    "\n",
    "#Loading Libs\n",
    "library(readr)\n",
    "library(knitr)\n",
    "library(dplyr)\n",
    "library(broom)\n",
    "library(corrr)\n",
    "library(car)\n",
    "library(tidyverse)\n",
    "library(ggplot2)\n",
    "library(gridExtra)\n",
    "library(leaps)\n",
    "library(corrplot)\n",
    "library(RColorBrewer)\n",
    "library(dplyr)\n",
    "library(caret)\n",
    "library(tibble)\n",
    "library(forcats)"
   ]
  },
  {
   "cell_type": "code",
   "execution_count": 85,
   "id": "d02f5e2d",
   "metadata": {
    "vscode": {
     "languageId": "r"
    }
   },
   "outputs": [
    {
     "name": "stdout",
     "output_type": "stream",
     "text": [
      "Number of observations: 10000 \n",
      "Number of variables: 12 \n"
     ]
    }
   ],
   "source": [
    "data_file_link <- \"https://raw.githubusercontent.com/rainn72/Placement_predictor/refs/heads/main/data/placementdata.csv\"\n",
    "data <- read_csv(data_file_link, show_col_types = FALSE)\n",
    "\n",
    "num_observations <- nrow(data)\n",
    "num_variables <- ncol(data)\n",
    "cat(\"Number of observations:\", num_observations, \"\\n\")\n",
    "cat(\"Number of variables:\", num_variables, \"\\n\")"
   ]
  },
  {
   "cell_type": "markdown",
   "id": "32517b37",
   "metadata": {},
   "source": [
    "### **Initial Data Preprocessing**\n",
    "\n",
    "1. we checked if there're duplicated values in the dataset and there are no duplicates that we need to remove."
   ]
  },
  {
   "cell_type": "code",
   "execution_count": 86,
   "id": "fe759249",
   "metadata": {
    "vscode": {
     "languageId": "r"
    }
   },
   "outputs": [
    {
     "data": {
      "text/html": [
       "<table class=\"dataframe\">\n",
       "<caption>A tibble: 0 × 2</caption>\n",
       "<thead>\n",
       "\t<tr><th scope=col>StudentID</th><th scope=col>value_count</th></tr>\n",
       "\t<tr><th scope=col>&lt;dbl&gt;</th><th scope=col>&lt;int&gt;</th></tr>\n",
       "</thead>\n",
       "<tbody>\n",
       "</tbody>\n",
       "</table>\n"
      ],
      "text/latex": [
       "A tibble: 0 × 2\n",
       "\\begin{tabular}{ll}\n",
       " StudentID & value\\_count\\\\\n",
       " <dbl> & <int>\\\\\n",
       "\\hline\n",
       "\\end{tabular}\n"
      ],
      "text/markdown": [
       "\n",
       "A tibble: 0 × 2\n",
       "\n",
       "| StudentID &lt;dbl&gt; | value_count &lt;int&gt; |\n",
       "|---|---|\n",
       "\n"
      ],
      "text/plain": [
       "     StudentID value_count"
      ]
     },
     "metadata": {},
     "output_type": "display_data"
    }
   ],
   "source": [
    "duplicate_values <- data %>% \n",
    "                    group_by(StudentID) %>% \n",
    "                    summarise(value_count = n()) %>%\n",
    "                    filter(value_count > 1)\n",
    "                    \n",
    "duplicate_values"
   ]
  },
  {
   "cell_type": "markdown",
   "id": "8bdb6749",
   "metadata": {},
   "source": [
    "2. We dropped the variable `StudentID` from out dataset with the following reasons:\n",
    "\n",
    "* **No Predictive Power:** It is simply a unique identifier assigned to each observation (each student). It's not correlated with the student's academic performance. Therefore, it does not help the model distinguish between students who are placed and those who are not.\n",
    "* **Simplicity and Clarity:** Excluding irrelevant variables like IDs keeps our dataset cleaner and our model more interpretable.\n"
   ]
  },
  {
   "cell_type": "code",
   "execution_count": 87,
   "id": "7f2f8738",
   "metadata": {
    "vscode": {
     "languageId": "r"
    }
   },
   "outputs": [],
   "source": [
    "data <- data %>% select(-StudentID)"
   ]
  },
  {
   "cell_type": "markdown",
   "id": "4b9d42b4",
   "metadata": {},
   "source": [
    "3. We changed the name of a covariate because it(\"/\") may raise errors in some following code"
   ]
  },
  {
   "cell_type": "code",
   "execution_count": 88,
   "id": "656a0090",
   "metadata": {
    "vscode": {
     "languageId": "r"
    }
   },
   "outputs": [
    {
     "data": {
      "text/html": [
       "<table class=\"dataframe\">\n",
       "<caption>A tibble: 3 × 11</caption>\n",
       "<thead>\n",
       "\t<tr><th scope=col>CGPA</th><th scope=col>Internships</th><th scope=col>Projects</th><th scope=col>Workshops_Certifications</th><th scope=col>AptitudeTestScore</th><th scope=col>SoftSkillsRating</th><th scope=col>ExtracurricularActivities</th><th scope=col>PlacementTraining</th><th scope=col>SSC_Marks</th><th scope=col>HSC_Marks</th><th scope=col>PlacementStatus</th></tr>\n",
       "\t<tr><th scope=col>&lt;dbl&gt;</th><th scope=col>&lt;dbl&gt;</th><th scope=col>&lt;dbl&gt;</th><th scope=col>&lt;dbl&gt;</th><th scope=col>&lt;dbl&gt;</th><th scope=col>&lt;dbl&gt;</th><th scope=col>&lt;chr&gt;</th><th scope=col>&lt;chr&gt;</th><th scope=col>&lt;dbl&gt;</th><th scope=col>&lt;dbl&gt;</th><th scope=col>&lt;chr&gt;</th></tr>\n",
       "</thead>\n",
       "<tbody>\n",
       "\t<tr><td>7.5</td><td>1</td><td>1</td><td>1</td><td>65</td><td>4.4</td><td>No </td><td>No </td><td>61</td><td>79</td><td>NotPlaced</td></tr>\n",
       "\t<tr><td>8.9</td><td>0</td><td>3</td><td>2</td><td>90</td><td>4.0</td><td>Yes</td><td>Yes</td><td>78</td><td>82</td><td>Placed   </td></tr>\n",
       "\t<tr><td>7.3</td><td>1</td><td>2</td><td>2</td><td>82</td><td>4.8</td><td>Yes</td><td>No </td><td>79</td><td>80</td><td>NotPlaced</td></tr>\n",
       "</tbody>\n",
       "</table>\n"
      ],
      "text/latex": [
       "A tibble: 3 × 11\n",
       "\\begin{tabular}{lllllllllll}\n",
       " CGPA & Internships & Projects & Workshops\\_Certifications & AptitudeTestScore & SoftSkillsRating & ExtracurricularActivities & PlacementTraining & SSC\\_Marks & HSC\\_Marks & PlacementStatus\\\\\n",
       " <dbl> & <dbl> & <dbl> & <dbl> & <dbl> & <dbl> & <chr> & <chr> & <dbl> & <dbl> & <chr>\\\\\n",
       "\\hline\n",
       "\t 7.5 & 1 & 1 & 1 & 65 & 4.4 & No  & No  & 61 & 79 & NotPlaced\\\\\n",
       "\t 8.9 & 0 & 3 & 2 & 90 & 4.0 & Yes & Yes & 78 & 82 & Placed   \\\\\n",
       "\t 7.3 & 1 & 2 & 2 & 82 & 4.8 & Yes & No  & 79 & 80 & NotPlaced\\\\\n",
       "\\end{tabular}\n"
      ],
      "text/markdown": [
       "\n",
       "A tibble: 3 × 11\n",
       "\n",
       "| CGPA &lt;dbl&gt; | Internships &lt;dbl&gt; | Projects &lt;dbl&gt; | Workshops_Certifications &lt;dbl&gt; | AptitudeTestScore &lt;dbl&gt; | SoftSkillsRating &lt;dbl&gt; | ExtracurricularActivities &lt;chr&gt; | PlacementTraining &lt;chr&gt; | SSC_Marks &lt;dbl&gt; | HSC_Marks &lt;dbl&gt; | PlacementStatus &lt;chr&gt; |\n",
       "|---|---|---|---|---|---|---|---|---|---|---|\n",
       "| 7.5 | 1 | 1 | 1 | 65 | 4.4 | No  | No  | 61 | 79 | NotPlaced |\n",
       "| 8.9 | 0 | 3 | 2 | 90 | 4.0 | Yes | Yes | 78 | 82 | Placed    |\n",
       "| 7.3 | 1 | 2 | 2 | 82 | 4.8 | Yes | No  | 79 | 80 | NotPlaced |\n",
       "\n"
      ],
      "text/plain": [
       "  CGPA Internships Projects Workshops_Certifications AptitudeTestScore\n",
       "1 7.5  1           1        1                        65               \n",
       "2 8.9  0           3        2                        90               \n",
       "3 7.3  1           2        2                        82               \n",
       "  SoftSkillsRating ExtracurricularActivities PlacementTraining SSC_Marks\n",
       "1 4.4              No                        No                61       \n",
       "2 4.0              Yes                       Yes               78       \n",
       "3 4.8              Yes                       No                79       \n",
       "  HSC_Marks PlacementStatus\n",
       "1 79        NotPlaced      \n",
       "2 82        Placed         \n",
       "3 80        NotPlaced      "
      ]
     },
     "metadata": {},
     "output_type": "display_data"
    },
    {
     "data": {
      "text/html": [
       "<style>\n",
       ".list-inline {list-style: none; margin:0; padding: 0}\n",
       ".list-inline>li {display: inline-block}\n",
       ".list-inline>li:not(:last-child)::after {content: \"\\00b7\"; padding: 0 .5ex}\n",
       "</style>\n",
       "<ol class=list-inline><li>1</li><li>2</li><li>0</li><li>3</li></ol>\n"
      ],
      "text/latex": [
       "\\begin{enumerate*}\n",
       "\\item 1\n",
       "\\item 2\n",
       "\\item 0\n",
       "\\item 3\n",
       "\\end{enumerate*}\n"
      ],
      "text/markdown": [
       "1. 1\n",
       "2. 2\n",
       "3. 0\n",
       "4. 3\n",
       "\n",
       "\n"
      ],
      "text/plain": [
       "[1] 1 2 0 3"
      ]
     },
     "metadata": {},
     "output_type": "display_data"
    }
   ],
   "source": [
    "names(data)[names(data) == \"Workshops/Certifications\"] <- \"Workshops_Certifications\" \n",
    "\n",
    "head(data, 3)\n",
    "\n",
    "unique(data$Workshops_Certifications)"
   ]
  },
  {
   "cell_type": "markdown",
   "id": "ec317fd9",
   "metadata": {},
   "source": [
    "4. We replaced the levels `NotPlaced` and `Placed` for `PlacementStatus` in the dataset with the numerical values `1` and `0`"
   ]
  },
  {
   "cell_type": "code",
   "execution_count": 89,
   "id": "46786b39",
   "metadata": {
    "vscode": {
     "languageId": "r"
    }
   },
   "outputs": [],
   "source": [
    "data <- data %>%\n",
    "  mutate(PlacementStatus = if_else(PlacementStatus == \"Placed\", 1, 0))"
   ]
  },
  {
   "cell_type": "markdown",
   "id": "66b56ef8",
   "metadata": {},
   "source": [
    "5. Convert the Yes/No columns (categorical) to factors, and we treat the covariates like `Internships` or `projects` as numeric, which assumes a linear effect between each 'level'."
   ]
  },
  {
   "cell_type": "code",
   "execution_count": 90,
   "id": "ecce421c",
   "metadata": {
    "vscode": {
     "languageId": "r"
    }
   },
   "outputs": [
    {
     "data": {
      "text/html": [
       "<table class=\"dataframe\">\n",
       "<caption>A tibble: 3 × 11</caption>\n",
       "<thead>\n",
       "\t<tr><th scope=col>CGPA</th><th scope=col>Internships</th><th scope=col>Projects</th><th scope=col>Workshops_Certifications</th><th scope=col>AptitudeTestScore</th><th scope=col>SoftSkillsRating</th><th scope=col>ExtracurricularActivities</th><th scope=col>PlacementTraining</th><th scope=col>SSC_Marks</th><th scope=col>HSC_Marks</th><th scope=col>PlacementStatus</th></tr>\n",
       "\t<tr><th scope=col>&lt;dbl&gt;</th><th scope=col>&lt;dbl&gt;</th><th scope=col>&lt;dbl&gt;</th><th scope=col>&lt;dbl&gt;</th><th scope=col>&lt;dbl&gt;</th><th scope=col>&lt;dbl&gt;</th><th scope=col>&lt;fct&gt;</th><th scope=col>&lt;fct&gt;</th><th scope=col>&lt;dbl&gt;</th><th scope=col>&lt;dbl&gt;</th><th scope=col>&lt;dbl&gt;</th></tr>\n",
       "</thead>\n",
       "<tbody>\n",
       "\t<tr><td>7.5</td><td>1</td><td>1</td><td>1</td><td>65</td><td>4.4</td><td>No </td><td>No </td><td>61</td><td>79</td><td>0</td></tr>\n",
       "\t<tr><td>8.9</td><td>0</td><td>3</td><td>2</td><td>90</td><td>4.0</td><td>Yes</td><td>Yes</td><td>78</td><td>82</td><td>1</td></tr>\n",
       "\t<tr><td>7.3</td><td>1</td><td>2</td><td>2</td><td>82</td><td>4.8</td><td>Yes</td><td>No </td><td>79</td><td>80</td><td>0</td></tr>\n",
       "</tbody>\n",
       "</table>\n"
      ],
      "text/latex": [
       "A tibble: 3 × 11\n",
       "\\begin{tabular}{lllllllllll}\n",
       " CGPA & Internships & Projects & Workshops\\_Certifications & AptitudeTestScore & SoftSkillsRating & ExtracurricularActivities & PlacementTraining & SSC\\_Marks & HSC\\_Marks & PlacementStatus\\\\\n",
       " <dbl> & <dbl> & <dbl> & <dbl> & <dbl> & <dbl> & <fct> & <fct> & <dbl> & <dbl> & <dbl>\\\\\n",
       "\\hline\n",
       "\t 7.5 & 1 & 1 & 1 & 65 & 4.4 & No  & No  & 61 & 79 & 0\\\\\n",
       "\t 8.9 & 0 & 3 & 2 & 90 & 4.0 & Yes & Yes & 78 & 82 & 1\\\\\n",
       "\t 7.3 & 1 & 2 & 2 & 82 & 4.8 & Yes & No  & 79 & 80 & 0\\\\\n",
       "\\end{tabular}\n"
      ],
      "text/markdown": [
       "\n",
       "A tibble: 3 × 11\n",
       "\n",
       "| CGPA &lt;dbl&gt; | Internships &lt;dbl&gt; | Projects &lt;dbl&gt; | Workshops_Certifications &lt;dbl&gt; | AptitudeTestScore &lt;dbl&gt; | SoftSkillsRating &lt;dbl&gt; | ExtracurricularActivities &lt;fct&gt; | PlacementTraining &lt;fct&gt; | SSC_Marks &lt;dbl&gt; | HSC_Marks &lt;dbl&gt; | PlacementStatus &lt;dbl&gt; |\n",
       "|---|---|---|---|---|---|---|---|---|---|---|\n",
       "| 7.5 | 1 | 1 | 1 | 65 | 4.4 | No  | No  | 61 | 79 | 0 |\n",
       "| 8.9 | 0 | 3 | 2 | 90 | 4.0 | Yes | Yes | 78 | 82 | 1 |\n",
       "| 7.3 | 1 | 2 | 2 | 82 | 4.8 | Yes | No  | 79 | 80 | 0 |\n",
       "\n"
      ],
      "text/plain": [
       "  CGPA Internships Projects Workshops_Certifications AptitudeTestScore\n",
       "1 7.5  1           1        1                        65               \n",
       "2 8.9  0           3        2                        90               \n",
       "3 7.3  1           2        2                        82               \n",
       "  SoftSkillsRating ExtracurricularActivities PlacementTraining SSC_Marks\n",
       "1 4.4              No                        No                61       \n",
       "2 4.0              Yes                       Yes               78       \n",
       "3 4.8              Yes                       No                79       \n",
       "  HSC_Marks PlacementStatus\n",
       "1 79        0              \n",
       "2 82        1              \n",
       "3 80        0              "
      ]
     },
     "metadata": {},
     "output_type": "display_data"
    }
   ],
   "source": [
    "data$ExtracurricularActivities <- factor(data$ExtracurricularActivities,\n",
    "                                         levels = c(\"No\", \"Yes\"))\n",
    "data$PlacementTraining <- factor(data$PlacementTraining,\n",
    "                                 levels = c(\"No\", \"Yes\"))\n",
    "\n",
    "\n",
    "head(data,3)"
   ]
  },
  {
   "cell_type": "markdown",
   "id": "62f4f00d",
   "metadata": {},
   "source": [
    "### **2.2) Exploratory Data Analysis**"
   ]
  },
  {
   "cell_type": "markdown",
   "id": "d1b07277",
   "metadata": {},
   "source": [
    "#### **Data Preprocessing**\n",
    "\n",
    "\n",
    "##### **Check Missing Values**"
   ]
  },
  {
   "cell_type": "code",
   "execution_count": 91,
   "id": "5c584d88",
   "metadata": {
    "vscode": {
     "languageId": "r"
    }
   },
   "outputs": [
    {
     "data": {
      "text/html": [
       "<style>\n",
       ".dl-inline {width: auto; margin:0; padding: 0}\n",
       ".dl-inline>dt, .dl-inline>dd {float: none; width: auto; display: inline-block}\n",
       ".dl-inline>dt::after {content: \":\\0020\"; padding-right: .5ex}\n",
       ".dl-inline>dt:not(:first-of-type) {padding-left: .5ex}\n",
       "</style><dl class=dl-inline><dt>CGPA</dt><dd>0</dd><dt>Internships</dt><dd>0</dd><dt>Projects</dt><dd>0</dd><dt>Workshops_Certifications</dt><dd>0</dd><dt>AptitudeTestScore</dt><dd>0</dd><dt>SoftSkillsRating</dt><dd>0</dd><dt>ExtracurricularActivities</dt><dd>0</dd><dt>PlacementTraining</dt><dd>0</dd><dt>SSC_Marks</dt><dd>0</dd><dt>HSC_Marks</dt><dd>0</dd><dt>PlacementStatus</dt><dd>0</dd></dl>\n"
      ],
      "text/latex": [
       "\\begin{description*}\n",
       "\\item[CGPA] 0\n",
       "\\item[Internships] 0\n",
       "\\item[Projects] 0\n",
       "\\item[Workshops\\textbackslash{}\\_Certifications] 0\n",
       "\\item[AptitudeTestScore] 0\n",
       "\\item[SoftSkillsRating] 0\n",
       "\\item[ExtracurricularActivities] 0\n",
       "\\item[PlacementTraining] 0\n",
       "\\item[SSC\\textbackslash{}\\_Marks] 0\n",
       "\\item[HSC\\textbackslash{}\\_Marks] 0\n",
       "\\item[PlacementStatus] 0\n",
       "\\end{description*}\n"
      ],
      "text/markdown": [
       "CGPA\n",
       ":   0Internships\n",
       ":   0Projects\n",
       ":   0Workshops_Certifications\n",
       ":   0AptitudeTestScore\n",
       ":   0SoftSkillsRating\n",
       ":   0ExtracurricularActivities\n",
       ":   0PlacementTraining\n",
       ":   0SSC_Marks\n",
       ":   0HSC_Marks\n",
       ":   0PlacementStatus\n",
       ":   0\n",
       "\n"
      ],
      "text/plain": [
       "                     CGPA               Internships                  Projects \n",
       "                        0                         0                         0 \n",
       " Workshops_Certifications         AptitudeTestScore          SoftSkillsRating \n",
       "                        0                         0                         0 \n",
       "ExtracurricularActivities         PlacementTraining                 SSC_Marks \n",
       "                        0                         0                         0 \n",
       "                HSC_Marks           PlacementStatus \n",
       "                        0                         0 "
      ]
     },
     "metadata": {},
     "output_type": "display_data"
    }
   ],
   "source": [
    "colSums(is.na(data))"
   ]
  },
  {
   "cell_type": "markdown",
   "id": "497f6ac0",
   "metadata": {},
   "source": [
    "Good! The dataset contains no missing values."
   ]
  },
  {
   "cell_type": "markdown",
   "id": "5bf58ab0",
   "metadata": {},
   "source": [
    "##### **Check Class Imbalance**"
   ]
  },
  {
   "cell_type": "markdown",
   "id": "e60c5624",
   "metadata": {},
   "source": []
  },
  {
   "cell_type": "code",
   "execution_count": 92,
   "id": "2239fed6",
   "metadata": {
    "vscode": {
     "languageId": "r"
    }
   },
   "outputs": [
    {
     "data": {
      "image/png": "[encoded data removed]",
      "text/plain": [
       "plot without title"
      ]
     },
     "metadata": {
      "image/png": {
       "height": 420,
       "width": 420
      }
     },
     "output_type": "display_data"
    }
   ],
   "source": [
    "categorical_columns <- c(\"ExtracurricularActivities\", \"PlacementTraining\",\"PlacementStatus\")\n",
    "plots <- list()\n",
    "\n",
    "# Loop over each categorical variable to build a bar plot\n",
    "for (cat_col in categorical_columns) {\n",
    "  p <- ggplot(data = data, aes_string(x = cat_col)) +\n",
    "    geom_bar(fill = \"steelblue\", color = \"black\") +\n",
    "    labs(\n",
    "      title = paste( cat_col),\n",
    "      x = cat_col,\n",
    "      y = \"Count\"\n",
    "    ) +\n",
    "    theme_minimal(base_size = 14) +\n",
    "    theme(\n",
    "      plot.title = element_text(size = 16, face = \"bold\"),\n",
    "      axis.title = element_text(size = 14),\n",
    "      axis.text = element_text(size = 12)\n",
    "    )\n",
    "  plots[[cat_col]] <- p\n",
    "}\n",
    "grid.arrange(grobs = plots, ncol = 2)"
   ]
  },
  {
   "cell_type": "markdown",
   "id": "45b6fb0b",
   "metadata": {},
   "source": [
    "- There are enough values in both the categorical predictor variables for each of their categories such that there is no reason to merge or drop come categories.\n",
    "- For the response variable (PlacementStatus), there is no class imbalance, so no further tidying is required in this aspect."
   ]
  },
  {
   "cell_type": "markdown",
   "id": "3b1d3aa7",
   "metadata": {},
   "source": [
    "##### **Check Distributional Skewness**"
   ]
  },
  {
   "cell_type": "code",
   "execution_count": 93,
   "id": "7f03882f",
   "metadata": {
    "vscode": {
     "languageId": "r"
    }
   },
   "outputs": [
    {
     "data": {
      "text/html": [
       "<style>\n",
       ".list-inline {list-style: none; margin:0; padding: 0}\n",
       ".list-inline>li {display: inline-block}\n",
       ".list-inline>li:not(:last-child)::after {content: \"\\00b7\"; padding: 0 .5ex}\n",
       "</style>\n",
       "<ol class=list-inline><li>'CGPA'</li><li>'Internships'</li><li>'Projects'</li><li>'Workshops_Certifications'</li><li>'AptitudeTestScore'</li><li>'SoftSkillsRating'</li><li>'ExtracurricularActivities'</li><li>'PlacementTraining'</li><li>'SSC_Marks'</li><li>'HSC_Marks'</li><li>'PlacementStatus'</li></ol>\n"
      ],
      "text/latex": [
       "\\begin{enumerate*}\n",
       "\\item 'CGPA'\n",
       "\\item 'Internships'\n",
       "\\item 'Projects'\n",
       "\\item 'Workshops\\_Certifications'\n",
       "\\item 'AptitudeTestScore'\n",
       "\\item 'SoftSkillsRating'\n",
       "\\item 'ExtracurricularActivities'\n",
       "\\item 'PlacementTraining'\n",
       "\\item 'SSC\\_Marks'\n",
       "\\item 'HSC\\_Marks'\n",
       "\\item 'PlacementStatus'\n",
       "\\end{enumerate*}\n"
      ],
      "text/markdown": [
       "1. 'CGPA'\n",
       "2. 'Internships'\n",
       "3. 'Projects'\n",
       "4. 'Workshops_Certifications'\n",
       "5. 'AptitudeTestScore'\n",
       "6. 'SoftSkillsRating'\n",
       "7. 'ExtracurricularActivities'\n",
       "8. 'PlacementTraining'\n",
       "9. 'SSC_Marks'\n",
       "10. 'HSC_Marks'\n",
       "11. 'PlacementStatus'\n",
       "\n",
       "\n"
      ],
      "text/plain": [
       " [1] \"CGPA\"                      \"Internships\"              \n",
       " [3] \"Projects\"                  \"Workshops_Certifications\" \n",
       " [5] \"AptitudeTestScore\"         \"SoftSkillsRating\"         \n",
       " [7] \"ExtracurricularActivities\" \"PlacementTraining\"        \n",
       " [9] \"SSC_Marks\"                 \"HSC_Marks\"                \n",
       "[11] \"PlacementStatus\"          "
      ]
     },
     "metadata": {},
     "output_type": "display_data"
    }
   ],
   "source": [
    "names(data)\n"
   ]
  },
  {
   "cell_type": "code",
   "execution_count": 94,
   "id": "525023f3",
   "metadata": {
    "vscode": {
     "languageId": "r"
    }
   },
   "outputs": [
    {
     "data": {
      "image/png": "[encoded data removed]",
      "text/plain": [
       "plot without title"
      ]
     },
     "metadata": {
      "image/png": {
       "height": 420,
       "width": 420
      }
     },
     "output_type": "display_data"
    }
   ],
   "source": [
    "df_num <- c(\n",
    "  \"Internships\", \n",
    "  \"Projects\", \n",
    "  \"Workshops_Certifications\",\n",
    "  \"AptitudeTestScore\", \n",
    "  \"SoftSkillsRating\", \n",
    "  \"SSC_Marks\", \n",
    "  \"HSC_Marks\"\n",
    ")\n",
    "\n",
    "plots <- list()\n",
    "\n",
    "for (colname in df_num) {\n",
    "  p <- ggplot(data, aes_string(x = colname)) +\n",
    "    geom_histogram(fill = \"steelblue\", color = \"black\", bins = 15) +  # No extra parentheses here\n",
    "    labs(\n",
    "      title = paste( colname),\n",
    "      x = colname,\n",
    "      y = \"Count\"\n",
    "    ) +\n",
    "    theme_minimal(base_size = 14)\n",
    "  plots[[colname]] <- p\n",
    "}\n",
    "\n",
    "# Arrange all plots in a grid (2 columns, for example)\n",
    "grid.arrange(grobs = plots, ncol = 2)\n"
   ]
  },
  {
   "cell_type": "code",
   "execution_count": 95,
   "id": "f06490a7",
   "metadata": {
    "vscode": {
     "languageId": "r"
    }
   },
   "outputs": [
    {
     "name": "stdout",
     "output_type": "stream",
     "text": [
      "[1] \"The Number of Students who have Workshop Experience = 3: 284\"\n",
      "[1] \"The Number of Students who have Workshop Experience = 2: 3303\"\n",
      "[1] \"---------------------------------------------------------------\"\n",
      "[1] \"The Number of Students who have Project number = 1: 3547\"\n",
      "[1] \"The Number of Students who have Project number = 0: 30\"\n"
     ]
    }
   ],
   "source": [
    "print(paste(\"The Number of Students who have Workshop Experience = 3:\", \n",
    "            sum(data$Workshops_Certifications == \"3\")))\n",
    "\n",
    "print(paste(\"The Number of Students who have Workshop Experience = 2:\", \n",
    "            sum(data$Workshops_Certifications == \"2\")))\n",
    "\n",
    "print(paste(\"---------------------------------------------------------------\"))\n",
    "\n",
    "print(paste(\"The Number of Students who have Project number = 1:\", \n",
    "            sum(data$Projects == \"1\")))\n",
    "\n",
    "print(paste(\"The Number of Students who have Project number = 0:\", \n",
    "            sum(data$Projects == \"0\")))"
   ]
  },
  {
   "cell_type": "markdown",
   "id": "4896bba1",
   "metadata": {},
   "source": [
    "**Since there're clearly relative less people with workshop experience = 2, so we will first merge them for now**. "
   ]
  },
  {
   "cell_type": "code",
   "execution_count": 96,
   "id": "d29cae1e",
   "metadata": {
    "vscode": {
     "languageId": "r"
    }
   },
   "outputs": [
    {
     "data": {
      "text/html": [
       "<table class=\"dataframe\">\n",
       "<caption>A tibble: 3 × 11</caption>\n",
       "<thead>\n",
       "\t<tr><th scope=col>CGPA</th><th scope=col>Internships</th><th scope=col>Projects</th><th scope=col>Workshops_Certifications</th><th scope=col>AptitudeTestScore</th><th scope=col>SoftSkillsRating</th><th scope=col>ExtracurricularActivities</th><th scope=col>PlacementTraining</th><th scope=col>SSC_Marks</th><th scope=col>HSC_Marks</th><th scope=col>PlacementStatus</th></tr>\n",
       "\t<tr><th scope=col>&lt;dbl&gt;</th><th scope=col>&lt;dbl&gt;</th><th scope=col>&lt;fct&gt;</th><th scope=col>&lt;fct&gt;</th><th scope=col>&lt;dbl&gt;</th><th scope=col>&lt;dbl&gt;</th><th scope=col>&lt;fct&gt;</th><th scope=col>&lt;fct&gt;</th><th scope=col>&lt;dbl&gt;</th><th scope=col>&lt;dbl&gt;</th><th scope=col>&lt;dbl&gt;</th></tr>\n",
       "</thead>\n",
       "<tbody>\n",
       "\t<tr><td>7.5</td><td>1</td><td>1-</td><td>1 </td><td>65</td><td>4.4</td><td>No </td><td>No </td><td>61</td><td>79</td><td>0</td></tr>\n",
       "\t<tr><td>8.9</td><td>0</td><td>3 </td><td>2+</td><td>90</td><td>4.0</td><td>Yes</td><td>Yes</td><td>78</td><td>82</td><td>1</td></tr>\n",
       "\t<tr><td>7.3</td><td>1</td><td>2 </td><td>2+</td><td>82</td><td>4.8</td><td>Yes</td><td>No </td><td>79</td><td>80</td><td>0</td></tr>\n",
       "</tbody>\n",
       "</table>\n"
      ],
      "text/latex": [
       "A tibble: 3 × 11\n",
       "\\begin{tabular}{lllllllllll}\n",
       " CGPA & Internships & Projects & Workshops\\_Certifications & AptitudeTestScore & SoftSkillsRating & ExtracurricularActivities & PlacementTraining & SSC\\_Marks & HSC\\_Marks & PlacementStatus\\\\\n",
       " <dbl> & <dbl> & <fct> & <fct> & <dbl> & <dbl> & <fct> & <fct> & <dbl> & <dbl> & <dbl>\\\\\n",
       "\\hline\n",
       "\t 7.5 & 1 & 1- & 1  & 65 & 4.4 & No  & No  & 61 & 79 & 0\\\\\n",
       "\t 8.9 & 0 & 3  & 2+ & 90 & 4.0 & Yes & Yes & 78 & 82 & 1\\\\\n",
       "\t 7.3 & 1 & 2  & 2+ & 82 & 4.8 & Yes & No  & 79 & 80 & 0\\\\\n",
       "\\end{tabular}\n"
      ],
      "text/markdown": [
       "\n",
       "A tibble: 3 × 11\n",
       "\n",
       "| CGPA &lt;dbl&gt; | Internships &lt;dbl&gt; | Projects &lt;fct&gt; | Workshops_Certifications &lt;fct&gt; | AptitudeTestScore &lt;dbl&gt; | SoftSkillsRating &lt;dbl&gt; | ExtracurricularActivities &lt;fct&gt; | PlacementTraining &lt;fct&gt; | SSC_Marks &lt;dbl&gt; | HSC_Marks &lt;dbl&gt; | PlacementStatus &lt;dbl&gt; |\n",
       "|---|---|---|---|---|---|---|---|---|---|---|\n",
       "| 7.5 | 1 | 1- | 1  | 65 | 4.4 | No  | No  | 61 | 79 | 0 |\n",
       "| 8.9 | 0 | 3  | 2+ | 90 | 4.0 | Yes | Yes | 78 | 82 | 1 |\n",
       "| 7.3 | 1 | 2  | 2+ | 82 | 4.8 | Yes | No  | 79 | 80 | 0 |\n",
       "\n"
      ],
      "text/plain": [
       "  CGPA Internships Projects Workshops_Certifications AptitudeTestScore\n",
       "1 7.5  1           1-       1                        65               \n",
       "2 8.9  0           3        2+                       90               \n",
       "3 7.3  1           2        2+                       82               \n",
       "  SoftSkillsRating ExtracurricularActivities PlacementTraining SSC_Marks\n",
       "1 4.4              No                        No                61       \n",
       "2 4.0              Yes                       Yes               78       \n",
       "3 4.8              Yes                       No                79       \n",
       "  HSC_Marks PlacementStatus\n",
       "1 79        0              \n",
       "2 82        1              \n",
       "3 80        0              "
      ]
     },
     "metadata": {},
     "output_type": "display_data"
    }
   ],
   "source": [
    "#Pre-process Workshops\n",
    "data <- data %>%\n",
    "  mutate(\n",
    "    Workshops_Certifications = as_factor(Workshops_Certifications),\n",
    "    Workshops_Certifications = fct_collapse(\n",
    "      Workshops_Certifications,\n",
    "      \"2+\" = c(\"2\", \"3\")\n",
    "    )\n",
    "  )\n",
    "#Pre-process Projects\n",
    "data <- data %>%\n",
    "  mutate(\n",
    "    Projects = as_factor(Projects),\n",
    "    Projects = fct_collapse(\n",
    "      Projects,\n",
    "      \"1-\" = c(\"0\", \"1\")\n",
    "    )\n",
    "  )\n",
    "\n",
    "head(data, 3)"
   ]
  },
  {
   "cell_type": "code",
   "execution_count": 97,
   "id": "b6cbe993",
   "metadata": {
    "vscode": {
     "languageId": "r"
    }
   },
   "outputs": [
    {
     "data": {
      "text/html": [
       "<style>\n",
       ".list-inline {list-style: none; margin:0; padding: 0}\n",
       ".list-inline>li {display: inline-block}\n",
       ".list-inline>li:not(:last-child)::after {content: \"\\00b7\"; padding: 0 .5ex}\n",
       "</style>\n",
       "<ol class=list-inline><li>1-</li><li>3</li><li>2</li></ol>\n",
       "\n",
       "<details>\n",
       "\t<summary style=display:list-item;cursor:pointer>\n",
       "\t\t<strong>Levels</strong>:\n",
       "\t</summary>\n",
       "\t<style>\n",
       "\t.list-inline {list-style: none; margin:0; padding: 0}\n",
       "\t.list-inline>li {display: inline-block}\n",
       "\t.list-inline>li:not(:last-child)::after {content: \"\\00b7\"; padding: 0 .5ex}\n",
       "\t</style>\n",
       "\t<ol class=list-inline><li>'1-'</li><li>'2'</li><li>'3'</li></ol>\n",
       "</details>"
      ],
      "text/latex": [
       "\\begin{enumerate*}\n",
       "\\item 1-\n",
       "\\item 3\n",
       "\\item 2\n",
       "\\end{enumerate*}\n",
       "\n",
       "\\emph{Levels}: \\begin{enumerate*}\n",
       "\\item '1-'\n",
       "\\item '2'\n",
       "\\item '3'\n",
       "\\end{enumerate*}\n"
      ],
      "text/markdown": [
       "1. 1-\n",
       "2. 3\n",
       "3. 2\n",
       "\n",
       "\n",
       "\n",
       "**Levels**: 1. '1-'\n",
       "2. '2'\n",
       "3. '3'\n",
       "\n",
       "\n"
      ],
      "text/plain": [
       "[1] 1- 3  2 \n",
       "Levels: 1- 2 3"
      ]
     },
     "metadata": {},
     "output_type": "display_data"
    },
    {
     "data": {
      "text/html": [
       "<style>\n",
       ".list-inline {list-style: none; margin:0; padding: 0}\n",
       ".list-inline>li {display: inline-block}\n",
       ".list-inline>li:not(:last-child)::after {content: \"\\00b7\"; padding: 0 .5ex}\n",
       "</style>\n",
       "<ol class=list-inline><li>1</li><li>2+</li><li>0</li></ol>\n",
       "\n",
       "<details>\n",
       "\t<summary style=display:list-item;cursor:pointer>\n",
       "\t\t<strong>Levels</strong>:\n",
       "\t</summary>\n",
       "\t<style>\n",
       "\t.list-inline {list-style: none; margin:0; padding: 0}\n",
       "\t.list-inline>li {display: inline-block}\n",
       "\t.list-inline>li:not(:last-child)::after {content: \"\\00b7\"; padding: 0 .5ex}\n",
       "\t</style>\n",
       "\t<ol class=list-inline><li>'0'</li><li>'1'</li><li>'2+'</li></ol>\n",
       "</details>"
      ],
      "text/latex": [
       "\\begin{enumerate*}\n",
       "\\item 1\n",
       "\\item 2+\n",
       "\\item 0\n",
       "\\end{enumerate*}\n",
       "\n",
       "\\emph{Levels}: \\begin{enumerate*}\n",
       "\\item '0'\n",
       "\\item '1'\n",
       "\\item '2+'\n",
       "\\end{enumerate*}\n"
      ],
      "text/markdown": [
       "1. 1\n",
       "2. 2+\n",
       "3. 0\n",
       "\n",
       "\n",
       "\n",
       "**Levels**: 1. '0'\n",
       "2. '1'\n",
       "3. '2+'\n",
       "\n",
       "\n"
      ],
      "text/plain": [
       "[1] 1  2+ 0 \n",
       "Levels: 0 1 2+"
      ]
     },
     "metadata": {},
     "output_type": "display_data"
    }
   ],
   "source": [
    "unique(data$Projects)\n",
    "unique(data$Workshops_Certifications)"
   ]
  },
  {
   "cell_type": "markdown",
   "id": "41363cdb",
   "metadata": {},
   "source": [
    "By observing the plot above, I would say there is no clearly noticeable heavy skewness for other covariates that may cause problems in the logistic regression model. However, it is evident that, for example, the **AptitudeTestScore** feature has a high frequency of counts at the value of 90.\n"
   ]
  },
  {
   "cell_type": "markdown",
   "id": "822fb1d8",
   "metadata": {},
   "source": [
    "##### **Two Effective Visualizations**\n",
    "- We will create a boxplot of the numerical covariates (CGPA, HSC_Marks, SSC_Marks, AptitudeTestScore, SoftSkillsRating)\n",
    "- This, notably, excludes 3 numerical columns: `Internships`, `Project`s and `Workshops/Certifications`. This is because these columns have only descretised values, which are 0, 1, 2 or 3. Hence, their range, standard deviation and mean would differ a lot from the other numerical variables and thus won't look well on a single plot. Maybe in the future, we could even convert these column into 'factor' type (categorical variables) if it leads to better prediction.\n",
    "- For the visualisation now, we will scale CGPA and SoftSkillsRating to be on the same scale\n",
    "  - We will multiply CGPA by 10 to shift its range from 0-10 to 0-100\n",
    "   - We will multiply SoftSkillsRating by 20 to shift its range 0-5 to 0-100 <br> This is done so a good comparison can be made visually by just looking at the plot."
   ]
  },
  {
   "cell_type": "code",
   "execution_count": 101,
   "id": "19f6a5f1",
   "metadata": {
    "vscode": {
     "languageId": "r"
    }
   },
   "outputs": [
    {
     "name": "stderr",
     "output_type": "stream",
     "text": [
      "Warning message:\n",
      "\"\u001b[1m\u001b[22mThe following aesthetics were dropped during statistical transformation: \u001b[32mfill\u001b[39m.\n",
      "\u001b[36mℹ\u001b[39m This can happen when ggplot fails to infer the correct grouping structure in\n",
      "  the data.\n",
      "\u001b[36mℹ\u001b[39m Did you forget to specify a `group` aesthetic or to convert a numerical\n",
      "  variable into a factor?\"\n"
     ]
    },
    {
     "data": {
      "image/png": "[encoded data removed]",
      "text/plain": [
       "plot without title"
      ]
     },
     "metadata": {
      "image/png": {
       "height": 420,
       "width": 660
      }
     },
     "output_type": "display_data"
    }
   ],
   "source": [
    "# Main developer: Ashmit Gupta\n",
    "\n",
    "options(repr.plot.width = 11, repr.plot.height = 7)\n",
    "marks_data <- data %>%\n",
    "              mutate(CGPA = CGPA * 10, SoftSkillsRating = SoftSkillsRating * 20) %>% # Scaling CGPA and SoftSkillsRating to be from 1 to 100\n",
    "              pivot_longer(cols = c(CGPA, HSC_Marks, SSC_Marks, AptitudeTestScore, SoftSkillsRating), \n",
    "                           names_to = \"Score_Type\", \n",
    "                           values_to = \"Score\")\n",
    "\n",
    "marks_visualisation <- marks_data %>%\n",
    "                       ggplot(aes(x = Score_Type, y = Score, fill = PlacementStatus)) +\n",
    "                       geom_boxplot() +\n",
    "                       ggtitle(\"Comparison of various scores of students by placement status\") +\n",
    "                       labs(x = \"Score Type\", y = \"Score of the student\") +\n",
    "                       theme(text = element_text(size = 17))\n",
    "                       \n",
    "marks_visualisation"
   ]
  },
  {
   "cell_type": "markdown",
   "id": "775c7af2",
   "metadata": {},
   "source": [
    "This graph is relevant to our research question as it shows the distribution of various possible predictors against the response variable (PlacementStatus). It shows that in general, the students who are placed tend to have a higher median score in the respective academic (or soft skill) category compared to the students who did not get placed."
   ]
  },
  {
   "cell_type": "markdown",
   "id": "ac444cf4",
   "metadata": {},
   "source": [
    "#### Multicollinearlity\n",
    "To detect whether there's a multicollinearlity issue in the independent variables, we examine it by both the correlation matrix and the variance inflation factor (VIF). "
   ]
  },
  {
   "cell_type": "code",
   "execution_count": 102,
   "id": "1be0cb6f",
   "metadata": {
    "vscode": {
     "languageId": "r"
    }
   },
   "outputs": [
    {
     "data": {
      "image/png": "[encoded data removed]",
      "text/plain": [
       "Plot with title \"Correlation Matrix\""
      ]
     },
     "metadata": {
      "image/png": {
       "height": 900,
       "width": 900
      }
     },
     "output_type": "display_data"
    }
   ],
   "source": [
    "\n",
    "options(repr.plot.width = 15, repr.plot.height = 15)\n",
    "\n",
    "numeric_data <- data %>% select_if(is.numeric)\n",
    "cor_matrix <- cor(numeric_data, use = \"complete.obs\")\n",
    "\n",
    "corrplot(cor_matrix,\n",
    "         method = \"color\",\n",
    "         type = \"upper\",\n",
    "         order = \"hclust\",\n",
    "         tl.col = \"black\",\n",
    "         tl.srt = 45,\n",
    "         col = colorRampPalette(c(\"red\", \"white\", \"blue\"))(200),\n",
    "         title = \"Correlation Matrix\",\n",
    "         mar = c(0,0,1,0),\n",
    "         addCoef.col = \"black\",\n",
    "         number.cex = 0.9\n",
    ")\n"
   ]
  },
  {
   "cell_type": "markdown",
   "id": "1f2805c7",
   "metadata": {},
   "source": [
    "The correlation matrix heatmap indicates all pairs in continuous variables have a positive relationship, moreover, the correlation coefficient between any two pairs are lower than 0.6, suggesting no strong correlation. Therefore, multicollinearlity issue is not concerning at this stage.\n",
    "\n",
    "Next, we will use VIF to detect whether multicollinearlity issue exist among both continuous and categorical independent variables. "
   ]
  },
  {
   "cell_type": "code",
   "execution_count": 109,
   "id": "67f66358",
   "metadata": {
    "vscode": {
     "languageId": "r"
    }
   },
   "outputs": [
    {
     "name": "stderr",
     "output_type": "stream",
     "text": [
      "Warning message:\n",
      "\"glm.fit: algorithm did not converge\"\n"
     ]
    },
    {
     "data": {
      "image/png": "[encoded data removed]",
      "text/plain": [
       "Plot with title \"VIF Values for Each Variable\""
      ]
     },
     "metadata": {
      "image/png": {
       "height": 900,
       "width": 900
      }
     },
     "output_type": "display_data"
    }
   ],
   "source": [
    "# Main contributor: Jolin Lin\n",
    "library(dplyr)\n",
    "library(car)  # for vif()\n",
    "\n",
    "# 1) Convert or drop columns; create 0/1 target\n",
    "vif_data <- data %>%\n",
    "  mutate(\n",
    "    EA_dummy = ifelse(ExtracurricularActivities == \"Yes\", 1, 0),\n",
    "    PT_dummy = ifelse(PlacementTraining == \"Yes\", 1, 0),\n",
    "    Target   = ifelse(PlacementStatus == \"Placed\", 1, 0)\n",
    "  ) %>%\n",
    "  select(-ExtracurricularActivities, -PlacementTraining, -PlacementStatus)\n",
    "\n",
    "# 2) Fit logistic model\n",
    "model_vif <- glm(Target ~ ., data = vif_data, family = \"binomial\")\n",
    "\n",
    "# 3) Compute VIF\n",
    "vif_value <- vif(model_vif)\n",
    "\n",
    "# 4) Barplot with a customized y‐axis limit\n",
    "max_vif <- max(vif_value)\n",
    "\n",
    "barplot(\n",
    "  vif_value,\n",
    "  main      = \"VIF Values for Each Variable\",\n",
    "  names.arg = names(vif_value),\n",
    "  las       = 2,            # make labels vertical\n",
    "  cex.names = 1,\n",
    "  ylim      = c(0, max_vif + 0.5)  # set upper limit slightly above max\n",
    ")"
   ]
  },
  {
   "cell_type": "markdown",
   "id": "a2a254e1",
   "metadata": {},
   "source": [
    "The VIF value for each variable are between 1 to 1.5, suggesting a low correlation between predictor variables. Same as the result concluded by correlation matrix, VIF suggests multicollinearlity issue is not concerning at this stage."
   ]
  },
  {
   "cell_type": "markdown",
   "id": "99012f3a",
   "metadata": {},
   "source": [
    "### **2.3) Methods: Plan**\n",
    "\n",
    "#### **Method Used and Justifications**\n",
    "For this prediction assignment, we propose using **Logistic Regression** to model and analyze the relationship between students' various measurements and their placement status.\n",
    "\n",
    "#### Why is this method appropriate?\n",
    "**Logistic Regression** is well-suited for binary classification problems because it models  the log-odds of the outcome as a linear function of explanatory variables. This allows us to quantify the **strength of association** between each explanatory variables and the likelihood of being placed for a job.\n",
    "\n",
    "Also, it is easy to implement and interpret. The coefficients provide direct insight into how each covariate affects the log-odds of being placed or not, and p-values and confidence intervals (CIs) for the model coefficients are straightforward to generate. This is particularly valuable when I need to explain the model's decisions to non-technical stakeholders.\n",
    "\n",
    "##### Which assumptions are required to apply the method selected?\n",
    "* **Independence of Observations**: Each observation should be independent of the others.\n",
    "* **Binary Response**: The response variable is binary.\n",
    "* **Sample Size**: The sample size is large enough (which is satisfied in our case).\n",
    "* **Linearity**: There should be a linear relationship between the independent variables (explanatory) and the log odds of the dependent variable (response).\n",
    "* **Multicollinearity**: After data cleaning, there should be little or no multicollinearity among the independent variables.\n",
    "\n",
    "##### Potential Limitations or Weaknesses of the Method Selected\n",
    "* **Model Simplicity**: While logistic regression is straightforward, it may not capture complex non-linear relationships or interactions among variables as effectively as more advanced methods. Although it offers great interpretability, it might not provide the highest predictive accuracy compared to more complex models.\n",
    "* **Outliers and Class Imbalance**: Logistic Regression is sensitive to outliers in the covariate space, which can affect the estimated coefficients and potentially skew the model's performance. Additionally, imbalanced classes may affect model performance if not addressed with appropriate techniques.\n"
   ]
  },
  {
   "cell_type": "markdown",
   "id": "491b2611",
   "metadata": {},
   "source": [
    "#### **Feature Selection**"
   ]
  },
  {
   "cell_type": "markdown",
   "id": "6224b2fc",
   "metadata": {},
   "source": []
  },
  {
   "cell_type": "markdown",
   "id": "147c5fd8",
   "metadata": {},
   "source": []
  },
  {
   "cell_type": "markdown",
   "id": "9341e8f0",
   "metadata": {},
   "source": []
  },
  {
   "cell_type": "markdown",
   "id": "6c6394fb",
   "metadata": {},
   "source": []
  },
  {
   "cell_type": "markdown",
   "id": "52a30911",
   "metadata": {},
   "source": [
    "## References\n",
    "- Dataset has downloaded from Kaggle (https://www.kaggle.com/datasets/ruchikakumbhar/placement-prediction-dataset/data)\n",
    "- All the information (like data description, number of variables, number of observations, variable name, variable type and variable description) in the main 'Data Description' section has been adapted from https://www.kaggle.com/datasets/ruchikakumbhar/placement-prediction-dataset/data"
   ]
  }
 ],
 "metadata": {
  "kernelspec": {
   "display_name": "R",
   "language": "R",
   "name": "ir"
  },
  "language_info": {
   "codemirror_mode": "r",
   "file_extension": ".r",
   "mimetype": "text/x-r-source",
   "name": "R",
   "pygments_lexer": "r",
   "version": "4.4.2"
  }
 },
 "nbformat": 4,
 "nbformat_minor": 5
}
